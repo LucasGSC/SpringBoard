{
 "cells": [
  {
   "cell_type": "markdown",
   "metadata": {},
   "source": [
    "# Food UK - Logistic Regression\n",
    "\n",
    "- _Author_: Lucas Gonzalez Santa Cruz\n",
    "- _Workshop_: Data Science Intensive, Springboard.com\n",
    "- _Date_: 3 October 2016\n",
    "\n",
    "# tl;dr\n",
    "\n",
    "_In the UK, since 1974, several thousands of families are selected each year (different families each year). Data is collected about **each family** (about 50 variables: place, number of members of different ages, socioeconomic variables), and about **what each family buys over one week** (3 pints of skimmed milk, 2 pounds sterling; etc). Food items (\"brown bread\") are categorised into food groups (\"breads\"). For each food item, 47 **nutrients** are known (calories, vitamin D, etc)._\n",
    "\n",
    "_I'm interested in food generally, but for this project I will only:_\n",
    "- _define a score of \"shopping-cart goodness\" (more fruit+vegs than junk food)_\n",
    "- _look at how some family variables (income, location, etc) predict a \"good cart\"_"
   ]
  },
  {
   "cell_type": "markdown",
   "metadata": {},
   "source": [
    "# Table of Contents\n",
    "* [Motivation and goals](#1.-Motivation-and-goals)\n",
    "* [Data source and datasets](#2.-Data-source-and-datasets)\n",
    "* [Data wrangling](#3.-Data-wrangling)\n",
    "    * [Initial settings](#Initial-settings)\n",
    "    * [Foods, groups and units](#Foods,-groups-and-units)\n",
    "    * [Weekly food purchases](#Weekly-food-purchases)\n",
    "    * [Families and their variables](#Families-and-their-variables)\n",
    "* [Modeling](#4.-Modeling)\n",
    "    * [Score for good-cart](#Score-for-good-cart)\n",
    "    * [Categories](#Categories)\n",
    "    * [Logistic regression](#Logistic-regression)\n",
    "* [Discussion](#5.-Discussion)"
   ]
  },
  {
   "cell_type": "markdown",
   "metadata": {},
   "source": [
    "# 1. Motivation and goals\n",
    "\n",
    "Food is interesting for many inter-related reasons: food security (poverty, climate change and pandemic disruption), nutritional health (\"blue zones\"), ecological reasons (edible forests), economic developement (jobs), data and automation (mapping images of fields to help agricultural producers).\n",
    "\n",
    "Here I'll use one particular dataset with the intention of learning to use at least one machine language procedure (Logistic Regression). I will look at what types of food are bought by UK families, and attempt to see how some of their demographic variables \"predict\" how healthy is their weekly shopping."
   ]
  },
  {
   "cell_type": "markdown",
   "metadata": {},
   "source": [
    "# 2. Data source and datasets\n",
    "\n",
    "UK families (a different sample each year for many years), have been asked what food they buy for a week.\n",
    "\n",
    "Data between 1974-2000 is open data:\n",
    "* Available at http://britains-diet.labs.theodi.org\n",
    "* Datasets:\n",
    "    * Households: a file with a line per household, and for each of them 53 variables: number of female adults, male adults and children; income; location; etc. Also, many files translating codes to literals: 11=Scotland, 1=household owner is female, etc.\n",
    "    * Purchases: a file with a line per food item bought: a certain household bought, over the course of a week, 6 loaves of brown bread (money paid), 3 pints of skimmed milk (money paid), etc.\n",
    "    * Food groups: several files that put the 300+ food items (\"milk\", \"cheese\") into 20+ food groups (\"milky products\").\n",
    "    * Nutrients: for each food item (and even for 4 \"seasons\" each year) there's information about 47 nutrients (calories, vitamin D, etc).\n",
    "\n",
    "(Data since 2001 is published only in summarised form. We won't be using it here.)\n",
    "\n",
    "I collected the files manually and placed it in one folder for convenience."
   ]
  },
  {
   "cell_type": "markdown",
   "metadata": {},
   "source": [
    "# 3. Data wrangling\n",
    "\n",
    "* We want one line per household.\n",
    "* Household variables: household identifier, year, and the other 50+ variables.\n",
    "* Also for each household: how much of each food they bought."
   ]
  },
  {
   "cell_type": "markdown",
   "metadata": {},
   "source": [
    "## Initial settings"
   ]
  },
  {
   "cell_type": "code",
   "execution_count": 1,
   "metadata": {
    "collapsed": true
   },
   "outputs": [],
   "source": [
    "%matplotlib inline\n",
    "import matplotlib.pyplot as plt\n",
    "import matplotlib as mpl\n",
    "import matplotlib.cm as cm\n",
    "\n",
    "import pandas as pd\n",
    "pd.set_option('display.width', 500)\n",
    "pd.set_option('display.max_columns', 100)\n",
    "pd.set_option('display.notebook_repr_html', True)\n",
    "\n",
    "import numpy as np\n",
    "import scipy as sp\n",
    "\n",
    "from sklearn.linear_model import LogisticRegression\n",
    "from sklearn.cross_validation import train_test_split\n",
    "from sklearn import metrics\n",
    "from sklearn.cross_validation import cross_val_score"
   ]
  },
  {
   "cell_type": "code",
   "execution_count": 2,
   "metadata": {
    "collapsed": true
   },
   "outputs": [],
   "source": [
    "#http://data.defra.gov.uk/Food/NationalFoodSurvey/NFSopen_2000.zip (etc for all years)\n",
    "#http://data.defra.gov.uk/Food/NationalFoodSurvey/NFSopen_Reference.zip\n",
    "data = 'data/'\n",
    "data2000 = 'data/NFSopen_2000/'\n",
    "dataRefe = 'data/NFSopen_Reference/'"
   ]
  },
  {
   "cell_type": "markdown",
   "metadata": {},
   "source": [
    "## Foods, groups and units\n",
    "\n",
    "There are several files describing the food codes, groups, and units.\n",
    "\n",
    "Essentially, there are 315 food codes (each measured in pints or grams etc), grouped into 24 group. Each group has between 1 and 50 different foods."
   ]
  },
  {
   "cell_type": "code",
   "execution_count": 3,
   "metadata": {
    "collapsed": true
   },
   "outputs": [],
   "source": [
    "#315 detailed \"minor\" foodcodes ...\n",
    "df_min_maj = pd.DataFrame.from_csv(dataRefe+'Ref_ Minor and major foods.txt', sep='\\t', index_col=None)\n",
    "df_min_maj.columns=['minor', 'minor_text', 'major']\n",
    "\n",
    "#... then aggregated into 184 \"major\" groups.\n",
    "df_maj_text = pd.DataFrame.from_csv(dataRefe+'Ref_ Major food codes.txt', sep='\\t', index_col=None)\n",
    "df_maj_text.columns=['major', 'major_text']\n",
    "\n",
    "#24 more aggregated \"groups\" were defined, and the 183 previous \"detailed groups\" were mapped to these 24.\n",
    "df_grp_text = pd.DataFrame.from_csv(dataRefe+'Ref_ food groups (standard).txt', sep='\\t', index_col=None)\n",
    "df_grp_text.columns=['group','group_text']\n",
    "\n",
    "#A \"mapping\" file with 596 rows ...\n",
    "df_mapping = pd.DataFrame.from_csv(dataRefe+'Ref_ Major-food group mapping.txt', sep='\\t', index_col=None)\n",
    "df_mapping.columns=['major','group']\n",
    "\n",
    "#... had 92 groups, and those 24 had to be selected.\n",
    "group24 = [4006, 9017, 22023, 31041, 46094, 100127, 129129, 135148, 150154, 155161, 162171, 172183, \\\n",
    "           184208, 210231, 233248, 251263, 264264, 267277, 281301, 304313, 314339, 340344, 350354, 380389]\n",
    "df_maj_group = df_mapping[df_mapping['group'].isin(group24) == True] #shape 183x2"
   ]
  },
  {
   "cell_type": "code",
   "execution_count": 4,
   "metadata": {
    "collapsed": true
   },
   "outputs": [],
   "source": [
    "#Each \"foodcode\" (all 315 of them) is described with one of 7 \"units\": pints, ounces, etc.\n",
    "df_min_units = pd.DataFrame.from_csv(dataRefe+'Ref_MINFD_Minor_food_codes.txt', sep='\\t', index_col=None)\n",
    "df_min_units.columns=['minor','minor_text','units']\n",
    "df_min_units.drop(['minor_text'], inplace=True, axis=1) #to avoid duplicate later"
   ]
  },
  {
   "cell_type": "code",
   "execution_count": 5,
   "metadata": {
    "collapsed": true
   },
   "outputs": [],
   "source": [
    "# ===== df_groups 315 groups x 6 fields: minor, minor_text, major, major_text, group, group_text\n",
    "df = pd.merge(df_min_maj, df_maj_text, how='left', on='major')\n",
    "df = pd.merge(df, df_maj_group, how='left', on='major')\n",
    "df = pd.merge(df, df_grp_text, how='left', on='group')\n",
    "df_groups = df"
   ]
  },
  {
   "cell_type": "code",
   "execution_count": 6,
   "metadata": {
    "collapsed": false
   },
   "outputs": [
    {
     "name": "stdout",
     "output_type": "stream",
     "text": [
      "315 food items, each with 6  variables: ['minor', 'minor_text', 'major', 'major_text', 'group', 'group_text']\n"
     ]
    }
   ],
   "source": [
    "print len(df), \"food items, each with\", len(df.columns),\" variables:\", list(df.columns.values)"
   ]
  },
  {
   "cell_type": "code",
   "execution_count": 7,
   "metadata": {
    "collapsed": false
   },
   "outputs": [
    {
     "name": "stdout",
     "output_type": "stream",
     "text": [
      "And each group may have foods of very different nutritional quality:\n",
      "\n",
      "Group LIQUID WHOLEMILK, INC SCHOOL & WELFARE has 6 different foods: \n",
      "['MILK  LIQUID  FULL PRICE' 'UHT LIQUID MILK, FULL PRICE'\n",
      " 'STERILISED MILK, FULL PRICE' 'OTHER LIQUID MILK, FULL PRICE'\n",
      " 'MILK  LIQUID  WELFARE' 'MILK  LIQUID  SCHOOL']\n",
      "\n",
      "Group OTHER MILK & CREAM has 14 different foods: \n",
      "['MILK  CONDENSED' 'MILK  DRIED  NATIONAL' 'INFANT MILKS' 'MILK  INSTANT'\n",
      " 'YOGHURT' 'FROMAGE FRAIS' 'SKIMMED MILK' 'FULLY SKIMMED MILK'\n",
      " 'SEMI AND OTHER SKIMMED MILKS' 'OTHER MILK, INC SKIMMED'\n",
      " 'OTHER MILK, NOT SKIMMED' 'DAIRY DESSERTS' 'OTHER MILKS' 'CREAM']\n",
      "\n",
      "Group TOTAL CHEESE has 7 different foods: \n",
      "['CHEESE NAT HARD CHEDDAR AND CHEDDAR TYPE'\n",
      " 'CHEESE NAT HARD OTHER UK VAR & FOR EQUIV'\n",
      " 'CHEESE NAT HARD EDAM & OTHER CONTINENTAL' 'CHEESE NATURAL SOFT'\n",
      " 'COTTAGE CHEESE' 'OTHER CHEESE NATURAL SOFT' 'CHEESE PROCESSED']\n",
      "\n",
      "Group ALL CARCASE MEAT has 17 different foods: \n",
      "['BEEF STEAK INCL STEWING AND STK & KIDNEY'\n",
      " 'BEEF JOINTS ON THE BONE INCL SIDES' 'BEEF JOINTS BONED'\n",
      " 'BEEF STEAK (LESS EXPENSIVE)' 'BEEF STEAK (MORE EXPENSIVE)' 'BEEF MINCED'\n",
      " 'ALL OTHER BEEF, AND VEAL' 'VEAL' 'ALL OTHER BEEF' 'MUTTON'\n",
      " 'LAMB JOINTS INCL SIDES' 'LAMB CHOPS INCL CUTLETS & FILLETS'\n",
      " 'ALL OTHER LAMB' 'PORK JOINTS INCL SIDES' 'PORK CHOPS'\n",
      " 'PORK FILLETS AND STEAKS' 'ALL OTHER PORK']\n",
      "\n",
      "Group ALL NON-CARCASE MEAT AND MEAT PRODUCTS has 50 different foods: \n",
      "['ALL LIVER' 'OX AND CALVES LIVER' 'OX LIVER' 'LAMBS LIVER' 'PIGS LIVER'\n",
      " 'OTHER LIVER (EXC. CALVES LIVER)' 'OTHER LIVER (INC. CALVES LIVER)'\n",
      " 'OFFALS  (OTHER  THAN LIVER)' 'BACON  &  HAM  UNCOOKED'\n",
      " 'BACON & HAM UNCOOKED JOINTS' 'BACON & HAM UNCOOKED RASHERS PREPACKED'\n",
      " 'BACON & HAM UNCOOKED RASHERS NOT PREPCKD'\n",
      " 'BACON  &  HAM  COOKED (INCL CANNED)' 'COOKED POULTRY (INCL CANNED)'\n",
      " 'COOKED POULTRY NOT PURCHASED IN CANS'\n",
      " 'COOKED POULTRY NOT PURCHASED IN CANS' 'TAKEAWAY COOKED POULTRY'\n",
      " 'CORNED MEAT' 'OTHER COOKED MEAT (NOT PURCH IN CANS)'\n",
      " 'OTHER CANNED MEAT (EXCL POULTRY)'\n",
      " 'OTHER CANNED MEAT AND CANNED MEAT PRODS'\n",
      " 'BROILER CHICKEN UNCOOKED (INCL FROZEN)'\n",
      " 'OTHER POULTRY UNCOOKED (INCL FROZEN)' 'CHICKEN UNCOOKED NOT BROILER'\n",
      " 'TURKEY UNCOOKED' 'POULTRY UNCOOKED NOT CHICKEN OR TURKEY'\n",
      " 'RABBIT  &  OTHER  MEAT' 'SAUSAGES  UNCOOKED  PORK'\n",
      " 'SAUSAGES  UNCOOKED  BEEF' 'MEAT PIES & SAUSAGE ROLLS READY-TO-EAT'\n",
      " 'MEAT PIES, READY-TO-EAT' 'SAUSAGE ROLLS, READY-TO-EAT'\n",
      " 'FROZEN CONV MEAT/MEAT PRODS' 'FROZEN BURGERS'\n",
      " 'OTHER FROZEN CONVENIENCE MEATS' 'FROZEN MEAT PIES PASTIES AND PUDDINGS'\n",
      " 'OTHER FROZEN CONVENIENCE MEATS' 'PATE' 'DELICATESSEN-TYPE SAUSAGE'\n",
      " 'OTHER MEAT PRODUCTS' 'DELICATESSEN-TYPE SAUSAGES'\n",
      " 'MEAT PASTES AND SPREADS' 'MEAT PIES PASTIES PUDDINGS' 'READY MEALS'\n",
      " 'OTHER MEAT PRODUCTS NSE' 'MEAT PIES, PASTIES & PUDDINGS'\n",
      " 'TAKEAWAY MEAT PIES PASTIES & PUDDINGS' 'READY MEALS'\n",
      " 'TAKEAWAY READY MEALS' 'OTHER MEAT PRODUCTS NOT CLASSIFIED ELSWH']\n",
      "\n",
      "Group ALL FISH has 19 different foods: \n",
      "['FISH  WHITE  FILLETED FRESH' 'FISH  WHITE  UNFILLETED FRESH'\n",
      " 'FISH  WHITE  UNCOOKED FROZEN' 'FISH  HERRING  FILLETED FRESH'\n",
      " 'FISH  HERRING  UNFILLETED FRESH' 'FISH  FAT OTHER THAN HERRING FRESH'\n",
      " 'FISH FRESH SALMON' 'FISH FRESH BLUE NOT SALMON OR HERRING'\n",
      " 'FISH  WHITE  PROCESSED' 'FISH  FAT  PROCESSED FILLETED'\n",
      " 'FISH  FAT  PROCESSED UNFILLETED' 'FISH  SHELL' 'FISH  COOKED'\n",
      " 'SALMON  CANNED' 'OTHER  CANNED  OR  BOTTLED  FISH'\n",
      " 'FISH PRODUCTS NOT FROZEN' 'FISH PRODUCTS NOT FROZEN'\n",
      " 'TAKEAWAY FISH PRODUCTS' 'FROZEN CONV FISH PRODS']\n",
      "\n",
      "Group EGGS has 1 different foods: \n",
      "['EGGS']\n",
      "\n",
      "Group ALL FATS has 17 different foods: \n",
      "['BUTTER NEW ZEALAND' 'BUTTER DANISH' 'BUTTER UK' 'ALL OTHER BUTTER'\n",
      " 'MARGARINE SOFT' 'MARGARINE OTHER' 'LARD & COMPOUND COOKING FAT'\n",
      " 'VEGETABLE COOKING OILS' 'SALAD OILS' 'VEGETABLE & SALAD OILS'\n",
      " 'ALL OTHER FATS INC LOW FAT SPREADS' 'REDUCED FAT SPREADS'\n",
      " 'LOW-FAT SPREADS' 'OTHER FATS' 'SUET & DRIPPING (SUET ONLY 72-75)'\n",
      " 'DRIPPING' 'OTHER FATS N.E.S.']\n",
      "\n",
      "Group SUGAR AND PRESERVES has 5 different foods: \n",
      "['SUGAR' 'JAMS  JELLIES  FRUIT  CURDS' 'MARMALADE' 'SYRUP & TREACLE'\n",
      " 'HONEY']\n",
      "\n",
      "Group POTATOES has 12 different foods: \n",
      "['POTS PREV YRS CROP PURCH JAN-AUG' 'POTS CURR YRS CROP PURCH JAN-AUG'\n",
      " 'POTS CURR YRS CROP PURCH SEPT-DEC'\n",
      " 'POTS PREV YRS CROP LOOSE PURCH JAN-AUG'\n",
      " 'POTS PREV YRS CROP UNSPEC PURCH JAN-AUG'\n",
      " 'POTS PREV YRS CROP P/P PURCH JAN/AUG'\n",
      " 'POTS CURR YRS CROP LOOSE PURCH JAN-AUG'\n",
      " 'POTS CURR YRS CROP UNSPEC PURCH JAN-AUG'\n",
      " 'POTS CURR YRS CROP P/P PURCH JAN/AUG'\n",
      " 'POTS CURR YRS CROP LOOSE PURCH SEPT-DEC'\n",
      " 'POTS CURR YRS CROP UNSPEC PURCH SEP-DEC'\n",
      " 'POTS CURR YRS CROP P/P PURCH SEP/DEC']\n",
      "\n",
      "Group FRESH GREEN VEGETABLES has 7 different foods: \n",
      "['CABBAGES  FRESH' 'BRUSSELS  FRESH' 'CAULIFLOWERS  FRESH'\n",
      " 'LEAFY SALADS FRESH' 'PEAS  FRESH' 'BEANS  FRESH'\n",
      " 'OTHER  FRESH  GREEN  VEGETABLES']\n",
      "\n",
      "Group OTHER FRESH VEGETABLES has 8 different foods: \n",
      "['CARROTS  FRESH' 'TURNIPS  AND  SWEDES  FRESH' 'OTHER  ROOT  VEG  FRESH'\n",
      " 'ONIONS  LEEKS  SHALLOTS  FRESH' 'CUCUMBERS  FRESH' 'MUSHROOMS  FRESH'\n",
      " 'TOMATOES  FRESH' 'MISC  FRESH  VEGETABLES']\n",
      "\n",
      "Group ALL PROCESSED VEGETABLES has 22 different foods: \n",
      "['TOMATOES  CANNED  &  BOTTLED' 'PEAS  CANNED' 'BEANS  CANNED'\n",
      " 'BAKED BEANS IN SAUCE' 'OTHER CANNED BEANS AND PULSES'\n",
      " 'OTHER CANNED VEG (NOT POTS TOMS PULSES)'\n",
      " 'DRIED  PULSES  OTHER  THAN  AIR-DRIED' 'AIR-DRIED  VEGETABLES'\n",
      " 'VEGETABLE  JUICES' 'CHIPS EXCL FROZEN' 'INSTANT  POTATO' 'CANNED  POTATO'\n",
      " 'CRISPS & OTHER POTATO PRODS NOT FROZEN' 'CRISPS AND POTATO SNACKS'\n",
      " 'OTHER POTATO PRODUCTS (NOT FROZEN)' 'OTHER  VEG  PRODUCTS'\n",
      " 'OTHER VEGETABLE PRODUCTS' 'OTHER VEGETABLE PRODUCTS TAKEAWAY'\n",
      " 'FROZEN PEAS' 'FROZEN BEANS' 'FROZEN CHIPS/OTHER POTATO PRODS'\n",
      " 'ALL FROZEN VEG/VEG PRODS NOT SPEC ABOVE']\n",
      "\n",
      "Group FRESH FRUIT has 10 different foods: \n",
      "['ORANGES  FRESH' 'OTHER CITRUS FRUIT FRESH' 'APPLES  FRESH' 'PEARS  FRESH'\n",
      " 'STONE  FRUIT  FRESH' 'GRAPES  FRESH' 'SOFT FRUIT FRESH OTHER THAN GRAPES'\n",
      " 'BANANAS  FRESH' 'RHUBARB  FRESH' 'OTHER  FRESH  FRUIT']\n",
      "\n",
      "Group FRUIT & FRUIT PRODS. NOT FRESH has 6 different foods: \n",
      "['CANNED PEACHES PEARS & PINEAPPLES' 'OTHER  CANNED  OR  BOTTLED  FRUIT'\n",
      " 'DRIED  FRUIT  &  DRIED  FRUIT  PRODS' 'FROZEN FRUIT/FRUIT PRODS'\n",
      " 'NUTS  &  NUT  PRODUCTS' 'FRUIT  JUICES']\n",
      "\n",
      "Group nan has 0 different foods: \n",
      "[]\n",
      "\n",
      "Group ALL BREAD has 22 different foods: \n",
      "['BREAD  WHITE  LARGE  UNSLICED' 'BREAD WHITE UNSLICED STANDARD'\n",
      " 'BREAD  WHITE  LARGE  SLICED' 'BREAD WHITE SLICED STANDARD'\n",
      " 'BREAD  WHITE  SMALL  UNSLICED' 'BREAD  WHITE  SMALL  SLICED'\n",
      " 'BREAD  BROWN' 'BREAD  WHOLEWHEAT  &  WHOLEMEAL'\n",
      " 'BREAD WHITE SLICED PREMIUM' 'BREAD WHITE SLICED SOFT GRAIN'\n",
      " 'BREAD BROWN SLICED' 'BREAD WHOLEMEAL SLICED' 'BREAD BROWN UNSLICED'\n",
      " 'BREAD WHOLEMEAL UNSLICED' 'BREAD  OTHER' 'ROLLS  (EXCL STARCH-REDUCED)'\n",
      " 'MALT BREAD AND FRUIT BREAD' 'VIENNA BREAD AND FRENCH BREAD'\n",
      " 'STARCH REDUCED BREAD AND ROLLS' 'OTHER BREAD' 'SANDWICHES' 'OTHER BREAD']\n",
      "\n",
      "Group FLOUR has 1 different foods: \n",
      "['FLOUR']\n",
      "\n",
      "Group BISCUITS, CAKES, BUNS, CRISPBREADS has 7 different foods: \n",
      "['BUNS  SCONES  &  TEACAKES' 'CAKES  &  PASTRIES' 'CRISPBREAD'\n",
      " 'BISCUITS OTHER THAN CHOCOLATE' 'SWEET BISCUITS OTHER THAN CHOCOLATE'\n",
      " 'UNSWEETENED BISCUITS' 'BISCUITS, CHOCOLATE']\n",
      "\n",
      "Group CEREALS, EXCL. BREAD,BUNS,CAKES,BISCUITS has 33 different foods: \n",
      "['OATMEAL  &  OAT  PRODUCTS' 'BREAKFAST  CEREALS' 'MUESLI'\n",
      " 'OTHER HIGH FIBRE BREAKFAST CEREALS' 'SWEETENED BREAKFAST CEREALS'\n",
      " 'OTHER BREAKFAST CEREALS' 'CANNED  MILK  PUDDINGS' 'OTHER  PUDDINGS'\n",
      " 'RICE' 'DRIED RICE' 'COOKED RICE'\n",
      " 'CEREAL-BASED INVALID-INCL SLIMMING-FOODS' 'INFANT FOODS'\n",
      " 'FROZEN CONV CEREAL FOODS' 'FROZEN CAKES AND PASTRIES'\n",
      " 'OTHER FROZEN CONVENIENCE CEREAL FOODS' 'FROZEN PIZZA'\n",
      " 'OTHER FROZEN CONVENIENCE CEREAL FOODS' 'OTHER CEREAL CONVENIENCE FOODS'\n",
      " 'CAKE TART SPONGE AND PUDDING MIXES' 'CANNED PASTA' 'SAUCE MIXES'\n",
      " 'OTHER CEREAL CONV FOODS (INC CANNED) NSE' 'PIZZA'\n",
      " 'CAKE, PUDDING AND DESSERT MIXES' 'OTHER CEREAL CONVENIENCE FOODS'\n",
      " 'CEREAL SNACKS' 'OTHER CEREAL CONVENIENCE FOODS' 'PIZZA' 'TAKEAWAY PIZZA'\n",
      " 'OTHER CEREAL CONVENIENCE FOODS' 'PASTA' 'OTHER CEREAL FOODS']\n",
      "\n",
      "Group BEVERAGES has 6 different foods: \n",
      "['TEA' 'COFFEE  BEAN  &  GROUND' 'COFFEE  INSTANT  (INCL  AFD)'\n",
      " 'COFFEE  ESSENCES' 'COCOA  &  DRINKING  CHOCOLATE' 'BRANDED  FOOD  DRINKS']\n",
      "\n",
      "Group ALL OTHER FOODS has 23 different foods: \n",
      "['MINERAL WATERS' 'BABY  FOODS  CANNED  OR  BOTTLED' 'SOUPS  CANNED'\n",
      " 'SOUPS  CANNED CONDENSED' 'SOUPS  CANNED  OTHER'\n",
      " 'SOUPS  DEHYDRATED  &  POWDERED' 'AFD  FOODS  (EXCL  COFFEE)'\n",
      " 'SPREADS  &  DRESSINGS' 'SALAD DRESSINGS' 'OTHER SPREADS AND DRESSINGS'\n",
      " 'PICKLES  &  SAUCES' 'MEAT AND YEAST EXTRACTS'\n",
      " 'TABLE  JELLY  SQUARES  &  CRYSTALS'\n",
      " 'ICE-CREAM (AS PART OF A MEAL) MOUSSE' 'ICE-CREAM, MOUSSE' 'ICECREAM'\n",
      " 'ALL FROZEN CONVENIENCE FOODS NSE' 'ICECREAM PRODUCTS'\n",
      " 'OTHER FROZEN DAIRY FOODS AND ICES' 'SALT'\n",
      " 'ARTIFICIAL SWEETENERS - EXP ONLY' 'MISCELLANEOUS - EXP ONLY'\n",
      " 'NOVEL PROTEIN FOODS']\n",
      "\n",
      "Group SOFT DRINKS has 5 different foods: \n",
      "['SOFT DRINKS CONCENTRATED' 'SOFT DRINKS UNCONCENTRATED'\n",
      " 'SOFT DRINKS LOW CALORIE' 'LOW CALORIE SOFT DRINKS CONCENTRATED'\n",
      " 'LOW CALORIE SOFT DRINKS UNCONCENTRATED']\n",
      "\n",
      "Group CONFECTIONERY has 6 different foods: \n",
      "['SOLID CHOCOLATE' 'CHOCOLATE COATED FILLED BAR/SWEETS' 'CHEWING GUM'\n",
      " 'HARD PRESSED MINTS' 'BOILED SWEETS' 'FUDGE, TOFFEES, CARAMELS']\n",
      "\n",
      "Group ALCOHOLIC DRINKS has 10 different foods: \n",
      "['LOW ALCOHOL BEERS, LAGERS AND CIDERS' 'BEERS'\n",
      " 'LAGERS AND CONTINENTAL BEERS' 'CIDERS AND PERRY' 'WINE'\n",
      " 'LA WINE, WINE AND SPIRITS WITH ADDITIONS' 'FORTIFIED WINES' 'SPIRITS'\n",
      " 'LIQUEURS AND COCKTAILS' 'ALCOHOLIC CARBONATES']\n"
     ]
    }
   ],
   "source": [
    "#print \"\\nThe 24 food-groups each have a different number of food-items:\"\n",
    "#df.groupby('group_text').minor.nunique()\n",
    "print \"And each group may have foods of very different nutritional quality:\"\n",
    "df = df_groups\n",
    "list_of_groups = df.group_text.unique()\n",
    "for g in list_of_groups:\n",
    "    list_of_foods = df[df.group_text == g].minor_text\n",
    "    print \"\\nGroup\", g, \"has\", len(list_of_foods), \"different foods:\", \"\\n\", list_of_foods.as_matrix()"
   ]
  },
  {
   "cell_type": "markdown",
   "metadata": {},
   "source": [
    "## Weekly food purchases"
   ]
  },
  {
   "cell_type": "code",
   "execution_count": 8,
   "metadata": {
    "collapsed": false
   },
   "outputs": [
    {
     "name": "stdout",
     "output_type": "stream",
     "text": [
      "DIARY ENTRIES: in 1995-2000, 42960 families bought 1581381 items, 243 foods in 24 groups.\n",
      "14 variables: ['hhno', 'fooditem', 'logday', 'purchasevalue', 'minor', 'quantity', 'purchasefree', 'survyear', 'minor_text', 'major', 'units', 'major_text', 'group', 'group_text']\n"
     ]
    }
   ],
   "source": [
    "df_purc1995 = pd.DataFrame.from_csv(data+'1995 diary data.txt', sep='\\t', index_col=None)\n",
    "df_purc1995['survyear'] = '1995'\n",
    "df_purc1996 = pd.DataFrame.from_csv(data+'1996 diary data.txt', sep='\\t', index_col=None)\n",
    "df_purc1996['survyear'] = '1996'\n",
    "df_purc1997 = pd.DataFrame.from_csv(data+'1997 diary data.txt', sep='\\t', index_col=None)\n",
    "df_purc1997['survyear'] = '1997'\n",
    "df_purc1998 = pd.DataFrame.from_csv(data+'1998 diary data.txt', sep='\\t', index_col=None)\n",
    "df_purc1998['survyear'] = '1998'\n",
    "df_purc1999 = pd.DataFrame.from_csv(data+'1999 diary data.txt', sep='\\t', index_col=None)\n",
    "df_purc1999['survyear'] = '1999'\n",
    "df_purc2000 = pd.DataFrame.from_csv(data+'2000 diary data.txt', sep='\\t', index_col=None)\n",
    "df_purc2000['survyear'] = '2000'\n",
    "list_of_years = [df_purc1995, df_purc1996, df_purc1997, df_purc1998, df_purc1999, df_purc2000]\n",
    "df = pd.concat(list_of_years)\n",
    "df.columns=['hhno', 'fooditem', 'logday', 'purchasevalue', 'minor', 'quantity', 'purchasefree', 'survyear']\n",
    "df_diary8 = df\n",
    "\n",
    "# ===== idem + adding \"_text\", \"group\" and \"unit\" variables\n",
    "df = pd.merge(df_diary8, df_min_maj, how='left', on='minor')\n",
    "df = pd.merge(df, df_min_units, how='left', on='minor')\n",
    "df = pd.merge(df, df_maj_text, how='left', on='major')\n",
    "df = pd.merge(df, df_maj_group, how='left', on='major')\n",
    "df = pd.merge(df, df_grp_text, how='left', on='group')\n",
    "\n",
    "# ===== DIARY WITH 14, 10 or 6 VARIABLES\n",
    "df_diary14 = df\n",
    "df_diary10 = df[['survyear', 'hhno', 'quantity', 'units', 'minor_text', \\\n",
    "                 'group_text', 'minor', 'major', 'major_text', 'group']]\n",
    "df_diary6  = df[['survyear', 'hhno', 'minor_text', 'quantity', 'units', 'group_text']]\n",
    "\n",
    "df = df_diary14\n",
    "print \"DIARY ENTRIES: in 1995-2000, {0:4} families bought {1:6} items, {2:3} foods in {3:2} groups.\".\\\n",
    "    format(len(df.hhno.unique()), len(df), len(df.minor_text.unique()), len(df.group_text.unique()))\n",
    "print len(df.columns), \"variables:\", list(df.columns.values)"
   ]
  },
  {
   "cell_type": "markdown",
   "metadata": {},
   "source": [
    "## Families and their variables"
   ]
  },
  {
   "cell_type": "code",
   "execution_count": 9,
   "metadata": {
    "collapsed": false
   },
   "outputs": [
    {
     "name": "stdout",
     "output_type": "stream",
     "text": [
      "Number of households: 43624\n"
     ]
    }
   ],
   "source": [
    "df_hous1995 = pd.DataFrame.from_csv(data+'1995 household data.txt', sep='\\t', index_col=None)\n",
    "df_hous1995['survyear'] = '1995'\n",
    "df_hous1996 = pd.DataFrame.from_csv(data+'1996 household data.txt', sep='\\t', index_col=None)\n",
    "df_hous1996['survyear'] = '1996'\n",
    "df_hous1997 = pd.DataFrame.from_csv(data+'1997 household data.txt', sep='\\t', index_col=None)\n",
    "df_hous1997['survyear'] = '1997'\n",
    "df_hous1998 = pd.DataFrame.from_csv(data+'1998 household data.txt', sep='\\t', index_col=None)\n",
    "df_hous1998['survyear'] = '1998'\n",
    "df_hous1999 = pd.DataFrame.from_csv(data+'1999 household data.txt', sep='\\t', index_col=None)\n",
    "df_hous1999['survyear'] = '1999'\n",
    "df_hous2000 = pd.DataFrame.from_csv(data+'2000 household data.txt', sep='\\t', index_col=None)\n",
    "df_hous2000['survyear'] = '2000'\n",
    "\n",
    "list_of_years = [df_hous1995, df_hous1996, df_hous1997, df_hous1998, df_hous1999, df_hous2000]\n",
    "df = pd.concat(list_of_years)\n",
    "print \"Number of households:\", len(df) #len(df.columns), list(df.columns.values) #minor inconsistency with 42960 above\n",
    "df_households = df"
   ]
  },
  {
   "cell_type": "markdown",
   "metadata": {},
   "source": [
    "### 53 initial variables for each family"
   ]
  },
  {
   "cell_type": "code",
   "execution_count": 10,
   "metadata": {
    "collapsed": false
   },
   "outputs": [
    {
     "data": {
      "text/html": [
       "<div>\n",
       "<table border=\"1\" class=\"dataframe\">\n",
       "  <thead>\n",
       "    <tr style=\"text-align: right;\">\n",
       "      <th></th>\n",
       "      <th>field</th>\n",
       "      <th>field_text</th>\n",
       "      <th>lookup</th>\n",
       "      <th>notes</th>\n",
       "    </tr>\n",
       "  </thead>\n",
       "  <tbody>\n",
       "    <tr>\n",
       "      <th>0</th>\n",
       "      <td>hhno</td>\n",
       "      <td>household number</td>\n",
       "      <td>NaN</td>\n",
       "      <td>NaN</td>\n",
       "    </tr>\n",
       "    <tr>\n",
       "      <th>1</th>\n",
       "      <td>gormet2</td>\n",
       "      <td>government office region metropolitan county</td>\n",
       "      <td>DCV: GORMET2.txt</td>\n",
       "      <td>Not populated before 1997</td>\n",
       "    </tr>\n",
       "    <tr>\n",
       "      <th>2</th>\n",
       "      <td>reg</td>\n",
       "      <td>standard statistical region</td>\n",
       "      <td>DCV: Region.txt</td>\n",
       "      <td>NaN</td>\n",
       "    </tr>\n",
       "    <tr>\n",
       "      <th>3</th>\n",
       "      <td>lad</td>\n",
       "      <td>local authority district</td>\n",
       "      <td>DCV: LAD.txt</td>\n",
       "      <td>Northern Ireland from 1996 to 2000</td>\n",
       "    </tr>\n",
       "    <tr>\n",
       "      <th>4</th>\n",
       "      <td>styr</td>\n",
       "      <td>statistical year</td>\n",
       "      <td>NaN</td>\n",
       "      <td>NaN</td>\n",
       "    </tr>\n",
       "    <tr>\n",
       "      <th>5</th>\n",
       "      <td>stmth</td>\n",
       "      <td>statistical month</td>\n",
       "      <td>NaN</td>\n",
       "      <td>NaN</td>\n",
       "    </tr>\n",
       "    <tr>\n",
       "      <th>6</th>\n",
       "      <td>mic</td>\n",
       "      <td>ownership of microwave (1 = yes 0= not)</td>\n",
       "      <td>DCV: Microwave ownership.txt</td>\n",
       "      <td>Not used before 1989</td>\n",
       "    </tr>\n",
       "    <tr>\n",
       "      <th>7</th>\n",
       "      <td>frez</td>\n",
       "      <td>ownership of freezer (1 = yes 0= not)</td>\n",
       "      <td>DCV: Freezer ownership.txt</td>\n",
       "      <td>NaN</td>\n",
       "    </tr>\n",
       "    <tr>\n",
       "      <th>8</th>\n",
       "      <td>owndw</td>\n",
       "      <td>tenure (ownership of dwelling)</td>\n",
       "      <td>DCV: Ownership of dwelling.txt</td>\n",
       "      <td>Coding changed from 1997 on to include squatting</td>\n",
       "    </tr>\n",
       "    <tr>\n",
       "      <th>9</th>\n",
       "      <td>memhh</td>\n",
       "      <td>number of members of the household</td>\n",
       "      <td>NaN</td>\n",
       "      <td>This field has been top-coded to remove all ho...</td>\n",
       "    </tr>\n",
       "    <tr>\n",
       "      <th>10</th>\n",
       "      <td>schmilk</td>\n",
       "      <td>school milk</td>\n",
       "      <td>DCV: School milk.txt</td>\n",
       "      <td>Not used before 1998</td>\n",
       "    </tr>\n",
       "    <tr>\n",
       "      <th>11</th>\n",
       "      <td>incgp</td>\n",
       "      <td>income group of the head of the household</td>\n",
       "      <td>DCV: Income Group.txt</td>\n",
       "      <td>NaN</td>\n",
       "    </tr>\n",
       "    <tr>\n",
       "      <th>12</th>\n",
       "      <td>occhoh</td>\n",
       "      <td>occupation of the head of the household</td>\n",
       "      <td>DCV_ OCC_OCCHOH Occupation class with unpacked...</td>\n",
       "      <td>Not used from 1994 onwards, replaced by sochoh</td>\n",
       "    </tr>\n",
       "    <tr>\n",
       "      <th>13</th>\n",
       "      <td>sochoh</td>\n",
       "      <td>social occupation class of the head of the hou...</td>\n",
       "      <td>DCV: Standard occupation class.txt</td>\n",
       "      <td>Not used before 1994</td>\n",
       "    </tr>\n",
       "    <tr>\n",
       "      <th>14</th>\n",
       "      <td>dacthoh</td>\n",
       "      <td>degree of activity of the head of the household</td>\n",
       "      <td>DCV: Degree of activity.txt</td>\n",
       "      <td>Not used from 1994 onwards</td>\n",
       "    </tr>\n",
       "    <tr>\n",
       "      <th>15</th>\n",
       "      <td>Finc_decile_by_members_of_hh</td>\n",
       "      <td>family income by decile, net household income ...</td>\n",
       "      <td>NaN</td>\n",
       "      <td>New field, see Equivalised Net Household Incom...</td>\n",
       "    </tr>\n",
       "    <tr>\n",
       "      <th>16</th>\n",
       "      <td>finctp</td>\n",
       "      <td>family income type</td>\n",
       "      <td>DCV: Family income tp.txt</td>\n",
       "      <td>NaN</td>\n",
       "    </tr>\n",
       "    <tr>\n",
       "      <th>17</th>\n",
       "      <td>pernohoh</td>\n",
       "      <td>person number of head of household</td>\n",
       "      <td>NaN</td>\n",
       "      <td>NaN</td>\n",
       "    </tr>\n",
       "    <tr>\n",
       "      <th>18</th>\n",
       "      <td>pernohw</td>\n",
       "      <td>person  number of housewife</td>\n",
       "      <td>NaN</td>\n",
       "      <td>NaN</td>\n",
       "    </tr>\n",
       "    <tr>\n",
       "      <th>19</th>\n",
       "      <td>agehoh_banded</td>\n",
       "      <td>age of head of household (banded)</td>\n",
       "      <td>Ref_Age_bands_for_household_table,txt</td>\n",
       "      <td>All age fields have been banded for disclosure...</td>\n",
       "    </tr>\n",
       "    <tr>\n",
       "      <th>20</th>\n",
       "      <td>agehw_banded</td>\n",
       "      <td>age of housewife (banded)</td>\n",
       "      <td>Ref_Age_bands_for_household_table,txt</td>\n",
       "      <td>All age fields have been banded for disclosure...</td>\n",
       "    </tr>\n",
       "    <tr>\n",
       "      <th>21</th>\n",
       "      <td>adltm</td>\n",
       "      <td>number of male adults (18 years or over plus 1...</td>\n",
       "      <td>NaN</td>\n",
       "      <td>NaN</td>\n",
       "    </tr>\n",
       "    <tr>\n",
       "      <th>22</th>\n",
       "      <td>adltf</td>\n",
       "      <td>number of female adults (18 years or over plus...</td>\n",
       "      <td>NaN</td>\n",
       "      <td>NaN</td>\n",
       "    </tr>\n",
       "    <tr>\n",
       "      <th>23</th>\n",
       "      <td>child</td>\n",
       "      <td>number of children</td>\n",
       "      <td>NaN</td>\n",
       "      <td>NaN</td>\n",
       "    </tr>\n",
       "    <tr>\n",
       "      <th>24</th>\n",
       "      <td>oaps</td>\n",
       "      <td>number of old age pensioners</td>\n",
       "      <td>NaN</td>\n",
       "      <td>NaN</td>\n",
       "    </tr>\n",
       "    <tr>\n",
       "      <th>25</th>\n",
       "      <td>adltgt64</td>\n",
       "      <td>number of members of the household aged over 6...</td>\n",
       "      <td>NaN</td>\n",
       "      <td>NaN</td>\n",
       "    </tr>\n",
       "    <tr>\n",
       "      <th>26</th>\n",
       "      <td>stqtr</td>\n",
       "      <td>statistical quarter</td>\n",
       "      <td>NaN</td>\n",
       "      <td>NaN</td>\n",
       "    </tr>\n",
       "    <tr>\n",
       "      <th>27</th>\n",
       "      <td>country</td>\n",
       "      <td>country</td>\n",
       "      <td>NaN</td>\n",
       "      <td>Northern Ireland from 1996 to 2000</td>\n",
       "    </tr>\n",
       "    <tr>\n",
       "      <th>28</th>\n",
       "      <td>gor</td>\n",
       "      <td>government office region</td>\n",
       "      <td>DCV: GOR</td>\n",
       "      <td>Northern Ireland from 1996 to 2000.</td>\n",
       "    </tr>\n",
       "    <tr>\n",
       "      <th>29</th>\n",
       "      <td>agemdk_banded</td>\n",
       "      <td>age of main diary keeper</td>\n",
       "      <td>Ref_Age_bands_for_household_table,txt</td>\n",
       "      <td>All age fields have been banded for disclosure...</td>\n",
       "    </tr>\n",
       "    <tr>\n",
       "      <th>30</th>\n",
       "      <td>incgpa</td>\n",
       "      <td>income group (1 = All A  2=B  3=C 4=D &amp; E2 5=E...</td>\n",
       "      <td>DCV: Income group (A group).txt</td>\n",
       "      <td>NaN</td>\n",
       "    </tr>\n",
       "    <tr>\n",
       "      <th>31</th>\n",
       "      <td>hhcomp</td>\n",
       "      <td>household composition</td>\n",
       "      <td>DCV: Household Composition.txt</td>\n",
       "      <td>NaN</td>\n",
       "    </tr>\n",
       "    <tr>\n",
       "      <th>32</th>\n",
       "      <td>hhcompa</td>\n",
       "      <td>household composition (all adults)</td>\n",
       "      <td>DCV: Household Compositon (A group).txt</td>\n",
       "      <td>NaN</td>\n",
       "    </tr>\n",
       "    <tr>\n",
       "      <th>33</th>\n",
       "      <td>hcxigs</td>\n",
       "      <td>household composition by income group</td>\n",
       "      <td>DCV: Household composition x income group.txt</td>\n",
       "      <td>NaN</td>\n",
       "    </tr>\n",
       "    <tr>\n",
       "      <th>34</th>\n",
       "      <td>dat1rec</td>\n",
       "      <td>date (first day of record keeping)</td>\n",
       "      <td>NaN</td>\n",
       "      <td>Data was probably corrupted in move from origi...</td>\n",
       "    </tr>\n",
       "    <tr>\n",
       "      <th>35</th>\n",
       "      <td>doormilk</td>\n",
       "      <td>doorstep milk delivery (1 = yes 2 = no)</td>\n",
       "      <td>DCV: doormilk.txt</td>\n",
       "      <td>Not used before 1999</td>\n",
       "    </tr>\n",
       "    <tr>\n",
       "      <th>36</th>\n",
       "      <td>frij</td>\n",
       "      <td>ownership of fridge  (1 = yes 0= not)</td>\n",
       "      <td>DCV: Fridge ownership.txt</td>\n",
       "      <td>Not used from 1989 onwards</td>\n",
       "    </tr>\n",
       "    <tr>\n",
       "      <th>37</th>\n",
       "      <td>earners</td>\n",
       "      <td>number of earners in the household</td>\n",
       "      <td>NaN</td>\n",
       "      <td>NaN</td>\n",
       "    </tr>\n",
       "    <tr>\n",
       "      <th>38</th>\n",
       "      <td>occxhoh</td>\n",
       "      <td>occupation of crossover head of household</td>\n",
       "      <td>DCV: Occupation class.txt</td>\n",
       "      <td>References to \"crossover\" appear in original d...</td>\n",
       "    </tr>\n",
       "    <tr>\n",
       "      <th>39</th>\n",
       "      <td>socxhoh</td>\n",
       "      <td>social occupation class of cross head of house...</td>\n",
       "      <td>DCV: Standard occupation class.txt</td>\n",
       "      <td>References to \"crossover\" appear in original d...</td>\n",
       "    </tr>\n",
       "    <tr>\n",
       "      <th>40</th>\n",
       "      <td>dactxhoh</td>\n",
       "      <td>degree of activity of cross over head of house...</td>\n",
       "      <td>DCV: Degree of activity.txt</td>\n",
       "      <td>References to \"crossover\" appear in original d...</td>\n",
       "    </tr>\n",
       "    <tr>\n",
       "      <th>41</th>\n",
       "      <td>szwkest</td>\n",
       "      <td>size of work establishment of head of household</td>\n",
       "      <td>DCV: Size of work establishment.txt</td>\n",
       "      <td>NaN</td>\n",
       "    </tr>\n",
       "    <tr>\n",
       "      <th>42</th>\n",
       "      <td>empst</td>\n",
       "      <td>employment status of head of household (1 = em...</td>\n",
       "      <td>DCV: Employment status.txt</td>\n",
       "      <td>Not populated before 1984</td>\n",
       "    </tr>\n",
       "    <tr>\n",
       "      <th>43</th>\n",
       "      <td>wkdy1rec</td>\n",
       "      <td>weekday (1 st day of recording) 1 = Sunday.......</td>\n",
       "      <td>DCV: Weekday (1st day of recording).txt</td>\n",
       "      <td>All the diary facsimiles state that 1=Monday t...</td>\n",
       "    </tr>\n",
       "    <tr>\n",
       "      <th>44</th>\n",
       "      <td>vegind</td>\n",
       "      <td>vegetarian indicator</td>\n",
       "      <td>DCV: Vegetarian indicator.txt</td>\n",
       "      <td>NaN</td>\n",
       "    </tr>\n",
       "    <tr>\n",
       "      <th>45</th>\n",
       "      <td>gornw</td>\n",
       "      <td>government office region for northwest and mer...</td>\n",
       "      <td>DCV: GORNW.txt</td>\n",
       "      <td>Merseyside was a separate Government Office Re...</td>\n",
       "    </tr>\n",
       "    <tr>\n",
       "      <th>46</th>\n",
       "      <td>pernxhoh</td>\n",
       "      <td>person number cross over head of household</td>\n",
       "      <td>NaN</td>\n",
       "      <td>References to \"crossover\" appear in original d...</td>\n",
       "    </tr>\n",
       "    <tr>\n",
       "      <th>47</th>\n",
       "      <td>jobsthoh</td>\n",
       "      <td>job status of head of household</td>\n",
       "      <td>DCV: Job status of HOH.txt</td>\n",
       "      <td>Not used before 1994</td>\n",
       "    </tr>\n",
       "    <tr>\n",
       "      <th>48</th>\n",
       "      <td>incgp745</td>\n",
       "      <td>income group (1974-1975)</td>\n",
       "      <td>DCV: Income group 7475.txt</td>\n",
       "      <td>1974 to 1975 only</td>\n",
       "    </tr>\n",
       "    <tr>\n",
       "      <th>49</th>\n",
       "      <td>withjob</td>\n",
       "      <td>with job indicator - accomodation tied to empl...</td>\n",
       "      <td>DCV_ WITHJOB (1998 to 2000 only).txt</td>\n",
       "      <td>Not used before 1998</td>\n",
       "    </tr>\n",
       "    <tr>\n",
       "      <th>50</th>\n",
       "      <td>landlord</td>\n",
       "      <td>landlord status indicator: type of landlord</td>\n",
       "      <td>DCV: LANDLORD (1998 to 2000 only).txt</td>\n",
       "      <td>Not used before 1998</td>\n",
       "    </tr>\n",
       "    <tr>\n",
       "      <th>51</th>\n",
       "      <td>furnish</td>\n",
       "      <td>furnished indicator: is the accomodation furni...</td>\n",
       "      <td>DCV: FURNISHED (1998 to 2000 only).txt</td>\n",
       "      <td>Not used before 1998</td>\n",
       "    </tr>\n",
       "    <tr>\n",
       "      <th>52</th>\n",
       "      <td>benefits</td>\n",
       "      <td>Benefit indicator</td>\n",
       "      <td>NaN</td>\n",
       "      <td>In receipt of  Income Supplement, Housing Bene...</td>\n",
       "    </tr>\n",
       "  </tbody>\n",
       "</table>\n",
       "</div>"
      ],
      "text/plain": [
       "                           field                                         field_text                                             lookup                                              notes\n",
       "0                           hhno                                   household number                                                NaN                                                NaN\n",
       "1                        gormet2       government office region metropolitan county                                   DCV: GORMET2.txt                          Not populated before 1997\n",
       "2                            reg                        standard statistical region                                    DCV: Region.txt                                                NaN\n",
       "3                            lad                           local authority district                                       DCV: LAD.txt                 Northern Ireland from 1996 to 2000\n",
       "4                           styr                                   statistical year                                                NaN                                                NaN\n",
       "5                          stmth                                  statistical month                                                NaN                                                NaN\n",
       "6                            mic            ownership of microwave (1 = yes 0= not)                       DCV: Microwave ownership.txt                               Not used before 1989\n",
       "7                           frez              ownership of freezer (1 = yes 0= not)                         DCV: Freezer ownership.txt                                                NaN\n",
       "8                          owndw                     tenure (ownership of dwelling)                     DCV: Ownership of dwelling.txt  Coding changed from 1997 on to include squatting \n",
       "9                          memhh                 number of members of the household                                                NaN  This field has been top-coded to remove all ho...\n",
       "10                       schmilk                                        school milk                               DCV: School milk.txt                               Not used before 1998\n",
       "11                         incgp          income group of the head of the household                              DCV: Income Group.txt                                                NaN\n",
       "12                        occhoh            occupation of the head of the household  DCV_ OCC_OCCHOH Occupation class with unpacked...     Not used from 1994 onwards, replaced by sochoh\n",
       "13                        sochoh  social occupation class of the head of the hou...                 DCV: Standard occupation class.txt                               Not used before 1994\n",
       "14                       dacthoh    degree of activity of the head of the household                        DCV: Degree of activity.txt                         Not used from 1994 onwards\n",
       "15  Finc_decile_by_members_of_hh  family income by decile, net household income ...                                                NaN  New field, see Equivalised Net Household Incom...\n",
       "16                        finctp                                 family income type                          DCV: Family income tp.txt                                                NaN\n",
       "17                      pernohoh                 person number of head of household                                                NaN                                                NaN\n",
       "18                       pernohw                        person  number of housewife                                                NaN                                                NaN\n",
       "19                 agehoh_banded                  age of head of household (banded)              Ref_Age_bands_for_household_table,txt  All age fields have been banded for disclosure...\n",
       "20                  agehw_banded                          age of housewife (banded)              Ref_Age_bands_for_household_table,txt  All age fields have been banded for disclosure...\n",
       "21                         adltm  number of male adults (18 years or over plus 1...                                                NaN                                                NaN\n",
       "22                         adltf  number of female adults (18 years or over plus...                                                NaN                                                NaN\n",
       "23                         child                                 number of children                                                NaN                                                NaN\n",
       "24                          oaps                       number of old age pensioners                                                NaN                                                NaN\n",
       "25                      adltgt64  number of members of the household aged over 6...                                                NaN                                                NaN\n",
       "26                         stqtr                                statistical quarter                                                NaN                                                NaN\n",
       "27                       country                                            country                                                NaN                 Northern Ireland from 1996 to 2000\n",
       "28                           gor                           government office region                                           DCV: GOR                Northern Ireland from 1996 to 2000.\n",
       "29                 agemdk_banded                           age of main diary keeper              Ref_Age_bands_for_household_table,txt  All age fields have been banded for disclosure...\n",
       "30                        incgpa  income group (1 = All A  2=B  3=C 4=D & E2 5=E...                    DCV: Income group (A group).txt                                                NaN\n",
       "31                        hhcomp                              household composition                     DCV: Household Composition.txt                                                NaN\n",
       "32                       hhcompa                 household composition (all adults)            DCV: Household Compositon (A group).txt                                                NaN\n",
       "33                        hcxigs              household composition by income group      DCV: Household composition x income group.txt                                                NaN\n",
       "34                       dat1rec                 date (first day of record keeping)                                                NaN  Data was probably corrupted in move from origi...\n",
       "35                      doormilk            doorstep milk delivery (1 = yes 2 = no)                                  DCV: doormilk.txt                               Not used before 1999\n",
       "36                          frij              ownership of fridge  (1 = yes 0= not)                          DCV: Fridge ownership.txt                         Not used from 1989 onwards\n",
       "37                       earners                 number of earners in the household                                                NaN                                                NaN\n",
       "38                       occxhoh          occupation of crossover head of household                          DCV: Occupation class.txt  References to \"crossover\" appear in original d...\n",
       "39                       socxhoh  social occupation class of cross head of house...                 DCV: Standard occupation class.txt  References to \"crossover\" appear in original d...\n",
       "40                      dactxhoh  degree of activity of cross over head of house...                        DCV: Degree of activity.txt  References to \"crossover\" appear in original d...\n",
       "41                       szwkest    size of work establishment of head of household                DCV: Size of work establishment.txt                                                NaN\n",
       "42                         empst  employment status of head of household (1 = em...                         DCV: Employment status.txt                          Not populated before 1984\n",
       "43                      wkdy1rec  weekday (1 st day of recording) 1 = Sunday.......            DCV: Weekday (1st day of recording).txt  All the diary facsimiles state that 1=Monday t...\n",
       "44                        vegind                               vegetarian indicator                      DCV: Vegetarian indicator.txt                                                NaN\n",
       "45                         gornw  government office region for northwest and mer...                                     DCV: GORNW.txt  Merseyside was a separate Government Office Re...\n",
       "46                      pernxhoh         person number cross over head of household                                                NaN  References to \"crossover\" appear in original d...\n",
       "47                      jobsthoh                    job status of head of household                         DCV: Job status of HOH.txt                               Not used before 1994\n",
       "48                      incgp745                           income group (1974-1975)                         DCV: Income group 7475.txt                                  1974 to 1975 only\n",
       "49                       withjob  with job indicator - accomodation tied to empl...               DCV_ WITHJOB (1998 to 2000 only).txt                               Not used before 1998\n",
       "50                      landlord        landlord status indicator: type of landlord              DCV: LANDLORD (1998 to 2000 only).txt                               Not used before 1998\n",
       "51                       furnish  furnished indicator: is the accomodation furni...             DCV: FURNISHED (1998 to 2000 only).txt                               Not used before 1998\n",
       "52                      benefits                                  Benefit indicator                                                NaN  In receipt of  Income Supplement, Housing Bene..."
      ]
     },
     "execution_count": 10,
     "metadata": {},
     "output_type": "execute_result"
    }
   ],
   "source": [
    "# ===== 53 VARIABLES FOR EACH HOUSEHOLD (+ survyear):\n",
    "df_house_vars = pd.DataFrame.from_csv(dataRefe+'house-fields.txt', sep='\\t', index_col=None)\n",
    "df_house_vars.columns=['table', 'field', 'field_text', 'type1', 'size', 'type2', 'lookup', 'notes']\n",
    "df_house_vars = df_house_vars[['field', 'field_text', 'lookup', 'notes']]\n",
    "df_house_vars"
   ]
  },
  {
   "cell_type": "markdown",
   "metadata": {},
   "source": [
    "### Some of the family descriptors seem more useful\n",
    "\n",
    "Many variables are difficult to understand unless you dive deeply into each of them. That's beyond the scope of this exercise."
   ]
  },
  {
   "cell_type": "code",
   "execution_count": 11,
   "metadata": {
    "collapsed": false
   },
   "outputs": [
    {
     "name": "stdout",
     "output_type": "stream",
     "text": [
      "WHERE:\n",
      "  field                   field_text\n",
      "2   reg  standard statistical region\n",
      "\n",
      "MEMBERS BY AGE:\n",
      "       field                                         field_text\n",
      "9      memhh                 number of members of the household\n",
      "21     adltm  number of male adults (18 years or over plus 1...\n",
      "23     child                                 number of children\n",
      "24      oaps                       number of old age pensioners\n",
      "25  adltgt64  number of members of the household aged over 6...\n",
      "37   earners                 number of earners in the household\n",
      "\n",
      "AGEGROUPS:\n",
      "            field                         field_text\n",
      "19  agehoh_banded  age of head of household (banded)\n",
      "20   agehw_banded          age of housewife (banded)\n",
      "29  agemdk_banded           age of main diary keeper\n",
      "\n",
      "VEGETARIAN:\n",
      "     field            field_text\n",
      "44  vegind  vegetarian indicator\n",
      "\n",
      "MONEY:\n",
      "                           field                                         field_text\n",
      "11                         incgp          income group of the head of the household\n",
      "12                        occhoh            occupation of the head of the household\n",
      "14                       dacthoh    degree of activity of the head of the household\n",
      "15  Finc_decile_by_members_of_hh  family income by decile, net household income ...\n",
      "16                        finctp                                 family income type\n",
      "\n",
      "POSESSIONS:\n",
      "    field                               field_text\n",
      "6     mic  ownership of microwave (1 = yes 0= not)\n",
      "7    frez    ownership of freezer (1 = yes 0= not)\n",
      "8   owndw           tenure (ownership of dwelling)\n",
      "36   frij    ownership of fridge  (1 = yes 0= not)\n"
     ]
    }
   ],
   "source": [
    "#house_vars_list = df_house_vars['field'].unique() #all the variables\n",
    "df = df_house_vars[['field', 'field_text']]\n",
    "print \"WHERE:\\n\", df[df.field.isin(['reg'])]\n",
    "print \"\\nMEMBERS BY AGE:\\n\", df[df.field.isin(['memhh', 'adltm', 'child', 'oaps', 'adltgt64', 'earners'])]\n",
    "print \"\\nAGEGROUPS:\\n\", df[df.field.isin(['agehoh_banded', 'agehw_banded', 'agemdk_banded'])]\n",
    "print \"\\nVEGETARIAN:\\n\", df[df.field.isin(['vegind'])]\n",
    "print \"\\nMONEY:\\n\", df[df.field.isin(['incgp', 'occhoh', 'dacthoh', 'Finc_decile_by_members_of_hh', 'finctp'])]\n",
    "print \"\\nPOSESSIONS:\\n\", df[df.field.isin(['mic', 'frez', 'frij', 'owndw'])]"
   ]
  },
  {
   "cell_type": "markdown",
   "metadata": {},
   "source": [
    "### Exploratory data analysis of families"
   ]
  },
  {
   "cell_type": "code",
   "execution_count": 12,
   "metadata": {
    "collapsed": false
   },
   "outputs": [
    {
     "data": {
      "text/plain": [
       "array([[<matplotlib.axes._subplots.AxesSubplot object at 0xaaf3d14c>,\n",
       "        <matplotlib.axes._subplots.AxesSubplot object at 0xa2f4068c>,\n",
       "        <matplotlib.axes._subplots.AxesSubplot object at 0xa2f0618c>,\n",
       "        <matplotlib.axes._subplots.AxesSubplot object at 0xa1b37bcc>,\n",
       "        <matplotlib.axes._subplots.AxesSubplot object at 0xa1af964c>,\n",
       "        <matplotlib.axes._subplots.AxesSubplot object at 0xa1b2886c>,\n",
       "        <matplotlib.axes._subplots.AxesSubplot object at 0xa1aeb6ec>],\n",
       "       [<matplotlib.axes._subplots.AxesSubplot object at 0xa1aab0ac>,\n",
       "        <matplotlib.axes._subplots.AxesSubplot object at 0xa1a6302c>,\n",
       "        <matplotlib.axes._subplots.AxesSubplot object at 0xa1a1dd2c>,\n",
       "        <matplotlib.axes._subplots.AxesSubplot object at 0x9dd94f6c>,\n",
       "        <matplotlib.axes._subplots.AxesSubplot object at 0x9dd55dec>,\n",
       "        <matplotlib.axes._subplots.AxesSubplot object at 0x9dda3a0c>,\n",
       "        <matplotlib.axes._subplots.AxesSubplot object at 0x9ce3068c>],\n",
       "       [<matplotlib.axes._subplots.AxesSubplot object at 0x9cdf154c>,\n",
       "        <matplotlib.axes._subplots.AxesSubplot object at 0x9cda528c>,\n",
       "        <matplotlib.axes._subplots.AxesSubplot object at 0x9cd6512c>,\n",
       "        <matplotlib.axes._subplots.AxesSubplot object at 0x9cd9374c>,\n",
       "        <matplotlib.axes._subplots.AxesSubplot object at 0x9cd525ec>,\n",
       "        <matplotlib.axes._subplots.AxesSubplot object at 0x9cd123cc>,\n",
       "        <matplotlib.axes._subplots.AxesSubplot object at 0x9ccbe7ac>],\n",
       "       [<matplotlib.axes._subplots.AxesSubplot object at 0x9cc8060c>,\n",
       "        <matplotlib.axes._subplots.AxesSubplot object at 0x9cc2de0c>,\n",
       "        <matplotlib.axes._subplots.AxesSubplot object at 0x9cbeccec>,\n",
       "        <matplotlib.axes._subplots.AxesSubplot object at 0x9cc0a66c>,\n",
       "        <matplotlib.axes._subplots.AxesSubplot object at 0x9cb6710c>,\n",
       "        <matplotlib.axes._subplots.AxesSubplot object at 0x9cba1f0c>,\n",
       "        <matplotlib.axes._subplots.AxesSubplot object at 0x9c9479cc>],\n",
       "       [<matplotlib.axes._subplots.AxesSubplot object at 0x9c9077ec>,\n",
       "        <matplotlib.axes._subplots.AxesSubplot object at 0x9c8bab4c>,\n",
       "        <matplotlib.axes._subplots.AxesSubplot object at 0x9c87eb6c>,\n",
       "        <matplotlib.axes._subplots.AxesSubplot object at 0x9c83d98c>,\n",
       "        <matplotlib.axes._subplots.AxesSubplot object at 0x9c7f1aec>,\n",
       "        <matplotlib.axes._subplots.AxesSubplot object at 0x9c7b090c>,\n",
       "        <matplotlib.axes._subplots.AxesSubplot object at 0x9c76526c>],\n",
       "       [<matplotlib.axes._subplots.AxesSubplot object at 0x9c72614c>,\n",
       "        <matplotlib.axes._subplots.AxesSubplot object at 0x9c6def4c>,\n",
       "        <matplotlib.axes._subplots.AxesSubplot object at 0x93b9954c>,\n",
       "        <matplotlib.axes._subplots.AxesSubplot object at 0x93b5936c>,\n",
       "        <matplotlib.axes._subplots.AxesSubplot object at 0x93b86e0c>,\n",
       "        <matplotlib.axes._subplots.AxesSubplot object at 0x93b45c2c>,\n",
       "        <matplotlib.axes._subplots.AxesSubplot object at 0x93af8f8c>],\n",
       "       [<matplotlib.axes._subplots.AxesSubplot object at 0x93abafac>,\n",
       "        <matplotlib.axes._subplots.AxesSubplot object at 0x93a79dcc>,\n",
       "        <matplotlib.axes._subplots.AxesSubplot object at 0x93a2ef2c>,\n",
       "        <matplotlib.axes._subplots.AxesSubplot object at 0x939eed4c>,\n",
       "        <matplotlib.axes._subplots.AxesSubplot object at 0x9c92c48c>,\n",
       "        <matplotlib.axes._subplots.AxesSubplot object at 0x9395590c>,\n",
       "        <matplotlib.axes._subplots.AxesSubplot object at 0x9391672c>],\n",
       "       [<matplotlib.axes._subplots.AxesSubplot object at 0x939499cc>,\n",
       "        <matplotlib.axes._subplots.AxesSubplot object at 0x9390b7ec>,\n",
       "        <matplotlib.axes._subplots.AxesSubplot object at 0x938bf14c>,\n",
       "        <matplotlib.axes._subplots.AxesSubplot object at 0x9387e02c>,\n",
       "        <matplotlib.axes._subplots.AxesSubplot object at 0x93837e8c>,\n",
       "        <matplotlib.axes._subplots.AxesSubplot object at 0x937f44ec>,\n",
       "        <matplotlib.axes._subplots.AxesSubplot object at 0x937b436c>]], dtype=object)"
      ]
     },
     "execution_count": 12,
     "metadata": {},
     "output_type": "execute_result"
    },
    {
     "data": {
      "image/png": "[encoded data removed]",
      "text/plain": [
       "<matplotlib.figure.Figure at 0xaaf92b6c>"
      ]
     },
     "metadata": {},
     "output_type": "display_data"
    }
   ],
   "source": [
    "df = df_households\n",
    "df.hist(figsize = (30,30))"
   ]
  },
  {
   "cell_type": "code",
   "execution_count": 13,
   "metadata": {
    "collapsed": false
   },
   "outputs": [
    {
     "name": "stdout",
     "output_type": "stream",
     "text": [
      "EAST ANGLIA            1664\n",
      "EAST MIDLANDS          2984\n",
      "NORTH WEST             4602\n",
      "NORTHERN               2453\n",
      "NORTHERN IRELAND       3459\n",
      "SCOTLAND               3682\n",
      "SOUTH EAST            11670\n",
      "SOUTH WEST             3546\n",
      "WALES                  2359\n",
      "WEST MIDLANDS          3667\n",
      "YORKS & HUMBERSIDE     3538\n",
      "Name: reg_text, dtype: int64\n"
     ]
    }
   ],
   "source": [
    "df = df_households\n",
    "\n",
    "#=== standard statistical region = 11 x (code, text); Scotland = 1\n",
    "df_reg = pd.DataFrame.from_csv(dataRefe+'DCV_ Region.txt', sep='\\t', index_col=None)\n",
    "df_reg.columns=['reg', 'reg_text']\n",
    "df2 = pd.merge(df, df_reg, how='left', on='reg')\n",
    "print df2.reg_text.value_counts().sort_index()"
   ]
  },
  {
   "cell_type": "code",
   "execution_count": 14,
   "metadata": {
    "collapsed": false
   },
   "outputs": [
    {
     "name": "stdout",
     "output_type": "stream",
     "text": [
      "\n",
      "A1       991\n",
      "A2      1909\n",
      "B      10922\n",
      "C      11885\n",
      "D       2835\n",
      "E1      4125\n",
      "E2      5707\n",
      "OAP     5250\n",
      "Name: income_group, dtype: int64\n"
     ]
    }
   ],
   "source": [
    "#=== income group of the head of the household = 8 categories --- I DON'T KNOW WHAT THEY MEAN\n",
    "df_incgp = pd.DataFrame.from_csv(dataRefe+'DCV_ Income Group.txt', sep='\\t', index_col=None)\n",
    "df_incgp.columns=['incgp', 'income_group']\n",
    "df2 = pd.merge(df, df_incgp, how='left', on='incgp')\n",
    "print \"\\n\", df2.income_group.value_counts().sort_index()"
   ]
  },
  {
   "cell_type": "code",
   "execution_count": 15,
   "metadata": {
    "collapsed": false
   },
   "outputs": [
    {
     "name": "stdout",
     "output_type": "stream",
     "text": [
      "\n",
      "OTHER    30065\n",
      "Name: degree_of_activity, dtype: int64\n"
     ]
    }
   ],
   "source": [
    "#=== degree of activity of cross over head of household #sedentary etc --- THEY ARE ALL \"OTHER\"\n",
    "df_dactxhoh = pd.DataFrame.from_csv(dataRefe+'DCV_ Degree of activity.txt', sep='\\t', index_col=None)\n",
    "df_dactxhoh.columns=['dactxhoh', 'degree_of_activity']\n",
    "df2 = pd.merge(df, df_dactxhoh, how='left', on='dactxhoh')\n",
    "print \"\\n\", df2.degree_of_activity.value_counts().sort_index()"
   ]
  },
  {
   "cell_type": "code",
   "execution_count": 16,
   "metadata": {
    "collapsed": false
   },
   "outputs": [
    {
     "name": "stdout",
     "output_type": "stream",
     "text": [
      "\n",
      "Vegetarians? We don't know:\n",
      "0.0    27347\n",
      "1.0      630\n",
      "2.0     2088\n",
      "Name: vegind, dtype: int64\n",
      "\n",
      "Income:\n",
      "0     3939\n",
      "1     3948\n",
      "2     3982\n",
      "3     3961\n",
      "4     3967\n",
      "5     3971\n",
      "6     3967\n",
      "7     3978\n",
      "8     3973\n",
      "9     3969\n",
      "10    3969\n",
      "Name: Finc_decile_by_members_of_hh, dtype: int64\n",
      "\n",
      "Family members:\n",
      "1     10797\n",
      "2     15250\n",
      "3      7295\n",
      "4      6706\n",
      "5      2508\n",
      "6       743\n",
      "7       230\n",
      "8        58\n",
      "9        27\n",
      "10       10\n",
      "Name: memhh, dtype: int64\n"
     ]
    }
   ],
   "source": [
    "print \"\\nVegetarians? We don't know:\\n\", df.vegind.value_counts().sort_index()\n",
    "print \"\\nIncome:\\n\", df.Finc_decile_by_members_of_hh.value_counts().sort_index()\n",
    "print \"\\nFamily members:\\n\", df.memhh.value_counts().sort_index()"
   ]
  },
  {
   "cell_type": "code",
   "execution_count": 17,
   "metadata": {
    "collapsed": false
   },
   "outputs": [
    {
     "name": "stdout",
     "output_type": "stream",
     "text": [
      "\n",
      "Children:\n",
      "0    28733\n",
      "1     5982\n",
      "2     6043\n",
      "3     2115\n",
      "4      545\n",
      "5      151\n",
      "6       37\n",
      "7       13\n",
      "8        5\n",
      "Name: child, dtype: int64\n"
     ]
    },
    {
     "data": {
      "text/plain": [
       "<matplotlib.axes._subplots.AxesSubplot at 0x935f77ac>"
      ]
     },
     "execution_count": 17,
     "metadata": {},
     "output_type": "execute_result"
    },
    {
     "data": {
      "image/png": "[encoded data removed]",
      "text/plain": [
       "<matplotlib.figure.Figure at 0x936bf08c>"
      ]
     },
     "metadata": {},
     "output_type": "display_data"
    }
   ],
   "source": [
    "print \"\\nChildren:\\n\", df.child.value_counts().sort_index()\n",
    "df2 = df\n",
    "df2['propchild'] = df2.child / df2.memhh\n",
    "df2.propchild.hist()"
   ]
  },
  {
   "cell_type": "code",
   "execution_count": 18,
   "metadata": {
    "collapsed": false
   },
   "outputs": [
    {
     "name": "stdout",
     "output_type": "stream",
     "text": [
      "\n",
      "Elderly:\n",
      "0    32139\n",
      "1     7639\n",
      "2     3801\n",
      "3       41\n",
      "4        4\n",
      "Name: adltgt64, dtype: int64\n"
     ]
    },
    {
     "data": {
      "text/plain": [
       "<matplotlib.axes._subplots.AxesSubplot at 0x8ca4fc2c>"
      ]
     },
     "execution_count": 18,
     "metadata": {},
     "output_type": "execute_result"
    },
    {
     "data": {
      "image/png": "[encoded data removed]",
      "text/plain": [
       "<matplotlib.figure.Figure at 0xa2f4b9cc>"
      ]
     },
     "metadata": {},
     "output_type": "display_data"
    }
   ],
   "source": [
    "print \"\\nElderly:\\n\", df.adltgt64.value_counts().sort_index()\n",
    "df2 = df\n",
    "df2['propelderly'] = df2.adltgt64 / df2.memhh\n",
    "df2.propelderly.hist() #most old people live without young people"
   ]
  },
  {
   "cell_type": "code",
   "execution_count": 19,
   "metadata": {
    "collapsed": false
   },
   "outputs": [
    {
     "name": "stdout",
     "output_type": "stream",
     "text": [
      "\n",
      "Earners:\n",
      "0    15062\n",
      "1    12162\n",
      "2    13694\n",
      "3     2143\n",
      "4      500\n",
      "5       55\n",
      "6        8\n",
      "Name: earners, dtype: int64\n"
     ]
    },
    {
     "data": {
      "text/plain": [
       "<matplotlib.axes._subplots.AxesSubplot at 0x8bcfe5ec>"
      ]
     },
     "execution_count": 19,
     "metadata": {},
     "output_type": "execute_result"
    },
    {
     "data": {
      "image/png": "[encoded data removed]",
      "text/plain": [
       "<matplotlib.figure.Figure at 0x8b9f01ec>"
      ]
     },
     "metadata": {},
     "output_type": "display_data"
    }
   ],
   "source": [
    "print \"\\nEarners:\\n\", df.earners.value_counts().sort_index()\n",
    "df2 = df\n",
    "df2['propearners'] = df2.earners / df2.memhh\n",
    "df2.propearners.hist()"
   ]
  },
  {
   "cell_type": "code",
   "execution_count": 20,
   "metadata": {
    "collapsed": false
   },
   "outputs": [
    {
     "name": "stdout",
     "output_type": "stream",
     "text": [
      "\n",
      "Benefits:\n",
      "0    38359\n",
      "1     5265\n",
      "Name: benefits, dtype: int64\n"
     ]
    }
   ],
   "source": [
    "print \"\\nBenefits:\\n\", df.benefits.value_counts().sort_index()"
   ]
  },
  {
   "cell_type": "code",
   "execution_count": 21,
   "metadata": {
    "collapsed": false
   },
   "outputs": [
    {
     "name": "stdout",
     "output_type": "stream",
     "text": [
      "\n",
      "Job status of hoh:\n",
      "APPRENTICES/EMPLOYEES NEC                13518\n",
      "FOREMEN/SUPERVISORS                       2903\n",
      "MANAGERS                                  5796\n",
      "NOT APPLICABLE HOH UNEMPLOYED/RETIRED    16820\n",
      "SELF EMPLOYED WITH EMPLOYEES              1606\n",
      "SELF EMPLOYED WITHOUT EMPLOYEES           2981\n",
      "Name: job_status_hoh, dtype: int64\n"
     ]
    }
   ],
   "source": [
    "#=== job status of head of household\n",
    "df_jobsthoh = pd.DataFrame.from_csv(dataRefe+'DCV_ Job status of HOH.txt', sep='\\t', index_col=None)\n",
    "df_jobsthoh.columns = ['jobsthoh', 'job_status_hoh']\n",
    "df2 = pd.merge(df, df_jobsthoh, how='left', on='jobsthoh')\n",
    "print \"\\nJob status of hoh:\\n\", df2.job_status_hoh.value_counts().sort_index()"
   ]
  },
  {
   "cell_type": "code",
   "execution_count": 22,
   "metadata": {
    "collapsed": false
   },
   "outputs": [
    {
     "name": "stdout",
     "output_type": "stream",
     "text": [
      "\n",
      "Size of workplace of hoh:\n",
      "NOT APPLICABLE HOH UNEMPLOYED/RETIRED      16820\n",
      "WORKS FOR ESTABLISHMENT OF 25 OR MORE      16445\n",
      "WORKS FOR ESTABLISHMENT OF LESS THAN 25    10359\n",
      "Name: workplace, dtype: int64\n"
     ]
    }
   ],
   "source": [
    "#===size of work establishment of head of household #sme etc\n",
    "df_szwkest = pd.DataFrame.from_csv(dataRefe+'DCV_ Size of work establishment.txt', sep='\\t', index_col=None)\n",
    "df_szwkest.columns=['szwkest', 'workplace']\n",
    "df2 = pd.merge(df, df_szwkest, how='left', on='szwkest')\n",
    "print \"\\nSize of workplace of hoh:\\n\", df2.workplace.value_counts().sort_index()"
   ]
  },
  {
   "cell_type": "code",
   "execution_count": 23,
   "metadata": {
    "collapsed": false
   },
   "outputs": [
    {
     "name": "stdout",
     "output_type": "stream",
     "text": [
      "\n",
      "Ownership of dwelling:\n",
      "FURNISHED, RENTED            1672\n",
      "OWNS OUTRIGHT               12149\n",
      "OWNS WITH MORTGAGE          18617\n",
      "RENT FREE                     461\n",
      "SHARED OWNERSHIP               93\n",
      "UNFURNISHED COUNCIL          8325\n",
      "UNFURNISHED,OTHER,RENTED     2307\n",
      "Name: ownhome, dtype: int64\n"
     ]
    }
   ],
   "source": [
    "#=== tenure (ownership of dwelling) = 7 categories\n",
    "df_owndw = pd.DataFrame.from_csv(dataRefe+'DCV_ Ownership of dwelling.txt', sep='\\t', index_col=None)\n",
    "df_owndw.columns=['owndw', 'ownhome']\n",
    "df2 = pd.merge(df, df_owndw, how='left', on='owndw')\n",
    "print \"\\nOwnership of dwelling:\\n\", df2.ownhome.value_counts().sort_index()"
   ]
  },
  {
   "cell_type": "markdown",
   "metadata": {},
   "source": [
    "### Bring literals into the main file"
   ]
  },
  {
   "cell_type": "code",
   "execution_count": 24,
   "metadata": {
    "collapsed": true
   },
   "outputs": [],
   "source": [
    "#df_house_vars[df_house_vars.field.isin(selected_vars)]"
   ]
  },
  {
   "cell_type": "code",
   "execution_count": 25,
   "metadata": {
    "collapsed": false
   },
   "outputs": [
    {
     "data": {
      "text/html": [
       "<div>\n",
       "<table border=\"1\" class=\"dataframe\">\n",
       "  <thead>\n",
       "    <tr style=\"text-align: right;\">\n",
       "      <th></th>\n",
       "      <th>hhno</th>\n",
       "      <th>mic</th>\n",
       "      <th>frez</th>\n",
       "      <th>memhh</th>\n",
       "      <th>dacthoh</th>\n",
       "      <th>Finc_decile_by_members_of_hh</th>\n",
       "      <th>agehoh_banded</th>\n",
       "      <th>agehw_banded</th>\n",
       "      <th>adltm</th>\n",
       "      <th>adltf</th>\n",
       "      <th>child</th>\n",
       "      <th>oaps</th>\n",
       "      <th>adltgt64</th>\n",
       "      <th>country</th>\n",
       "      <th>agemdk_banded</th>\n",
       "      <th>frij</th>\n",
       "      <th>earners</th>\n",
       "      <th>dactxhoh</th>\n",
       "      <th>empst</th>\n",
       "      <th>vegind</th>\n",
       "      <th>withjob</th>\n",
       "      <th>landlord</th>\n",
       "      <th>furnish</th>\n",
       "      <th>benefits</th>\n",
       "      <th>survyear</th>\n",
       "      <th>reg_text</th>\n",
       "      <th>income_group</th>\n",
       "      <th>job_status_hoh</th>\n",
       "      <th>workplace</th>\n",
       "      <th>ownhome</th>\n",
       "    </tr>\n",
       "  </thead>\n",
       "  <tbody>\n",
       "    <tr>\n",
       "      <th>0</th>\n",
       "      <td>224203</td>\n",
       "      <td>1</td>\n",
       "      <td>1</td>\n",
       "      <td>3</td>\n",
       "      <td>NaN</td>\n",
       "      <td>10</td>\n",
       "      <td>4.0</td>\n",
       "      <td>4.0</td>\n",
       "      <td>1</td>\n",
       "      <td>1</td>\n",
       "      <td>1</td>\n",
       "      <td>0</td>\n",
       "      <td>0</td>\n",
       "      <td>Wales</td>\n",
       "      <td>4.0</td>\n",
       "      <td>0.0</td>\n",
       "      <td>1</td>\n",
       "      <td>0.0</td>\n",
       "      <td>2</td>\n",
       "      <td>0.0</td>\n",
       "      <td>NaN</td>\n",
       "      <td>NaN</td>\n",
       "      <td>NaN</td>\n",
       "      <td>0</td>\n",
       "      <td>1995</td>\n",
       "      <td>WALES</td>\n",
       "      <td>A1</td>\n",
       "      <td>SELF EMPLOYED WITH EMPLOYEES</td>\n",
       "      <td>WORKS FOR ESTABLISHMENT OF LESS THAN 25</td>\n",
       "      <td>OWNS WITH MORTGAGE</td>\n",
       "    </tr>\n",
       "    <tr>\n",
       "      <th>1</th>\n",
       "      <td>224204</td>\n",
       "      <td>1</td>\n",
       "      <td>1</td>\n",
       "      <td>1</td>\n",
       "      <td>NaN</td>\n",
       "      <td>0</td>\n",
       "      <td>3.0</td>\n",
       "      <td>3.0</td>\n",
       "      <td>1</td>\n",
       "      <td>0</td>\n",
       "      <td>0</td>\n",
       "      <td>0</td>\n",
       "      <td>0</td>\n",
       "      <td>Wales</td>\n",
       "      <td>3.0</td>\n",
       "      <td>0.0</td>\n",
       "      <td>1</td>\n",
       "      <td>0.0</td>\n",
       "      <td>2</td>\n",
       "      <td>2.0</td>\n",
       "      <td>NaN</td>\n",
       "      <td>NaN</td>\n",
       "      <td>NaN</td>\n",
       "      <td>0</td>\n",
       "      <td>1995</td>\n",
       "      <td>WALES</td>\n",
       "      <td>B</td>\n",
       "      <td>FOREMEN/SUPERVISORS</td>\n",
       "      <td>WORKS FOR ESTABLISHMENT OF LESS THAN 25</td>\n",
       "      <td>OWNS OUTRIGHT</td>\n",
       "    </tr>\n",
       "    <tr>\n",
       "      <th>2</th>\n",
       "      <td>224205</td>\n",
       "      <td>0</td>\n",
       "      <td>0</td>\n",
       "      <td>2</td>\n",
       "      <td>NaN</td>\n",
       "      <td>0</td>\n",
       "      <td>4.0</td>\n",
       "      <td>4.0</td>\n",
       "      <td>1</td>\n",
       "      <td>1</td>\n",
       "      <td>0</td>\n",
       "      <td>0</td>\n",
       "      <td>0</td>\n",
       "      <td>Wales</td>\n",
       "      <td>4.0</td>\n",
       "      <td>0.0</td>\n",
       "      <td>2</td>\n",
       "      <td>0.0</td>\n",
       "      <td>2</td>\n",
       "      <td>0.0</td>\n",
       "      <td>NaN</td>\n",
       "      <td>NaN</td>\n",
       "      <td>NaN</td>\n",
       "      <td>0</td>\n",
       "      <td>1995</td>\n",
       "      <td>WALES</td>\n",
       "      <td>C</td>\n",
       "      <td>APPRENTICES/EMPLOYEES NEC</td>\n",
       "      <td>WORKS FOR ESTABLISHMENT OF LESS THAN 25</td>\n",
       "      <td>OWNS OUTRIGHT</td>\n",
       "    </tr>\n",
       "    <tr>\n",
       "      <th>3</th>\n",
       "      <td>224206</td>\n",
       "      <td>1</td>\n",
       "      <td>1</td>\n",
       "      <td>2</td>\n",
       "      <td>NaN</td>\n",
       "      <td>0</td>\n",
       "      <td>5.0</td>\n",
       "      <td>5.0</td>\n",
       "      <td>1</td>\n",
       "      <td>1</td>\n",
       "      <td>0</td>\n",
       "      <td>0</td>\n",
       "      <td>0</td>\n",
       "      <td>Wales</td>\n",
       "      <td>5.0</td>\n",
       "      <td>0.0</td>\n",
       "      <td>2</td>\n",
       "      <td>0.0</td>\n",
       "      <td>2</td>\n",
       "      <td>0.0</td>\n",
       "      <td>NaN</td>\n",
       "      <td>NaN</td>\n",
       "      <td>NaN</td>\n",
       "      <td>0</td>\n",
       "      <td>1995</td>\n",
       "      <td>WALES</td>\n",
       "      <td>B</td>\n",
       "      <td>MANAGERS</td>\n",
       "      <td>WORKS FOR ESTABLISHMENT OF 25 OR MORE</td>\n",
       "      <td>OWNS OUTRIGHT</td>\n",
       "    </tr>\n",
       "    <tr>\n",
       "      <th>4</th>\n",
       "      <td>224207</td>\n",
       "      <td>1</td>\n",
       "      <td>0</td>\n",
       "      <td>1</td>\n",
       "      <td>NaN</td>\n",
       "      <td>1</td>\n",
       "      <td>7.0</td>\n",
       "      <td>7.0</td>\n",
       "      <td>0</td>\n",
       "      <td>1</td>\n",
       "      <td>0</td>\n",
       "      <td>1</td>\n",
       "      <td>1</td>\n",
       "      <td>Wales</td>\n",
       "      <td>7.0</td>\n",
       "      <td>0.0</td>\n",
       "      <td>0</td>\n",
       "      <td>0.0</td>\n",
       "      <td>2</td>\n",
       "      <td>0.0</td>\n",
       "      <td>NaN</td>\n",
       "      <td>NaN</td>\n",
       "      <td>NaN</td>\n",
       "      <td>0</td>\n",
       "      <td>1995</td>\n",
       "      <td>WALES</td>\n",
       "      <td>OAP</td>\n",
       "      <td>NOT APPLICABLE HOH UNEMPLOYED/RETIRED</td>\n",
       "      <td>NOT APPLICABLE HOH UNEMPLOYED/RETIRED</td>\n",
       "      <td>UNFURNISHED COUNCIL</td>\n",
       "    </tr>\n",
       "  </tbody>\n",
       "</table>\n",
       "</div>"
      ],
      "text/plain": [
       "     hhno  mic  frez  memhh  dacthoh  Finc_decile_by_members_of_hh  agehoh_banded  agehw_banded  adltm  adltf  child  oaps  adltgt64 country  agemdk_banded  frij  earners  dactxhoh  empst  vegind  withjob  landlord  furnish  benefits survyear reg_text income_group                         job_status_hoh                                workplace              ownhome\n",
       "0  224203    1     1      3      NaN                            10            4.0           4.0      1      1      1     0         0   Wales            4.0   0.0        1       0.0      2     0.0      NaN       NaN      NaN         0     1995    WALES           A1           SELF EMPLOYED WITH EMPLOYEES  WORKS FOR ESTABLISHMENT OF LESS THAN 25   OWNS WITH MORTGAGE\n",
       "1  224204    1     1      1      NaN                             0            3.0           3.0      1      0      0     0         0   Wales            3.0   0.0        1       0.0      2     2.0      NaN       NaN      NaN         0     1995    WALES            B                    FOREMEN/SUPERVISORS  WORKS FOR ESTABLISHMENT OF LESS THAN 25        OWNS OUTRIGHT\n",
       "2  224205    0     0      2      NaN                             0            4.0           4.0      1      1      0     0         0   Wales            4.0   0.0        2       0.0      2     0.0      NaN       NaN      NaN         0     1995    WALES            C              APPRENTICES/EMPLOYEES NEC  WORKS FOR ESTABLISHMENT OF LESS THAN 25        OWNS OUTRIGHT\n",
       "3  224206    1     1      2      NaN                             0            5.0           5.0      1      1      0     0         0   Wales            5.0   0.0        2       0.0      2     0.0      NaN       NaN      NaN         0     1995    WALES            B                               MANAGERS    WORKS FOR ESTABLISHMENT OF 25 OR MORE        OWNS OUTRIGHT\n",
       "4  224207    1     0      1      NaN                             1            7.0           7.0      0      1      0     1         1   Wales            7.0   0.0        0       0.0      2     0.0      NaN       NaN      NaN         0     1995    WALES          OAP  NOT APPLICABLE HOH UNEMPLOYED/RETIRED    NOT APPLICABLE HOH UNEMPLOYED/RETIRED  UNFURNISHED COUNCIL"
      ]
     },
     "execution_count": 25,
     "metadata": {},
     "output_type": "execute_result"
    }
   ],
   "source": [
    "df = df_households\n",
    "\n",
    "#=== standard statistical region\n",
    "df_reg = pd.DataFrame.from_csv(dataRefe+'DCV_ Region.txt', sep='\\t', index_col=None)\n",
    "df_reg.columns=['reg', 'reg_text']\n",
    "df = pd.merge(df, df_reg, how='left', on='reg')\n",
    "\n",
    "#=== income group of the head of the household\n",
    "df_incgp = pd.DataFrame.from_csv(dataRefe+'DCV_ Income Group.txt', sep='\\t', index_col=None)\n",
    "df_incgp.columns=['incgp', 'income_group']\n",
    "df = pd.merge(df, df_incgp, how='left', on='incgp')\n",
    "\n",
    "#=== job status of head of household\n",
    "df_jobsthoh = pd.DataFrame.from_csv(dataRefe+'DCV_ Job status of HOH.txt', sep='\\t', index_col=None)\n",
    "df_jobsthoh.columns = ['jobsthoh', 'job_status_hoh']\n",
    "df = pd.merge(df, df_jobsthoh, how='left', on='jobsthoh')\n",
    "\n",
    "#===size of work establishment of head of household\n",
    "df_szwkest = pd.DataFrame.from_csv(dataRefe+'DCV_ Size of work establishment.txt', sep='\\t', index_col=None)\n",
    "df_szwkest.columns=['szwkest', 'workplace']\n",
    "df = pd.merge(df, df_szwkest, how='left', on='szwkest')\n",
    "\n",
    "#=== tenure (ownership of dwelling) = 7 categories\n",
    "df_owndw = pd.DataFrame.from_csv(dataRefe+'DCV_ Ownership of dwelling.txt', sep='\\t', index_col=None)\n",
    "df_owndw.columns=['owndw', 'ownhome']\n",
    "df = pd.merge(df, df_owndw, how='left', on='owndw')\n",
    "\n",
    "df.drop(['gormet2', 'lad', 'styr', 'stmth', \\\n",
    "         'schmilk', 'occhoh', 'sochoh', 'finctp', 'pernohoh', 'pernohw', 'stqtr', 'gor', 'incgpa', \\\n",
    "         'hhcomp', 'hhcompa', 'hcxigs', 'dat1rec', 'doormilk', 'occxhoh', 'socxhoh',\\\n",
    "         'wkdy1rec', 'gornw', 'pernxhoh', 'incgp745', \\\n",
    "         'propchild', 'propelderly', 'propearners', \\\n",
    "         'reg', 'incgp', 'jobsthoh', 'szwkest', 'owndw'], inplace=True, axis=1)\n",
    "df_households = df\n",
    "df.head()"
   ]
  },
  {
   "cell_type": "markdown",
   "metadata": {},
   "source": [
    "## Weekly food-purchases per family"
   ]
  },
  {
   "cell_type": "code",
   "execution_count": 26,
   "metadata": {
    "collapsed": false
   },
   "outputs": [],
   "source": [
    "# ===== FOODS PER HOUSEHOLD =====\n",
    "df = df_diary14\n",
    "df_household_foods = pd.crosstab(df.hhno, df.minor_text, values = df.quantity, aggfunc=np.sum)\n",
    "df_household_foods = df_household_foods.fillna(0)\n",
    "df_household_foods.reset_index(level=0, inplace=True)\n",
    "df = df_household_foods\n",
    "#print \"FOODS PER HOUSEHOLD: shape, number of variables, and variables:\", \\\n",
    "#df.shape, len(df.columns), list(df.columns.values)"
   ]
  },
  {
   "cell_type": "code",
   "execution_count": 27,
   "metadata": {
    "collapsed": false
   },
   "outputs": [],
   "source": [
    "# ===== FOOD-GROUPS PER HOUSEHOLD =====\n",
    "df = df_diary14[['hhno', 'quantity', 'group_text']]\n",
    "df_household_groups = pd.crosstab(df.hhno, df.group_text, values = df.quantity, aggfunc=np.sum)\n",
    "df_household_groups = df_household_groups.fillna(0)\n",
    "df_household_groups.reset_index(level=0, inplace=True)\n",
    "df = df_household_groups\n",
    "#print \"FOOD GROUP PER HOUSEHOLD: shape, number of variables, and variables:\",\\\n",
    "#df.shape, len(df.columns), list(df.columns.values)"
   ]
  },
  {
   "cell_type": "code",
   "execution_count": 28,
   "metadata": {
    "collapsed": false
   },
   "outputs": [
    {
     "name": "stdout",
     "output_type": "stream",
     "text": [
      "So we have 1581381 diary entries from 43624 families\n",
      "and for each family we now have survyear + 50 (now less) demographic variables + 24 food-group variables.\n"
     ]
    }
   ],
   "source": [
    "# ===== HOUSEHOLDS WITH THEIR FOOD-GROUPS =====\n",
    "df = pd.merge(df_households, df_household_groups, how='left', on='hhno')\n",
    "df_hh_with_food_groups = df\n",
    "print \"So we have {0:5} diary entries from {1:4} families\".format(len(df_diary14), len(df_households))\n",
    "print \"and for each family we now have survyear + 50 (now less) demographic variables + 24 food-group variables.\"\n",
    "#print \"\\nShape:\", df.shape\n",
    "#print \"Number of variables:\", len(df.columns)\n",
    "#print \"Variables:\", list(df.columns.values)"
   ]
  },
  {
   "cell_type": "markdown",
   "metadata": {},
   "source": [
    "# 4. Logistic regression\n",
    "\n",
    "For each household:\n",
    "- a score of \"good food\", say dividing the amount of fruit per the amount of chocolate (or the other way round, depending who you ask!)\n",
    "- and then a categorisation of that score, say stating that a score higher than 5 is good"
   ]
  },
  {
   "cell_type": "markdown",
   "metadata": {},
   "source": [
    "### Good and bad food groups\n",
    "\n",
    "I'm not a nutrition expert, but here's a rough idea of how I'd approach this:\n",
    "\n",
    "- Low nutritional value: 'ALCOHOLIC DRINKS', 'ALL NON-CARCASE MEAT AND MEAT PRODUCTS', 'ALL OTHER FOODS', 'BEVERAGES', 'BISCUITS, CAKES, BUNS, CRISPBREADS', 'CONFECTIONERY', 'SOFT DRINKS', 'SUGAR AND PRESERVES'\n",
    "- Some doubts: 'ALL BREAD' (\"WHITE\"?), 'CEREALS, EXCL. BREAD,BUNS,CAKES,BISCUITS'\n",
    "- Generally good food: the rest"
   ]
  },
  {
   "cell_type": "code",
   "execution_count": 29,
   "metadata": {
    "collapsed": false
   },
   "outputs": [
    {
     "name": "stdout",
     "output_type": "stream",
     "text": [
      "good groups: ['LIQUID WHOLEMILK, INC SCHOOL & WELFARE', 'OTHER MILK & CREAM', 'TOTAL CHEESE', 'ALL CARCASE MEAT', 'ALL FISH', 'EGGS', 'ALL FATS', 'POTATOES', 'FRESH GREEN VEGETABLES', 'OTHER FRESH VEGETABLES', 'ALL PROCESSED VEGETABLES', 'FRESH FRUIT', 'FRUIT & FRUIT PRODS. NOT FRESH', 'ALL BREAD', 'FLOUR', 'CEREALS, EXCL. BREAD,BUNS,CAKES,BISCUITS']\n",
      "\n",
      "bad groups: ['ALCOHOLIC DRINKS', 'ALL NON-CARCASE MEAT AND MEAT PRODUCTS', 'ALL OTHER FOODS', 'BEVERAGES', 'BISCUITS, CAKES, BUNS, CRISPBREADS', 'CONFECTIONERY', 'SOFT DRINKS', 'SUGAR AND PRESERVES']\n"
     ]
    }
   ],
   "source": [
    "all_groups = df_grp_text.group_text.tolist()\n",
    "#all_groups = df_groups.group_text.unique()\n",
    "\n",
    "bad_groups = ['ALCOHOLIC DRINKS', 'ALL NON-CARCASE MEAT AND MEAT PRODUCTS', 'ALL OTHER FOODS', \\\n",
    "             'BEVERAGES', 'BISCUITS, CAKES, BUNS, CRISPBREADS', 'CONFECTIONERY', 'SOFT DRINKS', \\\n",
    "             'SUGAR AND PRESERVES']\n",
    "\n",
    "good_groups = [x for x in all_groups if x not in bad_groups and x is not np.nan]\n",
    "print \"good groups:\", good_groups\n",
    "print \"\\nbad groups:\", bad_groups\n",
    "\n",
    "df = df_diary14[['hhno', 'quantity', 'group_text']]\n",
    "df_good = df[df.group_text.isin(good_groups)]\n",
    "df_bad = df[df.group_text.isin(bad_groups)]\n",
    "#print \"All food purchases split in good and bad:\", len(df), len(df_good), len(df_bad)"
   ]
  },
  {
   "cell_type": "markdown",
   "metadata": {},
   "source": [
    "### Use Quantities of food? No"
   ]
  },
  {
   "cell_type": "code",
   "execution_count": 30,
   "metadata": {
    "collapsed": false
   },
   "outputs": [],
   "source": [
    "# ===== SUM_GOOD = quantity of all good food groups, for each household\n",
    "\n",
    "df = df_good\n",
    "df_household_good_groups = pd.crosstab(df.hhno, df.group_text, values = df.quantity, aggfunc=np.sum)\n",
    "df_household_good_groups = df_household_good_groups.fillna(0)\n",
    "df_household_good_groups.reset_index(level=0, inplace=True)\n",
    "\n",
    "df = df_household_good_groups\n",
    "col_list= list(df)\n",
    "col_list.remove('hhno')\n",
    "df['sum_good'] = df[col_list].sum(axis=1)\n",
    "df_household_good_groups = df\n",
    "\n",
    "df = pd.merge(df_households, df_household_good_groups, how='left', on='hhno')\n",
    "df_hh_with_good_food_groups = df\n",
    "#print \"GOOD: shape, number of variables, and variables:\", df.shape, len(df.columns), list(df.columns.values)"
   ]
  },
  {
   "cell_type": "code",
   "execution_count": 31,
   "metadata": {
    "collapsed": false
   },
   "outputs": [
    {
     "name": "stdout",
     "output_type": "stream",
     "text": [
      "(516188, 3)\n"
     ]
    }
   ],
   "source": [
    "# ===== SUM_BAD = idem for \"not good\" groups\n",
    "\n",
    "df = df_bad\n",
    "print df.shape\n",
    "df_household_bad_groups = pd.crosstab(df.hhno, df.group_text, values = df.quantity, aggfunc=np.sum)\n",
    "df_household_bad_groups = df_household_bad_groups.fillna(0)\n",
    "df_household_bad_groups.reset_index(level=0, inplace=True)\n",
    "df = df_household_bad_groups\n",
    "\n",
    "col_list= list(df)\n",
    "col_list.remove('hhno')\n",
    "df['sum_bad'] = df[col_list].sum(axis=1) + 0.1 #in 24 cases it's zero, so maybe turn it into 0.1\n",
    "df_household_bad_groups = df\n",
    "\n",
    "df = pd.merge(df_households, df_household_bad_groups, how='left', on='hhno')\n",
    "df_hh_with_bad_food_groups = df\n",
    "#print \"BAD: shape, number of variables, and variables:\", df.shape, len(df.columns), list(df.columns.values)"
   ]
  },
  {
   "cell_type": "markdown",
   "metadata": {},
   "source": [
    "**NOTE TO SELF: It would be much cleaner to merge the hh variables only when they are needed; i.e., later. But it's not a priority right now.**"
   ]
  },
  {
   "cell_type": "code",
   "execution_count": 32,
   "metadata": {
    "collapsed": false
   },
   "outputs": [],
   "source": [
    "df = pd.merge(df_households, df_household_good_groups, how='left', on='hhno')\n",
    "df = pd.merge(df, df_household_bad_groups, how='left', on='hhno')\n",
    "#len(df[df.how_good.isnull() == True]) #2315\n",
    "df = df.fillna(1)\n",
    "df['how_good'] = df['sum_good'] / (df['sum_bad'] + df['sum_good'])\n",
    "df['how_bad'] = df['sum_bad'] / (df['sum_bad'] + df['sum_good'])\n",
    "df_hh_with_all_food_groups = df\n",
    "#print \"So we have {0:5} diary entries from {1:4} families\".format(len(df_diary14), len(df_households))\n",
    "#print \"and for each family we now have survyear + 53 demographical variables + 24 food-group variables\"\n",
    "#print \"+ variables describing the goodness/badness of their shopping cart.\"\n",
    "#print \"Here's a sample:\"\n",
    "#df.head(3)"
   ]
  },
  {
   "cell_type": "code",
   "execution_count": 33,
   "metadata": {
    "collapsed": false
   },
   "outputs": [
    {
     "name": "stdout",
     "output_type": "stream",
     "text": [
      "           sum_good       sum_bad      how_good       how_bad\n",
      "count  43624.000000  43624.000000  43624.000000  43624.000000\n",
      "mean     457.767722    460.089837      0.569734      0.430266\n",
      "std      359.387733    553.028197      0.217196      0.217196\n",
      "min        0.220000      0.100000      0.001169      0.000099\n",
      "25%      209.847500    107.450000      0.412579      0.264503\n",
      "50%      396.275000    289.045000      0.569041      0.430959\n",
      "75%      624.402500    621.312500      0.735497      0.587421\n",
      "max    13930.670000  12785.340000      0.999901      0.998831\n",
      "SUM GOOD: 0 are zero.  0 are NaN.\n",
      "SUM BAD: 0 are zero.  0 are NaN.\n",
      "HOW GOOD:  0 are zero.  0 are NaN.\n",
      "HOW BAD 0  are zero.  0 are NaN.\n"
     ]
    }
   ],
   "source": [
    "# Numerical comparison of the created variables\n",
    "\n",
    "print df[['sum_good', 'sum_bad', 'how_good', 'how_bad']].describe()\n",
    "print \"SUM GOOD:\",  len(df[df.sum_good == 0]), \"are zero. \", len(df[df.sum_good == np.nan]), \"are NaN.\"\n",
    "print \"SUM BAD:\",   len(df[df.sum_bad == 0]),  \"are zero. \", len(df[df.sum_bad == np.nan]),  \"are NaN.\"\n",
    "print \"HOW GOOD: \", len(df[df.how_good == 0]), \"are zero. \", len(df[df.how_good == np.nan]), \"are NaN.\"\n",
    "print \"HOW BAD\",    len(df[df.how_bad == 0]), \" are zero. \", len(df[df.how_bad == np.nan]),  \"are NaN.\""
   ]
  },
  {
   "cell_type": "code",
   "execution_count": 34,
   "metadata": {
    "collapsed": false
   },
   "outputs": [
    {
     "data": {
      "image/png": "[encoded data removed]",
      "text/plain": [
       "<matplotlib.figure.Figure at 0x8bc0be0c>"
      ]
     },
     "metadata": {},
     "output_type": "display_data"
    }
   ],
   "source": [
    "# Graphical comparison of the created variables\n",
    "fig, axes = plt.subplots(nrows=2, ncols=2)\n",
    "df.sum_bad.hist(ax=axes[0,0], bins = 40).set_title('SUM BAD')\n",
    "df.sum_good.hist(ax=axes[0,1], bins = 40).set_title('SUM GOOD')\n",
    "df.how_bad.hist(ax=axes[1,0], bins = 40).set_title('HOW BAD')\n",
    "df.how_good.hist(ax=axes[1,1], bins = 40).set_title('HOW GOOD')\n",
    "plt.tight_layout()"
   ]
  },
  {
   "cell_type": "markdown",
   "metadata": {},
   "source": [
    "### Use Number of times each food is bought? Yes"
   ]
  },
  {
   "cell_type": "code",
   "execution_count": 35,
   "metadata": {
    "collapsed": false
   },
   "outputs": [],
   "source": [
    "# ===== ADD UP ALL TIMES EACH FOOD IS BOUGHT (EXCEPT HHNO) INTO SUM_GOOD\n",
    "\n",
    "df = df_good\n",
    "df_household_good_groups = pd.crosstab(df.hhno, df.group_text) #, values = df.quantity, aggfunc=np.sum\n",
    "df_household_good_groups = df_household_good_groups.fillna(0)\n",
    "df_household_good_groups.reset_index(level=0, inplace=True)\n",
    "\n",
    "df = df_household_good_groups\n",
    "col_list= list(df)\n",
    "col_list.remove('hhno')\n",
    "df['sum_good'] = df[col_list].sum(axis=1)\n",
    "df_household_good_groups = df\n",
    "\n",
    "df = pd.merge(df_households, df_household_good_groups, how='left', on='hhno')\n",
    "df_hh_with_good_food_groups = df\n",
    "#print \"GOOD: shape, number of variables, and variables:\", df.shape, len(df.columns), list(df.columns.values)"
   ]
  },
  {
   "cell_type": "code",
   "execution_count": 36,
   "metadata": {
    "collapsed": false
   },
   "outputs": [
    {
     "name": "stdout",
     "output_type": "stream",
     "text": [
      "(516188, 3)\n"
     ]
    }
   ],
   "source": [
    "# ===== ADD UP ALL TIMES EACH FOOD IS BOUGHT (EXCEPT HHNO) INTO SUM_BAD\n",
    "\n",
    "df = df_bad\n",
    "print df.shape\n",
    "df_household_bad_groups = pd.crosstab(df.hhno, df.group_text) #, values = df.quantity, aggfunc=np.sum\n",
    "df_household_bad_groups = df_household_bad_groups.fillna(0)\n",
    "df_household_bad_groups.reset_index(level=0, inplace=True)\n",
    "df = df_household_bad_groups\n",
    "\n",
    "col_list= list(df)\n",
    "col_list.remove('hhno')\n",
    "df['sum_bad'] = df[col_list].sum(axis=1) # + 0.1 #in 24 cases it's zero, so maybe turn it into 0.1\n",
    "df_household_bad_groups = df\n",
    "\n",
    "df = pd.merge(df_households, df_household_bad_groups, how='left', on='hhno')\n",
    "df_hh_with_bad_food_groups = df\n",
    "#print \"BAD: shape, number of variables, and variables:\", df.shape, len(df.columns), list(df.columns.values)"
   ]
  },
  {
   "cell_type": "code",
   "execution_count": 37,
   "metadata": {
    "collapsed": false
   },
   "outputs": [],
   "source": [
    "df = pd.merge(df_households, df_household_good_groups, how='left', on='hhno')\n",
    "df = pd.merge(df, df_household_bad_groups, how='left', on='hhno')\n",
    "#len(df[df.how_good.isnull() == True]) #2315\n",
    "df = df.fillna(0.1)\n",
    "df['how_good'] = df['sum_good'] / (df['sum_good'] + df['sum_bad'])\n",
    "df['how_bad'] = df['sum_bad'] / (df['sum_good'] +  df['sum_bad'])\n",
    "df_hh_with_all_food_groups = df\n",
    "#print \"So we have {0:5} diary entries from {1:4} families\".format(len(df_diary14), len(df_households))\n",
    "#print \"and for each family we now have survyear + 53 demographical variables + 24 food-group variables\"\n",
    "#print \"+ variables describing the goodness/badness of their shopping cart.\"\n",
    "#print \"Here's a sample:\"\n",
    "#df.head(3)"
   ]
  },
  {
   "cell_type": "code",
   "execution_count": 38,
   "metadata": {
    "collapsed": false
   },
   "outputs": [
    {
     "name": "stdout",
     "output_type": "stream",
     "text": [
      "           sum_good       sum_bad      how_good       how_bad\n",
      "count  43624.000000  43624.000000  43624.000000  43624.000000\n",
      "mean      24.419299     11.837782      0.685303      0.314697\n",
      "std       14.102010      8.717686      0.132256      0.132256\n",
      "min        0.100000      0.100000      0.012346      0.001883\n",
      "25%       14.000000      5.000000      0.600000      0.232107\n",
      "50%       23.000000     10.000000      0.683333      0.316667\n",
      "75%       33.000000     17.000000      0.767893      0.400000\n",
      "max      115.000000     92.000000      0.998117      0.987654\n",
      "SUM GOOD: 0 are zero.  0 are NaN.\n",
      "SUM BAD: 0 are zero.  0 are NaN.\n",
      "HOW GOOD:  0 are zero.  0 are NaN.\n",
      "HOW BAD 0  are zero.  0 are NaN.\n"
     ]
    }
   ],
   "source": [
    "# Numerical comparison of the created variables\n",
    "\n",
    "print df[['sum_good', 'sum_bad', 'how_good', 'how_bad']].describe()\n",
    "print \"SUM GOOD:\",  len(df[df.sum_good == 0]), \"are zero. \", len(df[df.sum_good == np.nan]), \"are NaN.\"\n",
    "print \"SUM BAD:\",   len(df[df.sum_bad == 0]),  \"are zero. \", len(df[df.sum_bad == np.nan]),  \"are NaN.\"\n",
    "print \"HOW GOOD: \", len(df[df.how_good == 0]), \"are zero. \", len(df[df.how_good == np.nan]), \"are NaN.\"\n",
    "print \"HOW BAD\",    len(df[df.how_bad == 0]), \" are zero. \", len(df[df.how_bad == np.nan]),  \"are NaN.\""
   ]
  },
  {
   "cell_type": "code",
   "execution_count": 39,
   "metadata": {
    "collapsed": false
   },
   "outputs": [
    {
     "data": {
      "image/png": "[encoded data removed]",
      "text/plain": [
       "<matplotlib.figure.Figure at 0x8bbfd90c>"
      ]
     },
     "metadata": {},
     "output_type": "display_data"
    }
   ],
   "source": [
    "# Graphical comparison of the created variables\n",
    "fig, axes = plt.subplots(nrows=2, ncols=2)\n",
    "df.sum_bad.hist(ax=axes[0,0], bins = 40).set_title('SUM BAD')\n",
    "df.sum_good.hist(ax=axes[0,1], bins = 40).set_title('SUM GOOD')\n",
    "df.how_bad.hist(ax=axes[1,0], bins = 40).set_title('HOW BAD')\n",
    "df.how_good.hist(ax=axes[1,1], bins = 40).set_title('HOW GOOD')\n",
    "plt.tight_layout()"
   ]
  },
  {
   "cell_type": "markdown",
   "metadata": {},
   "source": [
    "### Create categories (\"good/bad cart\") from \"number of times each food was bought\""
   ]
  },
  {
   "cell_type": "code",
   "execution_count": 40,
   "metadata": {
    "collapsed": false
   },
   "outputs": [
    {
     "name": "stdout",
     "output_type": "stream",
     "text": [
      "1    21828\n",
      "0    21796\n",
      "Name: good_cart, dtype: int64\n"
     ]
    }
   ],
   "source": [
    "df = df_hh_with_all_food_groups\n",
    "#df['good_cart'] = df.sum_good > 23 #median\n",
    "df['good_cart'] = df.how_good > 0.683333  # > 0.767893 #=75% (0.683333 = 50% = median)\n",
    "df.good_cart = df.good_cart.astype(int)\n",
    "df_cat = df\n",
    "print df_cat.good_cart.value_counts()\n",
    "#df_cat[['hhno', 'sum_good', 'sum_bad', 'how_good', 'how_bad', 'good_cart']].head()"
   ]
  },
  {
   "cell_type": "markdown",
   "metadata": {},
   "source": [
    "## Promissing explanatory variables\n",
    "\n",
    "### Numerical exploration"
   ]
  },
  {
   "cell_type": "code",
   "execution_count": 41,
   "metadata": {
    "collapsed": false
   },
   "outputs": [
    {
     "name": "stdout",
     "output_type": "stream",
     "text": [
      "MEANS OF ALL HOUSEHOLD VARIABLES BY GOOD_CART:\n"
     ]
    },
    {
     "data": {
      "text/html": [
       "<div>\n",
       "<table border=\"1\" class=\"dataframe\">\n",
       "  <thead>\n",
       "    <tr style=\"text-align: right;\">\n",
       "      <th>good_cart</th>\n",
       "      <th>0</th>\n",
       "      <th>1</th>\n",
       "    </tr>\n",
       "  </thead>\n",
       "  <tbody>\n",
       "    <tr>\n",
       "      <th>hhno</th>\n",
       "      <td>245957.098091</td>\n",
       "      <td>245953.868426</td>\n",
       "    </tr>\n",
       "    <tr>\n",
       "      <th>mic</th>\n",
       "      <td>0.803863</td>\n",
       "      <td>0.760262</td>\n",
       "    </tr>\n",
       "    <tr>\n",
       "      <th>frez</th>\n",
       "      <td>0.919756</td>\n",
       "      <td>0.914513</td>\n",
       "    </tr>\n",
       "    <tr>\n",
       "      <th>memhh</th>\n",
       "      <td>2.644109</td>\n",
       "      <td>2.372641</td>\n",
       "    </tr>\n",
       "    <tr>\n",
       "      <th>dacthoh</th>\n",
       "      <td>0.100000</td>\n",
       "      <td>0.100000</td>\n",
       "    </tr>\n",
       "    <tr>\n",
       "      <th>Finc_decile_by_members_of_hh</th>\n",
       "      <td>5.112360</td>\n",
       "      <td>4.898846</td>\n",
       "    </tr>\n",
       "    <tr>\n",
       "      <th>agehoh_banded</th>\n",
       "      <td>3.898229</td>\n",
       "      <td>4.258846</td>\n",
       "    </tr>\n",
       "    <tr>\n",
       "      <th>agehw_banded</th>\n",
       "      <td>3.732098</td>\n",
       "      <td>4.108448</td>\n",
       "    </tr>\n",
       "    <tr>\n",
       "      <th>adltm</th>\n",
       "      <td>0.927234</td>\n",
       "      <td>0.845428</td>\n",
       "    </tr>\n",
       "    <tr>\n",
       "      <th>adltf</th>\n",
       "      <td>0.982979</td>\n",
       "      <td>0.990975</td>\n",
       "    </tr>\n",
       "    <tr>\n",
       "      <th>child</th>\n",
       "      <td>0.733896</td>\n",
       "      <td>0.536238</td>\n",
       "    </tr>\n",
       "    <tr>\n",
       "      <th>oaps</th>\n",
       "      <td>0.238897</td>\n",
       "      <td>0.305159</td>\n",
       "    </tr>\n",
       "    <tr>\n",
       "      <th>adltgt64</th>\n",
       "      <td>0.296476</td>\n",
       "      <td>0.408558</td>\n",
       "    </tr>\n",
       "    <tr>\n",
       "      <th>agemdk_banded</th>\n",
       "      <td>3.739805</td>\n",
       "      <td>4.116465</td>\n",
       "    </tr>\n",
       "    <tr>\n",
       "      <th>frij</th>\n",
       "      <td>0.031033</td>\n",
       "      <td>0.031130</td>\n",
       "    </tr>\n",
       "    <tr>\n",
       "      <th>earners</th>\n",
       "      <td>1.195908</td>\n",
       "      <td>1.018692</td>\n",
       "    </tr>\n",
       "    <tr>\n",
       "      <th>dactxhoh</th>\n",
       "      <td>0.031033</td>\n",
       "      <td>0.031130</td>\n",
       "    </tr>\n",
       "    <tr>\n",
       "      <th>empst</th>\n",
       "      <td>1.928244</td>\n",
       "      <td>1.938336</td>\n",
       "    </tr>\n",
       "    <tr>\n",
       "      <th>vegind</th>\n",
       "      <td>0.094531</td>\n",
       "      <td>0.187901</td>\n",
       "    </tr>\n",
       "    <tr>\n",
       "      <th>withjob</th>\n",
       "      <td>0.319210</td>\n",
       "      <td>0.295744</td>\n",
       "    </tr>\n",
       "    <tr>\n",
       "      <th>landlord</th>\n",
       "      <td>0.404822</td>\n",
       "      <td>0.406061</td>\n",
       "    </tr>\n",
       "    <tr>\n",
       "      <th>furnish</th>\n",
       "      <td>0.429138</td>\n",
       "      <td>0.390851</td>\n",
       "    </tr>\n",
       "    <tr>\n",
       "      <th>benefits</th>\n",
       "      <td>0.127730</td>\n",
       "      <td>0.113661</td>\n",
       "    </tr>\n",
       "  </tbody>\n",
       "</table>\n",
       "</div>"
      ],
      "text/plain": [
       "good_cart                                 0              1\n",
       "hhno                          245957.098091  245953.868426\n",
       "mic                                0.803863       0.760262\n",
       "frez                               0.919756       0.914513\n",
       "memhh                              2.644109       2.372641\n",
       "dacthoh                            0.100000       0.100000\n",
       "Finc_decile_by_members_of_hh       5.112360       4.898846\n",
       "agehoh_banded                      3.898229       4.258846\n",
       "agehw_banded                       3.732098       4.108448\n",
       "adltm                              0.927234       0.845428\n",
       "adltf                              0.982979       0.990975\n",
       "child                              0.733896       0.536238\n",
       "oaps                               0.238897       0.305159\n",
       "adltgt64                           0.296476       0.408558\n",
       "agemdk_banded                      3.739805       4.116465\n",
       "frij                               0.031033       0.031130\n",
       "earners                            1.195908       1.018692\n",
       "dactxhoh                           0.031033       0.031130\n",
       "empst                              1.928244       1.938336\n",
       "vegind                             0.094531       0.187901\n",
       "withjob                            0.319210       0.295744\n",
       "landlord                           0.404822       0.406061\n",
       "furnish                            0.429138       0.390851\n",
       "benefits                           0.127730       0.113661"
      ]
     },
     "execution_count": 41,
     "metadata": {},
     "output_type": "execute_result"
    }
   ],
   "source": [
    "print \"MEANS OF ALL HOUSEHOLD VARIABLES BY GOOD_CART:\"\n",
    "df_cat.groupby('good_cart').mean().transpose().head(23)"
   ]
  },
  {
   "cell_type": "code",
   "execution_count": 42,
   "metadata": {
    "collapsed": false
   },
   "outputs": [
    {
     "data": {
      "text/html": [
       "<div>\n",
       "<table border=\"1\" class=\"dataframe\">\n",
       "  <thead>\n",
       "    <tr style=\"text-align: right;\">\n",
       "      <th></th>\n",
       "      <th>count</th>\n",
       "      <th>mean</th>\n",
       "      <th>std</th>\n",
       "      <th>min</th>\n",
       "      <th>25%</th>\n",
       "      <th>50%</th>\n",
       "      <th>75%</th>\n",
       "      <th>max</th>\n",
       "    </tr>\n",
       "  </thead>\n",
       "  <tbody>\n",
       "    <tr>\n",
       "      <th>hhno</th>\n",
       "      <td>43624.0</td>\n",
       "      <td>245955.482074</td>\n",
       "      <td>1.289457e+04</td>\n",
       "      <td>100136.000000</td>\n",
       "      <td>235093.750000</td>\n",
       "      <td>246000.500000</td>\n",
       "      <td>256907.250000</td>\n",
       "      <td>267819.000000</td>\n",
       "    </tr>\n",
       "    <tr>\n",
       "      <th>mic</th>\n",
       "      <td>43624.0</td>\n",
       "      <td>0.782047</td>\n",
       "      <td>4.128603e-01</td>\n",
       "      <td>0.000000</td>\n",
       "      <td>1.000000</td>\n",
       "      <td>1.000000</td>\n",
       "      <td>1.000000</td>\n",
       "      <td>1.000000</td>\n",
       "    </tr>\n",
       "    <tr>\n",
       "      <th>frez</th>\n",
       "      <td>43624.0</td>\n",
       "      <td>0.917133</td>\n",
       "      <td>2.756846e-01</td>\n",
       "      <td>0.000000</td>\n",
       "      <td>1.000000</td>\n",
       "      <td>1.000000</td>\n",
       "      <td>1.000000</td>\n",
       "      <td>1.000000</td>\n",
       "    </tr>\n",
       "    <tr>\n",
       "      <th>memhh</th>\n",
       "      <td>43624.0</td>\n",
       "      <td>2.508275</td>\n",
       "      <td>1.336382e+00</td>\n",
       "      <td>1.000000</td>\n",
       "      <td>2.000000</td>\n",
       "      <td>2.000000</td>\n",
       "      <td>3.000000</td>\n",
       "      <td>10.000000</td>\n",
       "    </tr>\n",
       "    <tr>\n",
       "      <th>dacthoh</th>\n",
       "      <td>43624.0</td>\n",
       "      <td>0.100000</td>\n",
       "      <td>2.775589e-17</td>\n",
       "      <td>0.100000</td>\n",
       "      <td>0.100000</td>\n",
       "      <td>0.100000</td>\n",
       "      <td>0.100000</td>\n",
       "      <td>0.100000</td>\n",
       "    </tr>\n",
       "    <tr>\n",
       "      <th>Finc_decile_by_members_of_hh</th>\n",
       "      <td>43624.0</td>\n",
       "      <td>5.005524</td>\n",
       "      <td>3.160195e+00</td>\n",
       "      <td>0.000000</td>\n",
       "      <td>2.000000</td>\n",
       "      <td>5.000000</td>\n",
       "      <td>8.000000</td>\n",
       "      <td>10.000000</td>\n",
       "    </tr>\n",
       "    <tr>\n",
       "      <th>agehoh_banded</th>\n",
       "      <td>43624.0</td>\n",
       "      <td>4.078670</td>\n",
       "      <td>1.702887e+00</td>\n",
       "      <td>0.100000</td>\n",
       "      <td>3.000000</td>\n",
       "      <td>4.000000</td>\n",
       "      <td>5.000000</td>\n",
       "      <td>7.000000</td>\n",
       "    </tr>\n",
       "    <tr>\n",
       "      <th>agehw_banded</th>\n",
       "      <td>43624.0</td>\n",
       "      <td>3.920411</td>\n",
       "      <td>1.713561e+00</td>\n",
       "      <td>0.100000</td>\n",
       "      <td>2.000000</td>\n",
       "      <td>4.000000</td>\n",
       "      <td>5.000000</td>\n",
       "      <td>7.000000</td>\n",
       "    </tr>\n",
       "    <tr>\n",
       "      <th>adltm</th>\n",
       "      <td>43624.0</td>\n",
       "      <td>0.886301</td>\n",
       "      <td>5.838463e-01</td>\n",
       "      <td>0.000000</td>\n",
       "      <td>1.000000</td>\n",
       "      <td>1.000000</td>\n",
       "      <td>1.000000</td>\n",
       "      <td>5.000000</td>\n",
       "    </tr>\n",
       "    <tr>\n",
       "      <th>adltf</th>\n",
       "      <td>43624.0</td>\n",
       "      <td>0.986980</td>\n",
       "      <td>4.853634e-01</td>\n",
       "      <td>0.000000</td>\n",
       "      <td>1.000000</td>\n",
       "      <td>1.000000</td>\n",
       "      <td>1.000000</td>\n",
       "      <td>7.000000</td>\n",
       "    </tr>\n",
       "    <tr>\n",
       "      <th>child</th>\n",
       "      <td>43624.0</td>\n",
       "      <td>0.634994</td>\n",
       "      <td>1.031150e+00</td>\n",
       "      <td>0.000000</td>\n",
       "      <td>0.000000</td>\n",
       "      <td>0.000000</td>\n",
       "      <td>1.000000</td>\n",
       "      <td>8.000000</td>\n",
       "    </tr>\n",
       "    <tr>\n",
       "      <th>oaps</th>\n",
       "      <td>43624.0</td>\n",
       "      <td>0.272052</td>\n",
       "      <td>5.565326e-01</td>\n",
       "      <td>0.000000</td>\n",
       "      <td>0.000000</td>\n",
       "      <td>0.000000</td>\n",
       "      <td>0.000000</td>\n",
       "      <td>4.000000</td>\n",
       "    </tr>\n",
       "    <tr>\n",
       "      <th>adltgt64</th>\n",
       "      <td>43624.0</td>\n",
       "      <td>0.352558</td>\n",
       "      <td>6.397434e-01</td>\n",
       "      <td>0.000000</td>\n",
       "      <td>0.000000</td>\n",
       "      <td>0.000000</td>\n",
       "      <td>1.000000</td>\n",
       "      <td>4.000000</td>\n",
       "    </tr>\n",
       "    <tr>\n",
       "      <th>agemdk_banded</th>\n",
       "      <td>43624.0</td>\n",
       "      <td>3.928273</td>\n",
       "      <td>1.716201e+00</td>\n",
       "      <td>0.100000</td>\n",
       "      <td>3.000000</td>\n",
       "      <td>4.000000</td>\n",
       "      <td>5.000000</td>\n",
       "      <td>8.000000</td>\n",
       "    </tr>\n",
       "    <tr>\n",
       "      <th>frij</th>\n",
       "      <td>43624.0</td>\n",
       "      <td>0.031082</td>\n",
       "      <td>4.628326e-02</td>\n",
       "      <td>0.000000</td>\n",
       "      <td>0.000000</td>\n",
       "      <td>0.000000</td>\n",
       "      <td>0.100000</td>\n",
       "      <td>0.100000</td>\n",
       "    </tr>\n",
       "    <tr>\n",
       "      <th>earners</th>\n",
       "      <td>43624.0</td>\n",
       "      <td>1.107235</td>\n",
       "      <td>9.859564e-01</td>\n",
       "      <td>0.000000</td>\n",
       "      <td>0.000000</td>\n",
       "      <td>1.000000</td>\n",
       "      <td>2.000000</td>\n",
       "      <td>6.000000</td>\n",
       "    </tr>\n",
       "    <tr>\n",
       "      <th>dactxhoh</th>\n",
       "      <td>43624.0</td>\n",
       "      <td>0.031082</td>\n",
       "      <td>4.628326e-02</td>\n",
       "      <td>0.000000</td>\n",
       "      <td>0.000000</td>\n",
       "      <td>0.000000</td>\n",
       "      <td>0.100000</td>\n",
       "      <td>0.100000</td>\n",
       "    </tr>\n",
       "    <tr>\n",
       "      <th>empst</th>\n",
       "      <td>43624.0</td>\n",
       "      <td>1.933294</td>\n",
       "      <td>2.495157e-01</td>\n",
       "      <td>1.000000</td>\n",
       "      <td>2.000000</td>\n",
       "      <td>2.000000</td>\n",
       "      <td>2.000000</td>\n",
       "      <td>2.000000</td>\n",
       "    </tr>\n",
       "    <tr>\n",
       "      <th>vegind</th>\n",
       "      <td>43624.0</td>\n",
       "      <td>0.141250</td>\n",
       "      <td>4.348065e-01</td>\n",
       "      <td>0.000000</td>\n",
       "      <td>0.000000</td>\n",
       "      <td>0.000000</td>\n",
       "      <td>0.100000</td>\n",
       "      <td>2.000000</td>\n",
       "    </tr>\n",
       "    <tr>\n",
       "      <th>withjob</th>\n",
       "      <td>43624.0</td>\n",
       "      <td>0.307468</td>\n",
       "      <td>6.494568e-01</td>\n",
       "      <td>0.000000</td>\n",
       "      <td>0.000000</td>\n",
       "      <td>0.100000</td>\n",
       "      <td>0.100000</td>\n",
       "      <td>2.000000</td>\n",
       "    </tr>\n",
       "    <tr>\n",
       "      <th>landlord</th>\n",
       "      <td>43624.0</td>\n",
       "      <td>0.405442</td>\n",
       "      <td>1.254211e+00</td>\n",
       "      <td>0.000000</td>\n",
       "      <td>0.000000</td>\n",
       "      <td>0.100000</td>\n",
       "      <td>0.100000</td>\n",
       "      <td>7.000000</td>\n",
       "    </tr>\n",
       "    <tr>\n",
       "      <th>furnish</th>\n",
       "      <td>43624.0</td>\n",
       "      <td>0.409981</td>\n",
       "      <td>9.369003e-01</td>\n",
       "      <td>0.000000</td>\n",
       "      <td>0.000000</td>\n",
       "      <td>0.100000</td>\n",
       "      <td>0.100000</td>\n",
       "      <td>3.000000</td>\n",
       "    </tr>\n",
       "    <tr>\n",
       "      <th>benefits</th>\n",
       "      <td>43624.0</td>\n",
       "      <td>0.120690</td>\n",
       "      <td>3.257709e-01</td>\n",
       "      <td>0.000000</td>\n",
       "      <td>0.000000</td>\n",
       "      <td>0.000000</td>\n",
       "      <td>0.000000</td>\n",
       "      <td>1.000000</td>\n",
       "    </tr>\n",
       "    <tr>\n",
       "      <th>ALL BREAD</th>\n",
       "      <td>43624.0</td>\n",
       "      <td>2.629459</td>\n",
       "      <td>2.016277e+00</td>\n",
       "      <td>0.000000</td>\n",
       "      <td>1.000000</td>\n",
       "      <td>2.000000</td>\n",
       "      <td>4.000000</td>\n",
       "      <td>17.000000</td>\n",
       "    </tr>\n",
       "    <tr>\n",
       "      <th>ALL CARCASE MEAT</th>\n",
       "      <td>43624.0</td>\n",
       "      <td>0.923563</td>\n",
       "      <td>1.192041e+00</td>\n",
       "      <td>0.000000</td>\n",
       "      <td>0.000000</td>\n",
       "      <td>1.000000</td>\n",
       "      <td>2.000000</td>\n",
       "      <td>11.000000</td>\n",
       "    </tr>\n",
       "    <tr>\n",
       "      <th>ALL FATS</th>\n",
       "      <td>43624.0</td>\n",
       "      <td>0.908594</td>\n",
       "      <td>1.002209e+00</td>\n",
       "      <td>0.000000</td>\n",
       "      <td>0.000000</td>\n",
       "      <td>1.000000</td>\n",
       "      <td>1.000000</td>\n",
       "      <td>10.000000</td>\n",
       "    </tr>\n",
       "    <tr>\n",
       "      <th>ALL FISH</th>\n",
       "      <td>43624.0</td>\n",
       "      <td>0.971931</td>\n",
       "      <td>1.237042e+00</td>\n",
       "      <td>0.000000</td>\n",
       "      <td>0.000000</td>\n",
       "      <td>1.000000</td>\n",
       "      <td>2.000000</td>\n",
       "      <td>16.000000</td>\n",
       "    </tr>\n",
       "    <tr>\n",
       "      <th>ALL PROCESSED VEGETABLES</th>\n",
       "      <td>43624.0</td>\n",
       "      <td>2.746229</td>\n",
       "      <td>2.687398e+00</td>\n",
       "      <td>0.000000</td>\n",
       "      <td>1.000000</td>\n",
       "      <td>2.000000</td>\n",
       "      <td>4.000000</td>\n",
       "      <td>23.000000</td>\n",
       "    </tr>\n",
       "    <tr>\n",
       "      <th>CEREALS, EXCL. BREAD,BUNS,CAKES,BISCUITS</th>\n",
       "      <td>43624.0</td>\n",
       "      <td>2.232704</td>\n",
       "      <td>2.372949e+00</td>\n",
       "      <td>0.000000</td>\n",
       "      <td>0.000000</td>\n",
       "      <td>2.000000</td>\n",
       "      <td>3.000000</td>\n",
       "      <td>21.000000</td>\n",
       "    </tr>\n",
       "    <tr>\n",
       "      <th>EGGS</th>\n",
       "      <td>43624.0</td>\n",
       "      <td>0.498774</td>\n",
       "      <td>6.610534e-01</td>\n",
       "      <td>0.000000</td>\n",
       "      <td>0.000000</td>\n",
       "      <td>0.000000</td>\n",
       "      <td>1.000000</td>\n",
       "      <td>9.000000</td>\n",
       "    </tr>\n",
       "    <tr>\n",
       "      <th>FLOUR</th>\n",
       "      <td>43624.0</td>\n",
       "      <td>0.089847</td>\n",
       "      <td>3.367303e-01</td>\n",
       "      <td>0.000000</td>\n",
       "      <td>0.000000</td>\n",
       "      <td>0.000000</td>\n",
       "      <td>0.000000</td>\n",
       "      <td>7.000000</td>\n",
       "    </tr>\n",
       "    <tr>\n",
       "      <th>FRESH FRUIT</th>\n",
       "      <td>43624.0</td>\n",
       "      <td>2.382691</td>\n",
       "      <td>2.480960e+00</td>\n",
       "      <td>0.000000</td>\n",
       "      <td>0.000000</td>\n",
       "      <td>2.000000</td>\n",
       "      <td>4.000000</td>\n",
       "      <td>33.000000</td>\n",
       "    </tr>\n",
       "    <tr>\n",
       "      <th>FRESH GREEN VEGETABLES</th>\n",
       "      <td>43624.0</td>\n",
       "      <td>1.202790</td>\n",
       "      <td>1.448997e+00</td>\n",
       "      <td>0.000000</td>\n",
       "      <td>0.000000</td>\n",
       "      <td>1.000000</td>\n",
       "      <td>2.000000</td>\n",
       "      <td>16.000000</td>\n",
       "    </tr>\n",
       "    <tr>\n",
       "      <th>FRUIT &amp; FRUIT PRODS. NOT FRESH</th>\n",
       "      <td>43624.0</td>\n",
       "      <td>0.862197</td>\n",
       "      <td>1.287786e+00</td>\n",
       "      <td>0.000000</td>\n",
       "      <td>0.000000</td>\n",
       "      <td>0.000000</td>\n",
       "      <td>1.000000</td>\n",
       "      <td>15.000000</td>\n",
       "    </tr>\n",
       "    <tr>\n",
       "      <th>LIQUID WHOLEMILK, INC SCHOOL &amp; WELFARE</th>\n",
       "      <td>43624.0</td>\n",
       "      <td>1.501799</td>\n",
       "      <td>2.409805e+00</td>\n",
       "      <td>0.000000</td>\n",
       "      <td>0.000000</td>\n",
       "      <td>0.000000</td>\n",
       "      <td>2.000000</td>\n",
       "      <td>20.000000</td>\n",
       "    </tr>\n",
       "    <tr>\n",
       "      <th>OTHER FRESH VEGETABLES</th>\n",
       "      <td>43624.0</td>\n",
       "      <td>2.684497</td>\n",
       "      <td>2.741179e+00</td>\n",
       "      <td>0.000000</td>\n",
       "      <td>0.100000</td>\n",
       "      <td>2.000000</td>\n",
       "      <td>4.000000</td>\n",
       "      <td>26.000000</td>\n",
       "    </tr>\n",
       "    <tr>\n",
       "      <th>OTHER MILK &amp; CREAM</th>\n",
       "      <td>43624.0</td>\n",
       "      <td>3.052689</td>\n",
       "      <td>2.932277e+00</td>\n",
       "      <td>0.000000</td>\n",
       "      <td>1.000000</td>\n",
       "      <td>2.000000</td>\n",
       "      <td>5.000000</td>\n",
       "      <td>28.000000</td>\n",
       "    </tr>\n",
       "    <tr>\n",
       "      <th>POTATOES</th>\n",
       "      <td>43624.0</td>\n",
       "      <td>0.853028</td>\n",
       "      <td>9.805450e-01</td>\n",
       "      <td>0.000000</td>\n",
       "      <td>0.000000</td>\n",
       "      <td>1.000000</td>\n",
       "      <td>1.000000</td>\n",
       "      <td>9.000000</td>\n",
       "    </tr>\n",
       "    <tr>\n",
       "      <th>TOTAL CHEESE</th>\n",
       "      <td>43624.0</td>\n",
       "      <td>0.904124</td>\n",
       "      <td>1.104125e+00</td>\n",
       "      <td>0.000000</td>\n",
       "      <td>0.000000</td>\n",
       "      <td>1.000000</td>\n",
       "      <td>1.000000</td>\n",
       "      <td>11.000000</td>\n",
       "    </tr>\n",
       "    <tr>\n",
       "      <th>sum_good</th>\n",
       "      <td>43624.0</td>\n",
       "      <td>24.419299</td>\n",
       "      <td>1.410201e+01</td>\n",
       "      <td>0.100000</td>\n",
       "      <td>14.000000</td>\n",
       "      <td>23.000000</td>\n",
       "      <td>33.000000</td>\n",
       "      <td>115.000000</td>\n",
       "    </tr>\n",
       "    <tr>\n",
       "      <th>ALCOHOLIC DRINKS</th>\n",
       "      <td>43624.0</td>\n",
       "      <td>0.577054</td>\n",
       "      <td>1.242929e+00</td>\n",
       "      <td>0.000000</td>\n",
       "      <td>0.000000</td>\n",
       "      <td>0.000000</td>\n",
       "      <td>1.000000</td>\n",
       "      <td>22.000000</td>\n",
       "    </tr>\n",
       "    <tr>\n",
       "      <th>ALL NON-CARCASE MEAT AND MEAT PRODUCTS</th>\n",
       "      <td>43624.0</td>\n",
       "      <td>3.875926</td>\n",
       "      <td>3.333703e+00</td>\n",
       "      <td>0.000000</td>\n",
       "      <td>1.000000</td>\n",
       "      <td>3.000000</td>\n",
       "      <td>6.000000</td>\n",
       "      <td>38.000000</td>\n",
       "    </tr>\n",
       "    <tr>\n",
       "      <th>ALL OTHER FOODS</th>\n",
       "      <td>43624.0</td>\n",
       "      <td>1.963722</td>\n",
       "      <td>2.247145e+00</td>\n",
       "      <td>0.000000</td>\n",
       "      <td>0.000000</td>\n",
       "      <td>1.000000</td>\n",
       "      <td>3.000000</td>\n",
       "      <td>26.000000</td>\n",
       "    </tr>\n",
       "    <tr>\n",
       "      <th>BEVERAGES</th>\n",
       "      <td>43624.0</td>\n",
       "      <td>0.584985</td>\n",
       "      <td>8.180094e-01</td>\n",
       "      <td>0.000000</td>\n",
       "      <td>0.000000</td>\n",
       "      <td>0.000000</td>\n",
       "      <td>1.000000</td>\n",
       "      <td>34.000000</td>\n",
       "    </tr>\n",
       "    <tr>\n",
       "      <th>BISCUITS, CAKES, BUNS, CRISPBREADS</th>\n",
       "      <td>43624.0</td>\n",
       "      <td>2.341083</td>\n",
       "      <td>2.587557e+00</td>\n",
       "      <td>0.000000</td>\n",
       "      <td>0.100000</td>\n",
       "      <td>2.000000</td>\n",
       "      <td>4.000000</td>\n",
       "      <td>32.000000</td>\n",
       "    </tr>\n",
       "    <tr>\n",
       "      <th>CONFECTIONERY</th>\n",
       "      <td>43624.0</td>\n",
       "      <td>0.780910</td>\n",
       "      <td>1.509452e+00</td>\n",
       "      <td>0.000000</td>\n",
       "      <td>0.000000</td>\n",
       "      <td>0.000000</td>\n",
       "      <td>1.000000</td>\n",
       "      <td>22.000000</td>\n",
       "    </tr>\n",
       "    <tr>\n",
       "      <th>SOFT DRINKS</th>\n",
       "      <td>43624.0</td>\n",
       "      <td>1.249619</td>\n",
       "      <td>1.701098e+00</td>\n",
       "      <td>0.000000</td>\n",
       "      <td>0.000000</td>\n",
       "      <td>1.000000</td>\n",
       "      <td>2.000000</td>\n",
       "      <td>20.000000</td>\n",
       "    </tr>\n",
       "    <tr>\n",
       "      <th>SUGAR AND PRESERVES</th>\n",
       "      <td>43624.0</td>\n",
       "      <td>0.500330</td>\n",
       "      <td>7.947420e-01</td>\n",
       "      <td>0.000000</td>\n",
       "      <td>0.000000</td>\n",
       "      <td>0.000000</td>\n",
       "      <td>1.000000</td>\n",
       "      <td>9.000000</td>\n",
       "    </tr>\n",
       "    <tr>\n",
       "      <th>sum_bad</th>\n",
       "      <td>43624.0</td>\n",
       "      <td>11.837782</td>\n",
       "      <td>8.717686e+00</td>\n",
       "      <td>0.100000</td>\n",
       "      <td>5.000000</td>\n",
       "      <td>10.000000</td>\n",
       "      <td>17.000000</td>\n",
       "      <td>92.000000</td>\n",
       "    </tr>\n",
       "    <tr>\n",
       "      <th>how_good</th>\n",
       "      <td>43624.0</td>\n",
       "      <td>0.685303</td>\n",
       "      <td>1.322563e-01</td>\n",
       "      <td>0.012346</td>\n",
       "      <td>0.600000</td>\n",
       "      <td>0.683333</td>\n",
       "      <td>0.767893</td>\n",
       "      <td>0.998117</td>\n",
       "    </tr>\n",
       "    <tr>\n",
       "      <th>how_bad</th>\n",
       "      <td>43624.0</td>\n",
       "      <td>0.314697</td>\n",
       "      <td>1.322563e-01</td>\n",
       "      <td>0.001883</td>\n",
       "      <td>0.232107</td>\n",
       "      <td>0.316667</td>\n",
       "      <td>0.400000</td>\n",
       "      <td>0.987654</td>\n",
       "    </tr>\n",
       "    <tr>\n",
       "      <th>good_cart</th>\n",
       "      <td>43624.0</td>\n",
       "      <td>0.500367</td>\n",
       "      <td>5.000056e-01</td>\n",
       "      <td>0.000000</td>\n",
       "      <td>0.000000</td>\n",
       "      <td>1.000000</td>\n",
       "      <td>1.000000</td>\n",
       "      <td>1.000000</td>\n",
       "    </tr>\n",
       "  </tbody>\n",
       "</table>\n",
       "</div>"
      ],
      "text/plain": [
       "                                            count           mean           std            min            25%            50%            75%            max\n",
       "hhno                                      43624.0  245955.482074  1.289457e+04  100136.000000  235093.750000  246000.500000  256907.250000  267819.000000\n",
       "mic                                       43624.0       0.782047  4.128603e-01       0.000000       1.000000       1.000000       1.000000       1.000000\n",
       "frez                                      43624.0       0.917133  2.756846e-01       0.000000       1.000000       1.000000       1.000000       1.000000\n",
       "memhh                                     43624.0       2.508275  1.336382e+00       1.000000       2.000000       2.000000       3.000000      10.000000\n",
       "dacthoh                                   43624.0       0.100000  2.775589e-17       0.100000       0.100000       0.100000       0.100000       0.100000\n",
       "Finc_decile_by_members_of_hh              43624.0       5.005524  3.160195e+00       0.000000       2.000000       5.000000       8.000000      10.000000\n",
       "agehoh_banded                             43624.0       4.078670  1.702887e+00       0.100000       3.000000       4.000000       5.000000       7.000000\n",
       "agehw_banded                              43624.0       3.920411  1.713561e+00       0.100000       2.000000       4.000000       5.000000       7.000000\n",
       "adltm                                     43624.0       0.886301  5.838463e-01       0.000000       1.000000       1.000000       1.000000       5.000000\n",
       "adltf                                     43624.0       0.986980  4.853634e-01       0.000000       1.000000       1.000000       1.000000       7.000000\n",
       "child                                     43624.0       0.634994  1.031150e+00       0.000000       0.000000       0.000000       1.000000       8.000000\n",
       "oaps                                      43624.0       0.272052  5.565326e-01       0.000000       0.000000       0.000000       0.000000       4.000000\n",
       "adltgt64                                  43624.0       0.352558  6.397434e-01       0.000000       0.000000       0.000000       1.000000       4.000000\n",
       "agemdk_banded                             43624.0       3.928273  1.716201e+00       0.100000       3.000000       4.000000       5.000000       8.000000\n",
       "frij                                      43624.0       0.031082  4.628326e-02       0.000000       0.000000       0.000000       0.100000       0.100000\n",
       "earners                                   43624.0       1.107235  9.859564e-01       0.000000       0.000000       1.000000       2.000000       6.000000\n",
       "dactxhoh                                  43624.0       0.031082  4.628326e-02       0.000000       0.000000       0.000000       0.100000       0.100000\n",
       "empst                                     43624.0       1.933294  2.495157e-01       1.000000       2.000000       2.000000       2.000000       2.000000\n",
       "vegind                                    43624.0       0.141250  4.348065e-01       0.000000       0.000000       0.000000       0.100000       2.000000\n",
       "withjob                                   43624.0       0.307468  6.494568e-01       0.000000       0.000000       0.100000       0.100000       2.000000\n",
       "landlord                                  43624.0       0.405442  1.254211e+00       0.000000       0.000000       0.100000       0.100000       7.000000\n",
       "furnish                                   43624.0       0.409981  9.369003e-01       0.000000       0.000000       0.100000       0.100000       3.000000\n",
       "benefits                                  43624.0       0.120690  3.257709e-01       0.000000       0.000000       0.000000       0.000000       1.000000\n",
       "ALL BREAD                                 43624.0       2.629459  2.016277e+00       0.000000       1.000000       2.000000       4.000000      17.000000\n",
       "ALL CARCASE MEAT                          43624.0       0.923563  1.192041e+00       0.000000       0.000000       1.000000       2.000000      11.000000\n",
       "ALL FATS                                  43624.0       0.908594  1.002209e+00       0.000000       0.000000       1.000000       1.000000      10.000000\n",
       "ALL FISH                                  43624.0       0.971931  1.237042e+00       0.000000       0.000000       1.000000       2.000000      16.000000\n",
       "ALL PROCESSED VEGETABLES                  43624.0       2.746229  2.687398e+00       0.000000       1.000000       2.000000       4.000000      23.000000\n",
       "CEREALS, EXCL. BREAD,BUNS,CAKES,BISCUITS  43624.0       2.232704  2.372949e+00       0.000000       0.000000       2.000000       3.000000      21.000000\n",
       "EGGS                                      43624.0       0.498774  6.610534e-01       0.000000       0.000000       0.000000       1.000000       9.000000\n",
       "FLOUR                                     43624.0       0.089847  3.367303e-01       0.000000       0.000000       0.000000       0.000000       7.000000\n",
       "FRESH FRUIT                               43624.0       2.382691  2.480960e+00       0.000000       0.000000       2.000000       4.000000      33.000000\n",
       "FRESH GREEN VEGETABLES                    43624.0       1.202790  1.448997e+00       0.000000       0.000000       1.000000       2.000000      16.000000\n",
       "FRUIT & FRUIT PRODS. NOT FRESH            43624.0       0.862197  1.287786e+00       0.000000       0.000000       0.000000       1.000000      15.000000\n",
       "LIQUID WHOLEMILK, INC SCHOOL & WELFARE    43624.0       1.501799  2.409805e+00       0.000000       0.000000       0.000000       2.000000      20.000000\n",
       "OTHER FRESH VEGETABLES                    43624.0       2.684497  2.741179e+00       0.000000       0.100000       2.000000       4.000000      26.000000\n",
       "OTHER MILK & CREAM                        43624.0       3.052689  2.932277e+00       0.000000       1.000000       2.000000       5.000000      28.000000\n",
       "POTATOES                                  43624.0       0.853028  9.805450e-01       0.000000       0.000000       1.000000       1.000000       9.000000\n",
       "TOTAL CHEESE                              43624.0       0.904124  1.104125e+00       0.000000       0.000000       1.000000       1.000000      11.000000\n",
       "sum_good                                  43624.0      24.419299  1.410201e+01       0.100000      14.000000      23.000000      33.000000     115.000000\n",
       "ALCOHOLIC DRINKS                          43624.0       0.577054  1.242929e+00       0.000000       0.000000       0.000000       1.000000      22.000000\n",
       "ALL NON-CARCASE MEAT AND MEAT PRODUCTS    43624.0       3.875926  3.333703e+00       0.000000       1.000000       3.000000       6.000000      38.000000\n",
       "ALL OTHER FOODS                           43624.0       1.963722  2.247145e+00       0.000000       0.000000       1.000000       3.000000      26.000000\n",
       "BEVERAGES                                 43624.0       0.584985  8.180094e-01       0.000000       0.000000       0.000000       1.000000      34.000000\n",
       "BISCUITS, CAKES, BUNS, CRISPBREADS        43624.0       2.341083  2.587557e+00       0.000000       0.100000       2.000000       4.000000      32.000000\n",
       "CONFECTIONERY                             43624.0       0.780910  1.509452e+00       0.000000       0.000000       0.000000       1.000000      22.000000\n",
       "SOFT DRINKS                               43624.0       1.249619  1.701098e+00       0.000000       0.000000       1.000000       2.000000      20.000000\n",
       "SUGAR AND PRESERVES                       43624.0       0.500330  7.947420e-01       0.000000       0.000000       0.000000       1.000000       9.000000\n",
       "sum_bad                                   43624.0      11.837782  8.717686e+00       0.100000       5.000000      10.000000      17.000000      92.000000\n",
       "how_good                                  43624.0       0.685303  1.322563e-01       0.012346       0.600000       0.683333       0.767893       0.998117\n",
       "how_bad                                   43624.0       0.314697  1.322563e-01       0.001883       0.232107       0.316667       0.400000       0.987654\n",
       "good_cart                                 43624.0       0.500367  5.000056e-01       0.000000       0.000000       1.000000       1.000000       1.000000"
      ]
     },
     "execution_count": 42,
     "metadata": {},
     "output_type": "execute_result"
    }
   ],
   "source": [
    "df_cat.describe().transpose()"
   ]
  },
  {
   "cell_type": "markdown",
   "metadata": {},
   "source": [
    "### Graphic exploration"
   ]
  },
  {
   "cell_type": "code",
   "execution_count": 43,
   "metadata": {
    "collapsed": false
   },
   "outputs": [
    {
     "data": {
      "text/plain": [
       "<matplotlib.text.Text at 0x85dc9c4c>"
      ]
     },
     "execution_count": 43,
     "metadata": {},
     "output_type": "execute_result"
    },
    {
     "data": {
      "image/png": "[encoded data removed]",
      "text/plain": [
       "<matplotlib.figure.Figure at 0x8665fa4c>"
      ]
     },
     "metadata": {},
     "output_type": "display_data"
    }
   ],
   "source": [
    "#Having a microwave seems to be associated with diet\n",
    "pd.crosstab(df_cat.mic, df_cat.good_cart.astype(bool)).plot(kind='bar')\n",
    "plt.title('Microwave by Cart Goodness')\n",
    "plt.xlabel('Microwave')\n",
    "plt.ylabel('Frequency')"
   ]
  },
  {
   "cell_type": "code",
   "execution_count": 44,
   "metadata": {
    "collapsed": false
   },
   "outputs": [
    {
     "data": {
      "text/plain": [
       "<matplotlib.text.Text at 0x85ae9dec>"
      ]
     },
     "execution_count": 44,
     "metadata": {},
     "output_type": "execute_result"
    },
    {
     "data": {
      "image/png": "[encoded data removed]",
      "text/plain": [
       "<matplotlib.figure.Figure at 0x85b37d2c>"
      ]
     },
     "metadata": {},
     "output_type": "display_data"
    }
   ],
   "source": [
    "#Larger memhh seems to be associated with diet\n",
    "pd.crosstab(df_cat.memhh, df_cat.good_cart.astype(bool)).plot(kind='bar')\n",
    "plt.title('memhh by Cart Goodness')\n",
    "plt.xlabel('memhh')\n",
    "plt.ylabel('Frequency')"
   ]
  },
  {
   "cell_type": "code",
   "execution_count": 45,
   "metadata": {
    "collapsed": false
   },
   "outputs": [
    {
     "data": {
      "text/plain": [
       "<matplotlib.text.Text at 0x7a85d28c>"
      ]
     },
     "execution_count": 45,
     "metadata": {},
     "output_type": "execute_result"
    },
    {
     "data": {
      "image/png": "[encoded data removed]",
      "text/plain": [
       "<matplotlib.figure.Figure at 0x85aefdec>"
      ]
     },
     "metadata": {},
     "output_type": "display_data"
    }
   ],
   "source": [
    "#Finc_decile_by_members_of_hh seems to be associated with diet\n",
    "pd.crosstab(df_cat.Finc_decile_by_members_of_hh, df_cat.good_cart.astype(bool)).plot(kind='bar')\n",
    "plt.title('Finc_decile_by_members_of_hh by Cart Goodness')\n",
    "plt.xlabel('Finc_decile_by_members_of_hh')\n",
    "plt.ylabel('Frequency')"
   ]
  },
  {
   "cell_type": "code",
   "execution_count": 46,
   "metadata": {
    "collapsed": false
   },
   "outputs": [
    {
     "data": {
      "text/plain": [
       "<matplotlib.text.Text at 0x7a77dbcc>"
      ]
     },
     "execution_count": 46,
     "metadata": {},
     "output_type": "execute_result"
    },
    {
     "data": {
      "image/png": "[encoded data removed]",
      "text/plain": [
       "<matplotlib.figure.Figure at 0x7a83044c>"
      ]
     },
     "metadata": {},
     "output_type": "display_data"
    }
   ],
   "source": [
    "#agehoh_banded seems to be associated with diet\n",
    "pd.crosstab(df_cat.agehoh_banded, df_cat.good_cart.astype(bool)).plot(kind='bar')\n",
    "plt.title('agehoh_banded by Cart Goodness')\n",
    "plt.xlabel('agehoh_banded')\n",
    "plt.ylabel('Frequency')"
   ]
  },
  {
   "cell_type": "code",
   "execution_count": 47,
   "metadata": {
    "collapsed": false
   },
   "outputs": [
    {
     "data": {
      "text/plain": [
       "<matplotlib.text.Text at 0x7a5ade6c>"
      ]
     },
     "execution_count": 47,
     "metadata": {},
     "output_type": "execute_result"
    },
    {
     "data": {
      "image/png": "[encoded data removed]",
      "text/plain": [
       "<matplotlib.figure.Figure at 0x7a7a98ec>"
      ]
     },
     "metadata": {},
     "output_type": "display_data"
    }
   ],
   "source": [
    "#adltm seems to be associated with diet\n",
    "pd.crosstab(df_cat.adltm, df_cat.good_cart.astype(bool)).plot(kind='bar')\n",
    "plt.title('adltm by Cart Goodness')\n",
    "plt.xlabel('adltm')\n",
    "plt.ylabel('Frequency')"
   ]
  },
  {
   "cell_type": "code",
   "execution_count": 48,
   "metadata": {
    "collapsed": false
   },
   "outputs": [
    {
     "data": {
      "text/plain": [
       "<matplotlib.text.Text at 0x7a59b32c>"
      ]
     },
     "execution_count": 48,
     "metadata": {},
     "output_type": "execute_result"
    },
    {
     "data": {
      "image/png": "[encoded data removed]",
      "text/plain": [
       "<matplotlib.figure.Figure at 0x7a5bbe6c>"
      ]
     },
     "metadata": {},
     "output_type": "display_data"
    }
   ],
   "source": [
    "#adltf seems to be associated with diet\n",
    "pd.crosstab(df_cat.adltf, df_cat.good_cart.astype(bool)).plot(kind='bar')\n",
    "plt.title('adltf by Cart Goodness')\n",
    "plt.xlabel('adltf')\n",
    "plt.ylabel('Frequency')"
   ]
  },
  {
   "cell_type": "code",
   "execution_count": 49,
   "metadata": {
    "collapsed": false
   },
   "outputs": [
    {
     "data": {
      "text/plain": [
       "<matplotlib.text.Text at 0x85b3264c>"
      ]
     },
     "execution_count": 49,
     "metadata": {},
     "output_type": "execute_result"
    },
    {
     "data": {
      "image/png": "[encoded data removed]",
      "text/plain": [
       "<matplotlib.figure.Figure at 0x7a30db2c>"
      ]
     },
     "metadata": {},
     "output_type": "display_data"
    }
   ],
   "source": [
    "#child seems to be associated with diet\n",
    "pd.crosstab(df_cat.child, df_cat.good_cart.astype(bool)).plot(kind='bar')\n",
    "plt.title('child by Cart Goodness')\n",
    "plt.xlabel('child')\n",
    "plt.ylabel('Frequency')"
   ]
  },
  {
   "cell_type": "code",
   "execution_count": 50,
   "metadata": {
    "collapsed": false
   },
   "outputs": [
    {
     "data": {
      "text/plain": [
       "<matplotlib.text.Text at 0x870cd6ac>"
      ]
     },
     "execution_count": 50,
     "metadata": {},
     "output_type": "execute_result"
    },
    {
     "data": {
      "image/png": "[encoded data removed]",
      "text/plain": [
       "<matplotlib.figure.Figure at 0x7a60650c>"
      ]
     },
     "metadata": {},
     "output_type": "display_data"
    }
   ],
   "source": [
    "#oaps seems to be associated with diet\n",
    "pd.crosstab(df_cat.oaps, df_cat.good_cart.astype(bool)).plot(kind='bar')\n",
    "plt.title('oaps by Cart Goodness')\n",
    "plt.xlabel('oaps')\n",
    "plt.ylabel('Frequency')"
   ]
  },
  {
   "cell_type": "code",
   "execution_count": 51,
   "metadata": {
    "collapsed": false
   },
   "outputs": [
    {
     "data": {
      "text/plain": [
       "<matplotlib.text.Text at 0x939789cc>"
      ]
     },
     "execution_count": 51,
     "metadata": {},
     "output_type": "execute_result"
    },
    {
     "data": {
      "image/png": "[encoded data removed]",
      "text/plain": [
       "<matplotlib.figure.Figure at 0x870dc08c>"
      ]
     },
     "metadata": {},
     "output_type": "display_data"
    }
   ],
   "source": [
    "#adltgt64 seems to be associated with diet\n",
    "pd.crosstab(df_cat.adltgt64, df_cat.good_cart.astype(bool)).plot(kind='bar')\n",
    "plt.title('adltgt64 by Cart Goodness')\n",
    "plt.xlabel('adltgt64')\n",
    "plt.ylabel('Frequency')"
   ]
  },
  {
   "cell_type": "code",
   "execution_count": 52,
   "metadata": {
    "collapsed": false
   },
   "outputs": [
    {
     "data": {
      "text/plain": [
       "<matplotlib.text.Text at 0x8b80190c>"
      ]
     },
     "execution_count": 52,
     "metadata": {},
     "output_type": "execute_result"
    },
    {
     "data": {
      "image/png": "[encoded data removed]",
      "text/plain": [
       "<matplotlib.figure.Figure at 0x8b81c02c>"
      ]
     },
     "metadata": {},
     "output_type": "display_data"
    }
   ],
   "source": [
    "#child seems to be associated with diet\n",
    "pd.crosstab(df_cat.child, df_cat.good_cart.astype(bool)).plot(kind='bar')\n",
    "plt.title('child by Cart Goodness')\n",
    "plt.xlabel('child')\n",
    "plt.ylabel('Frequency')"
   ]
  },
  {
   "cell_type": "code",
   "execution_count": 53,
   "metadata": {
    "collapsed": false
   },
   "outputs": [
    {
     "data": {
      "text/plain": [
       "<matplotlib.text.Text at 0x85c6e0ac>"
      ]
     },
     "execution_count": 53,
     "metadata": {},
     "output_type": "execute_result"
    },
    {
     "data": {
      "image/png": "[encoded data removed]",
      "text/plain": [
       "<matplotlib.figure.Figure at 0x8707448c>"
      ]
     },
     "metadata": {},
     "output_type": "display_data"
    }
   ],
   "source": [
    "#agemdk_banded seems to be associated with diet\n",
    "pd.crosstab(df_cat.agemdk_banded, df_cat.good_cart.astype(bool)).plot(kind='bar')\n",
    "plt.title('agemdk_banded by Cart Goodness')\n",
    "plt.xlabel('agemdk_banded')\n",
    "plt.ylabel('Frequency')"
   ]
  },
  {
   "cell_type": "code",
   "execution_count": 54,
   "metadata": {
    "collapsed": false
   },
   "outputs": [
    {
     "data": {
      "text/plain": [
       "<matplotlib.text.Text at 0x8c89384c>"
      ]
     },
     "execution_count": 54,
     "metadata": {},
     "output_type": "execute_result"
    },
    {
     "data": {
      "image/png": "[encoded data removed]",
      "text/plain": [
       "<matplotlib.figure.Figure at 0x8bbc658c>"
      ]
     },
     "metadata": {},
     "output_type": "display_data"
    }
   ],
   "source": [
    "#earners seems to be associated with diet\n",
    "pd.crosstab(df_cat.earners, df_cat.good_cart.astype(bool)).plot(kind='bar')\n",
    "plt.title('earners by Cart Goodness')\n",
    "plt.xlabel('earners')\n",
    "plt.ylabel('Frequency')"
   ]
  },
  {
   "cell_type": "code",
   "execution_count": 55,
   "metadata": {
    "collapsed": false
   },
   "outputs": [
    {
     "data": {
      "text/plain": [
       "<matplotlib.text.Text at 0x7a2e0d6c>"
      ]
     },
     "execution_count": 55,
     "metadata": {},
     "output_type": "execute_result"
    },
    {
     "data": {
      "image/png": "[encoded data removed]",
      "text/plain": [
       "<matplotlib.figure.Figure at 0x8c89010c>"
      ]
     },
     "metadata": {},
     "output_type": "display_data"
    }
   ],
   "source": [
    "#workplace seems to be associated with diet\n",
    "pd.crosstab(df_cat.workplace, df_cat.good_cart.astype(bool)).plot(kind='bar')\n",
    "plt.title('workplace by Cart Goodness')\n",
    "plt.xlabel('workplace')\n",
    "plt.ylabel('Frequency')"
   ]
  },
  {
   "cell_type": "code",
   "execution_count": 56,
   "metadata": {
    "collapsed": false
   },
   "outputs": [
    {
     "data": {
      "text/plain": [
       "<matplotlib.text.Text at 0x79a49bec>"
      ]
     },
     "execution_count": 56,
     "metadata": {},
     "output_type": "execute_result"
    },
    {
     "data": {
      "image/png": "[encoded data removed]",
      "text/plain": [
       "<matplotlib.figure.Figure at 0x79a735cc>"
      ]
     },
     "metadata": {},
     "output_type": "display_data"
    }
   ],
   "source": [
    "#reg_text seems to be associated with diet\n",
    "pd.crosstab(df_cat.reg_text, df_cat.good_cart.astype(bool)).plot(kind='bar')\n",
    "plt.title('reg_text by Cart Goodness')\n",
    "plt.xlabel('reg_text')\n",
    "plt.ylabel('Frequency')"
   ]
  },
  {
   "cell_type": "code",
   "execution_count": 57,
   "metadata": {
    "collapsed": false
   },
   "outputs": [
    {
     "data": {
      "text/plain": [
       "<matplotlib.text.Text at 0x7981702c>"
      ]
     },
     "execution_count": 57,
     "metadata": {},
     "output_type": "execute_result"
    },
    {
     "data": {
      "image/png": "[encoded data removed]",
      "text/plain": [
       "<matplotlib.figure.Figure at 0x8c88c22c>"
      ]
     },
     "metadata": {},
     "output_type": "display_data"
    }
   ],
   "source": [
    "#income_group seems to be associated with diet\n",
    "pd.crosstab(df_cat.income_group, df_cat.good_cart.astype(bool)).plot(kind='bar')\n",
    "plt.title('income_group by Cart Goodness')\n",
    "plt.xlabel('income_group')\n",
    "plt.ylabel('Frequency')"
   ]
  },
  {
   "cell_type": "code",
   "execution_count": 58,
   "metadata": {
    "collapsed": false
   },
   "outputs": [
    {
     "data": {
      "text/plain": [
       "<matplotlib.text.Text at 0x7979cbcc>"
      ]
     },
     "execution_count": 58,
     "metadata": {},
     "output_type": "execute_result"
    },
    {
     "data": {
      "image/png": "[encoded data removed]",
      "text/plain": [
       "<matplotlib.figure.Figure at 0x797eb50c>"
      ]
     },
     "metadata": {},
     "output_type": "display_data"
    }
   ],
   "source": [
    "#job_status_hoh seems to be associated with diet\n",
    "pd.crosstab(df_cat.job_status_hoh, df_cat.good_cart.astype(bool)).plot(kind='bar')\n",
    "plt.title('job_status_hoh by Cart Goodness')\n",
    "plt.xlabel('job_status_hoh')\n",
    "plt.ylabel('Frequency')"
   ]
  },
  {
   "cell_type": "code",
   "execution_count": 59,
   "metadata": {
    "collapsed": false
   },
   "outputs": [
    {
     "data": {
      "text/plain": [
       "<matplotlib.text.Text at 0x7979738c>"
      ]
     },
     "execution_count": 59,
     "metadata": {},
     "output_type": "execute_result"
    },
    {
     "data": {
      "image/png": "[encoded data removed]",
      "text/plain": [
       "<matplotlib.figure.Figure at 0x797af8ac>"
      ]
     },
     "metadata": {},
     "output_type": "display_data"
    }
   ],
   "source": [
    "#ownhome seems to be associated with diet\n",
    "pd.crosstab(df_cat.ownhome, df_cat.good_cart.astype(bool)).plot(kind='bar')\n",
    "plt.title('ownhome by Cart Goodness')\n",
    "plt.xlabel('ownhome')\n",
    "plt.ylabel('Frequency')"
   ]
  },
  {
   "cell_type": "markdown",
   "metadata": {},
   "source": [
    "## Prepare data for LR model\n",
    "\n",
    "This includes:\n",
    "- Selecting variables: identifier for each family, pre-selected demographic variables, and outcome variable (\"good_cart\")\n",
    "- Renaming variables so that they are easier to understand when looking at the results\n",
    "- Creating the matrices (and maybe renaming the ugly variables)\n",
    "- Flattening the y matrix"
   ]
  },
  {
   "cell_type": "code",
   "execution_count": 60,
   "metadata": {
    "collapsed": false
   },
   "outputs": [
    {
     "data": {
      "text/html": [
       "<div>\n",
       "<table border=\"1\" class=\"dataframe\">\n",
       "  <thead>\n",
       "    <tr style=\"text-align: right;\">\n",
       "      <th></th>\n",
       "      <th>hhno</th>\n",
       "      <th>good_cart</th>\n",
       "      <th>veget</th>\n",
       "      <th>micro</th>\n",
       "      <th>freez</th>\n",
       "      <th>fridge</th>\n",
       "      <th>own_home</th>\n",
       "      <th>landlord</th>\n",
       "      <th>furnish</th>\n",
       "      <th>people</th>\n",
       "      <th>males</th>\n",
       "      <th>females</th>\n",
       "      <th>children</th>\n",
       "      <th>oaps</th>\n",
       "      <th>seniors</th>\n",
       "      <th>earners</th>\n",
       "      <th>age_head</th>\n",
       "      <th>age_hwife</th>\n",
       "      <th>age_reporter</th>\n",
       "      <th>income</th>\n",
       "      <th>income_group</th>\n",
       "      <th>benefits</th>\n",
       "      <th>workplace</th>\n",
       "      <th>job_status</th>\n",
       "      <th>withjob</th>\n",
       "      <th>country</th>\n",
       "      <th>region</th>\n",
       "      <th>survyear</th>\n",
       "    </tr>\n",
       "  </thead>\n",
       "  <tbody>\n",
       "    <tr>\n",
       "      <th>0</th>\n",
       "      <td>224203</td>\n",
       "      <td>1</td>\n",
       "      <td>0.0</td>\n",
       "      <td>1</td>\n",
       "      <td>1</td>\n",
       "      <td>0.0</td>\n",
       "      <td>OWNS WITH MORTGAGE</td>\n",
       "      <td>0.1</td>\n",
       "      <td>0.1</td>\n",
       "      <td>3</td>\n",
       "      <td>1</td>\n",
       "      <td>1</td>\n",
       "      <td>1</td>\n",
       "      <td>0</td>\n",
       "      <td>0</td>\n",
       "      <td>1</td>\n",
       "      <td>4.0</td>\n",
       "      <td>4.0</td>\n",
       "      <td>4.0</td>\n",
       "      <td>10</td>\n",
       "      <td>A1</td>\n",
       "      <td>0</td>\n",
       "      <td>WORKS FOR ESTABLISHMENT OF LESS THAN 25</td>\n",
       "      <td>SELF EMPLOYED WITH EMPLOYEES</td>\n",
       "      <td>0.1</td>\n",
       "      <td>Wales</td>\n",
       "      <td>WALES</td>\n",
       "      <td>1995</td>\n",
       "    </tr>\n",
       "    <tr>\n",
       "      <th>1</th>\n",
       "      <td>224204</td>\n",
       "      <td>0</td>\n",
       "      <td>2.0</td>\n",
       "      <td>1</td>\n",
       "      <td>1</td>\n",
       "      <td>0.0</td>\n",
       "      <td>OWNS OUTRIGHT</td>\n",
       "      <td>0.1</td>\n",
       "      <td>0.1</td>\n",
       "      <td>1</td>\n",
       "      <td>1</td>\n",
       "      <td>0</td>\n",
       "      <td>0</td>\n",
       "      <td>0</td>\n",
       "      <td>0</td>\n",
       "      <td>1</td>\n",
       "      <td>3.0</td>\n",
       "      <td>3.0</td>\n",
       "      <td>3.0</td>\n",
       "      <td>0</td>\n",
       "      <td>B</td>\n",
       "      <td>0</td>\n",
       "      <td>WORKS FOR ESTABLISHMENT OF LESS THAN 25</td>\n",
       "      <td>FOREMEN/SUPERVISORS</td>\n",
       "      <td>0.1</td>\n",
       "      <td>Wales</td>\n",
       "      <td>WALES</td>\n",
       "      <td>1995</td>\n",
       "    </tr>\n",
       "    <tr>\n",
       "      <th>2</th>\n",
       "      <td>224205</td>\n",
       "      <td>1</td>\n",
       "      <td>0.0</td>\n",
       "      <td>0</td>\n",
       "      <td>0</td>\n",
       "      <td>0.0</td>\n",
       "      <td>OWNS OUTRIGHT</td>\n",
       "      <td>0.1</td>\n",
       "      <td>0.1</td>\n",
       "      <td>2</td>\n",
       "      <td>1</td>\n",
       "      <td>1</td>\n",
       "      <td>0</td>\n",
       "      <td>0</td>\n",
       "      <td>0</td>\n",
       "      <td>2</td>\n",
       "      <td>4.0</td>\n",
       "      <td>4.0</td>\n",
       "      <td>4.0</td>\n",
       "      <td>0</td>\n",
       "      <td>C</td>\n",
       "      <td>0</td>\n",
       "      <td>WORKS FOR ESTABLISHMENT OF LESS THAN 25</td>\n",
       "      <td>APPRENTICES/EMPLOYEES NEC</td>\n",
       "      <td>0.1</td>\n",
       "      <td>Wales</td>\n",
       "      <td>WALES</td>\n",
       "      <td>1995</td>\n",
       "    </tr>\n",
       "    <tr>\n",
       "      <th>3</th>\n",
       "      <td>224206</td>\n",
       "      <td>1</td>\n",
       "      <td>0.0</td>\n",
       "      <td>1</td>\n",
       "      <td>1</td>\n",
       "      <td>0.0</td>\n",
       "      <td>OWNS OUTRIGHT</td>\n",
       "      <td>0.1</td>\n",
       "      <td>0.1</td>\n",
       "      <td>2</td>\n",
       "      <td>1</td>\n",
       "      <td>1</td>\n",
       "      <td>0</td>\n",
       "      <td>0</td>\n",
       "      <td>0</td>\n",
       "      <td>2</td>\n",
       "      <td>5.0</td>\n",
       "      <td>5.0</td>\n",
       "      <td>5.0</td>\n",
       "      <td>0</td>\n",
       "      <td>B</td>\n",
       "      <td>0</td>\n",
       "      <td>WORKS FOR ESTABLISHMENT OF 25 OR MORE</td>\n",
       "      <td>MANAGERS</td>\n",
       "      <td>0.1</td>\n",
       "      <td>Wales</td>\n",
       "      <td>WALES</td>\n",
       "      <td>1995</td>\n",
       "    </tr>\n",
       "    <tr>\n",
       "      <th>4</th>\n",
       "      <td>224207</td>\n",
       "      <td>0</td>\n",
       "      <td>0.0</td>\n",
       "      <td>1</td>\n",
       "      <td>0</td>\n",
       "      <td>0.0</td>\n",
       "      <td>UNFURNISHED COUNCIL</td>\n",
       "      <td>0.1</td>\n",
       "      <td>0.1</td>\n",
       "      <td>1</td>\n",
       "      <td>0</td>\n",
       "      <td>1</td>\n",
       "      <td>0</td>\n",
       "      <td>1</td>\n",
       "      <td>1</td>\n",
       "      <td>0</td>\n",
       "      <td>7.0</td>\n",
       "      <td>7.0</td>\n",
       "      <td>7.0</td>\n",
       "      <td>1</td>\n",
       "      <td>OAP</td>\n",
       "      <td>0</td>\n",
       "      <td>NOT APPLICABLE HOH UNEMPLOYED/RETIRED</td>\n",
       "      <td>NOT APPLICABLE HOH UNEMPLOYED/RETIRED</td>\n",
       "      <td>0.1</td>\n",
       "      <td>Wales</td>\n",
       "      <td>WALES</td>\n",
       "      <td>1995</td>\n",
       "    </tr>\n",
       "  </tbody>\n",
       "</table>\n",
       "</div>"
      ],
      "text/plain": [
       "     hhno  good_cart  veget  micro  freez  fridge             own_home  landlord  furnish  people  males  females  children  oaps  seniors  earners  age_head  age_hwife  age_reporter  income income_group  benefits                                workplace                             job_status  withjob country region survyear\n",
       "0  224203          1    0.0      1      1     0.0   OWNS WITH MORTGAGE       0.1      0.1       3      1        1         1     0        0        1       4.0        4.0           4.0      10           A1         0  WORKS FOR ESTABLISHMENT OF LESS THAN 25           SELF EMPLOYED WITH EMPLOYEES      0.1   Wales  WALES     1995\n",
       "1  224204          0    2.0      1      1     0.0        OWNS OUTRIGHT       0.1      0.1       1      1        0         0     0        0        1       3.0        3.0           3.0       0            B         0  WORKS FOR ESTABLISHMENT OF LESS THAN 25                    FOREMEN/SUPERVISORS      0.1   Wales  WALES     1995\n",
       "2  224205          1    0.0      0      0     0.0        OWNS OUTRIGHT       0.1      0.1       2      1        1         0     0        0        2       4.0        4.0           4.0       0            C         0  WORKS FOR ESTABLISHMENT OF LESS THAN 25              APPRENTICES/EMPLOYEES NEC      0.1   Wales  WALES     1995\n",
       "3  224206          1    0.0      1      1     0.0        OWNS OUTRIGHT       0.1      0.1       2      1        1         0     0        0        2       5.0        5.0           5.0       0            B         0    WORKS FOR ESTABLISHMENT OF 25 OR MORE                               MANAGERS      0.1   Wales  WALES     1995\n",
       "4  224207          0    0.0      1      0     0.0  UNFURNISHED COUNCIL       0.1      0.1       1      0        1         0     1        1        0       7.0        7.0           7.0       1          OAP         0    NOT APPLICABLE HOH UNEMPLOYED/RETIRED  NOT APPLICABLE HOH UNEMPLOYED/RETIRED      0.1   Wales  WALES     1995"
      ]
     },
     "execution_count": 60,
     "metadata": {},
     "output_type": "execute_result"
    }
   ],
   "source": [
    "#df_cat.columns\n",
    "df = df_cat\n",
    "df = df[['hhno', 'mic', 'frez', 'memhh', 'Finc_decile_by_members_of_hh', 'agehoh_banded', \\\n",
    "                 'agehw_banded', 'adltm', 'adltf', 'child', 'oaps', 'adltgt64', 'country', 'agemdk_banded',\\\n",
    "                 'frij', 'earners', 'vegind', 'withjob', 'landlord', 'furnish', 'benefits', 'survyear',\\\n",
    "                 'reg_text', 'income_group', 'job_status_hoh', 'workplace', 'ownhome', 'good_cart']]\n",
    "df.columns = ['hhno', 'micro', 'freez', 'people', 'income', 'age_head', 'age_hwife', 'males', 'females',\\\n",
    "                  'children', 'oaps', 'seniors', 'country', 'age_reporter', 'fridge', 'earners', 'veget', \\\n",
    "                  'withjob', 'landlord', 'furnish', 'benefits', 'survyear', 'region', 'income_group', \\\n",
    "                  'job_status', 'workplace', 'own_home', 'good_cart']\n",
    "df = df[['hhno', 'good_cart', \\\n",
    "                 'veget', \\\n",
    "                 'micro', 'freez', 'fridge', 'own_home', 'landlord', 'furnish', \\\n",
    "                 'people', 'males', 'females', 'children', 'oaps', 'seniors', 'earners', \\\n",
    "                 'age_head', 'age_hwife', 'age_reporter', \\\n",
    "                 'income', 'income_group', 'benefits', 'workplace', 'job_status', 'withjob', \\\n",
    "                 'country', 'region', 'survyear']]\n",
    "df_clean = df\n",
    "df.head()"
   ]
  },
  {
   "cell_type": "code",
   "execution_count": 61,
   "metadata": {
    "collapsed": false
   },
   "outputs": [
    {
     "data": {
      "text/html": [
       "<div>\n",
       "<table border=\"1\" class=\"dataframe\">\n",
       "  <thead>\n",
       "    <tr style=\"text-align: right;\">\n",
       "      <th></th>\n",
       "      <th>Intercept</th>\n",
       "      <th>own_home[T.OWNS OUTRIGHT]</th>\n",
       "      <th>own_home[T.OWNS WITH MORTGAGE]</th>\n",
       "      <th>own_home[T.RENT FREE]</th>\n",
       "      <th>own_home[T.SHARED OWNERSHIP]</th>\n",
       "      <th>own_home[T.UNFURNISHED COUNCIL]</th>\n",
       "      <th>own_home[T.UNFURNISHED,OTHER,RENTED]</th>\n",
       "      <th>income_group[T.A2]</th>\n",
       "      <th>income_group[T.B]</th>\n",
       "      <th>income_group[T.C]</th>\n",
       "      <th>income_group[T.D]</th>\n",
       "      <th>income_group[T.E1]</th>\n",
       "      <th>income_group[T.E2]</th>\n",
       "      <th>income_group[T.OAP]</th>\n",
       "      <th>workplace[T.WORKS FOR ESTABLISHMENT OF 25 OR MORE]</th>\n",
       "      <th>workplace[T.WORKS FOR ESTABLISHMENT OF LESS THAN 25]</th>\n",
       "      <th>job_status[T.FOREMEN/SUPERVISORS]</th>\n",
       "      <th>job_status[T.MANAGERS]</th>\n",
       "      <th>job_status[T.NOT APPLICABLE HOH UNEMPLOYED/RETIRED]</th>\n",
       "      <th>job_status[T.SELF EMPLOYED WITH EMPLOYEES]</th>\n",
       "      <th>job_status[T.SELF EMPLOYED WITHOUT EMPLOYEES]</th>\n",
       "      <th>country[T.N Ireland]</th>\n",
       "      <th>country[T.Scotland]</th>\n",
       "      <th>country[T.Wales]</th>\n",
       "      <th>region[T.EAST MIDLANDS]</th>\n",
       "      <th>region[T.NORTH WEST]</th>\n",
       "      <th>region[T.NORTHERN]</th>\n",
       "      <th>region[T.NORTHERN IRELAND]</th>\n",
       "      <th>region[T.SCOTLAND]</th>\n",
       "      <th>region[T.SOUTH EAST]</th>\n",
       "      <th>region[T.SOUTH WEST]</th>\n",
       "      <th>region[T.WALES]</th>\n",
       "      <th>region[T.WEST MIDLANDS]</th>\n",
       "      <th>region[T.YORKS &amp; HUMBERSIDE]</th>\n",
       "      <th>survyear[T.1996]</th>\n",
       "      <th>survyear[T.1997]</th>\n",
       "      <th>survyear[T.1998]</th>\n",
       "      <th>survyear[T.1999]</th>\n",
       "      <th>survyear[T.2000]</th>\n",
       "      <th>veget</th>\n",
       "      <th>micro</th>\n",
       "      <th>freez</th>\n",
       "      <th>fridge</th>\n",
       "      <th>landlord</th>\n",
       "      <th>furnish</th>\n",
       "      <th>people</th>\n",
       "      <th>males</th>\n",
       "      <th>females</th>\n",
       "      <th>children</th>\n",
       "      <th>oaps</th>\n",
       "      <th>seniors</th>\n",
       "      <th>earners</th>\n",
       "      <th>age_head</th>\n",
       "      <th>age_hwife</th>\n",
       "      <th>age_reporter</th>\n",
       "      <th>income</th>\n",
       "      <th>benefits</th>\n",
       "      <th>withjob</th>\n",
       "    </tr>\n",
       "  </thead>\n",
       "  <tbody>\n",
       "    <tr>\n",
       "      <th>0</th>\n",
       "      <td>1.0</td>\n",
       "      <td>0.0</td>\n",
       "      <td>1.0</td>\n",
       "      <td>0.0</td>\n",
       "      <td>0.0</td>\n",
       "      <td>0.0</td>\n",
       "      <td>0.0</td>\n",
       "      <td>0.0</td>\n",
       "      <td>0.0</td>\n",
       "      <td>0.0</td>\n",
       "      <td>0.0</td>\n",
       "      <td>0.0</td>\n",
       "      <td>0.0</td>\n",
       "      <td>0.0</td>\n",
       "      <td>0.0</td>\n",
       "      <td>1.0</td>\n",
       "      <td>0.0</td>\n",
       "      <td>0.0</td>\n",
       "      <td>0.0</td>\n",
       "      <td>1.0</td>\n",
       "      <td>0.0</td>\n",
       "      <td>0.0</td>\n",
       "      <td>0.0</td>\n",
       "      <td>1.0</td>\n",
       "      <td>0.0</td>\n",
       "      <td>0.0</td>\n",
       "      <td>0.0</td>\n",
       "      <td>0.0</td>\n",
       "      <td>0.0</td>\n",
       "      <td>0.0</td>\n",
       "      <td>0.0</td>\n",
       "      <td>1.0</td>\n",
       "      <td>0.0</td>\n",
       "      <td>0.0</td>\n",
       "      <td>0.0</td>\n",
       "      <td>0.0</td>\n",
       "      <td>0.0</td>\n",
       "      <td>0.0</td>\n",
       "      <td>0.0</td>\n",
       "      <td>0.0</td>\n",
       "      <td>1.0</td>\n",
       "      <td>1.0</td>\n",
       "      <td>0.0</td>\n",
       "      <td>0.1</td>\n",
       "      <td>0.1</td>\n",
       "      <td>3.0</td>\n",
       "      <td>1.0</td>\n",
       "      <td>1.0</td>\n",
       "      <td>1.0</td>\n",
       "      <td>0.0</td>\n",
       "      <td>0.0</td>\n",
       "      <td>1.0</td>\n",
       "      <td>4.0</td>\n",
       "      <td>4.0</td>\n",
       "      <td>4.0</td>\n",
       "      <td>10.0</td>\n",
       "      <td>0.0</td>\n",
       "      <td>0.1</td>\n",
       "    </tr>\n",
       "    <tr>\n",
       "      <th>1</th>\n",
       "      <td>1.0</td>\n",
       "      <td>1.0</td>\n",
       "      <td>0.0</td>\n",
       "      <td>0.0</td>\n",
       "      <td>0.0</td>\n",
       "      <td>0.0</td>\n",
       "      <td>0.0</td>\n",
       "      <td>0.0</td>\n",
       "      <td>1.0</td>\n",
       "      <td>0.0</td>\n",
       "      <td>0.0</td>\n",
       "      <td>0.0</td>\n",
       "      <td>0.0</td>\n",
       "      <td>0.0</td>\n",
       "      <td>0.0</td>\n",
       "      <td>1.0</td>\n",
       "      <td>1.0</td>\n",
       "      <td>0.0</td>\n",
       "      <td>0.0</td>\n",
       "      <td>0.0</td>\n",
       "      <td>0.0</td>\n",
       "      <td>0.0</td>\n",
       "      <td>0.0</td>\n",
       "      <td>1.0</td>\n",
       "      <td>0.0</td>\n",
       "      <td>0.0</td>\n",
       "      <td>0.0</td>\n",
       "      <td>0.0</td>\n",
       "      <td>0.0</td>\n",
       "      <td>0.0</td>\n",
       "      <td>0.0</td>\n",
       "      <td>1.0</td>\n",
       "      <td>0.0</td>\n",
       "      <td>0.0</td>\n",
       "      <td>0.0</td>\n",
       "      <td>0.0</td>\n",
       "      <td>0.0</td>\n",
       "      <td>0.0</td>\n",
       "      <td>0.0</td>\n",
       "      <td>2.0</td>\n",
       "      <td>1.0</td>\n",
       "      <td>1.0</td>\n",
       "      <td>0.0</td>\n",
       "      <td>0.1</td>\n",
       "      <td>0.1</td>\n",
       "      <td>1.0</td>\n",
       "      <td>1.0</td>\n",
       "      <td>0.0</td>\n",
       "      <td>0.0</td>\n",
       "      <td>0.0</td>\n",
       "      <td>0.0</td>\n",
       "      <td>1.0</td>\n",
       "      <td>3.0</td>\n",
       "      <td>3.0</td>\n",
       "      <td>3.0</td>\n",
       "      <td>0.0</td>\n",
       "      <td>0.0</td>\n",
       "      <td>0.1</td>\n",
       "    </tr>\n",
       "    <tr>\n",
       "      <th>2</th>\n",
       "      <td>1.0</td>\n",
       "      <td>1.0</td>\n",
       "      <td>0.0</td>\n",
       "      <td>0.0</td>\n",
       "      <td>0.0</td>\n",
       "      <td>0.0</td>\n",
       "      <td>0.0</td>\n",
       "      <td>0.0</td>\n",
       "      <td>0.0</td>\n",
       "      <td>1.0</td>\n",
       "      <td>0.0</td>\n",
       "      <td>0.0</td>\n",
       "      <td>0.0</td>\n",
       "      <td>0.0</td>\n",
       "      <td>0.0</td>\n",
       "      <td>1.0</td>\n",
       "      <td>0.0</td>\n",
       "      <td>0.0</td>\n",
       "      <td>0.0</td>\n",
       "      <td>0.0</td>\n",
       "      <td>0.0</td>\n",
       "      <td>0.0</td>\n",
       "      <td>0.0</td>\n",
       "      <td>1.0</td>\n",
       "      <td>0.0</td>\n",
       "      <td>0.0</td>\n",
       "      <td>0.0</td>\n",
       "      <td>0.0</td>\n",
       "      <td>0.0</td>\n",
       "      <td>0.0</td>\n",
       "      <td>0.0</td>\n",
       "      <td>1.0</td>\n",
       "      <td>0.0</td>\n",
       "      <td>0.0</td>\n",
       "      <td>0.0</td>\n",
       "      <td>0.0</td>\n",
       "      <td>0.0</td>\n",
       "      <td>0.0</td>\n",
       "      <td>0.0</td>\n",
       "      <td>0.0</td>\n",
       "      <td>0.0</td>\n",
       "      <td>0.0</td>\n",
       "      <td>0.0</td>\n",
       "      <td>0.1</td>\n",
       "      <td>0.1</td>\n",
       "      <td>2.0</td>\n",
       "      <td>1.0</td>\n",
       "      <td>1.0</td>\n",
       "      <td>0.0</td>\n",
       "      <td>0.0</td>\n",
       "      <td>0.0</td>\n",
       "      <td>2.0</td>\n",
       "      <td>4.0</td>\n",
       "      <td>4.0</td>\n",
       "      <td>4.0</td>\n",
       "      <td>0.0</td>\n",
       "      <td>0.0</td>\n",
       "      <td>0.1</td>\n",
       "    </tr>\n",
       "    <tr>\n",
       "      <th>3</th>\n",
       "      <td>1.0</td>\n",
       "      <td>1.0</td>\n",
       "      <td>0.0</td>\n",
       "      <td>0.0</td>\n",
       "      <td>0.0</td>\n",
       "      <td>0.0</td>\n",
       "      <td>0.0</td>\n",
       "      <td>0.0</td>\n",
       "      <td>1.0</td>\n",
       "      <td>0.0</td>\n",
       "      <td>0.0</td>\n",
       "      <td>0.0</td>\n",
       "      <td>0.0</td>\n",
       "      <td>0.0</td>\n",
       "      <td>1.0</td>\n",
       "      <td>0.0</td>\n",
       "      <td>0.0</td>\n",
       "      <td>1.0</td>\n",
       "      <td>0.0</td>\n",
       "      <td>0.0</td>\n",
       "      <td>0.0</td>\n",
       "      <td>0.0</td>\n",
       "      <td>0.0</td>\n",
       "      <td>1.0</td>\n",
       "      <td>0.0</td>\n",
       "      <td>0.0</td>\n",
       "      <td>0.0</td>\n",
       "      <td>0.0</td>\n",
       "      <td>0.0</td>\n",
       "      <td>0.0</td>\n",
       "      <td>0.0</td>\n",
       "      <td>1.0</td>\n",
       "      <td>0.0</td>\n",
       "      <td>0.0</td>\n",
       "      <td>0.0</td>\n",
       "      <td>0.0</td>\n",
       "      <td>0.0</td>\n",
       "      <td>0.0</td>\n",
       "      <td>0.0</td>\n",
       "      <td>0.0</td>\n",
       "      <td>1.0</td>\n",
       "      <td>1.0</td>\n",
       "      <td>0.0</td>\n",
       "      <td>0.1</td>\n",
       "      <td>0.1</td>\n",
       "      <td>2.0</td>\n",
       "      <td>1.0</td>\n",
       "      <td>1.0</td>\n",
       "      <td>0.0</td>\n",
       "      <td>0.0</td>\n",
       "      <td>0.0</td>\n",
       "      <td>2.0</td>\n",
       "      <td>5.0</td>\n",
       "      <td>5.0</td>\n",
       "      <td>5.0</td>\n",
       "      <td>0.0</td>\n",
       "      <td>0.0</td>\n",
       "      <td>0.1</td>\n",
       "    </tr>\n",
       "    <tr>\n",
       "      <th>4</th>\n",
       "      <td>1.0</td>\n",
       "      <td>0.0</td>\n",
       "      <td>0.0</td>\n",
       "      <td>0.0</td>\n",
       "      <td>0.0</td>\n",
       "      <td>1.0</td>\n",
       "      <td>0.0</td>\n",
       "      <td>0.0</td>\n",
       "      <td>0.0</td>\n",
       "      <td>0.0</td>\n",
       "      <td>0.0</td>\n",
       "      <td>0.0</td>\n",
       "      <td>0.0</td>\n",
       "      <td>1.0</td>\n",
       "      <td>0.0</td>\n",
       "      <td>0.0</td>\n",
       "      <td>0.0</td>\n",
       "      <td>0.0</td>\n",
       "      <td>1.0</td>\n",
       "      <td>0.0</td>\n",
       "      <td>0.0</td>\n",
       "      <td>0.0</td>\n",
       "      <td>0.0</td>\n",
       "      <td>1.0</td>\n",
       "      <td>0.0</td>\n",
       "      <td>0.0</td>\n",
       "      <td>0.0</td>\n",
       "      <td>0.0</td>\n",
       "      <td>0.0</td>\n",
       "      <td>0.0</td>\n",
       "      <td>0.0</td>\n",
       "      <td>1.0</td>\n",
       "      <td>0.0</td>\n",
       "      <td>0.0</td>\n",
       "      <td>0.0</td>\n",
       "      <td>0.0</td>\n",
       "      <td>0.0</td>\n",
       "      <td>0.0</td>\n",
       "      <td>0.0</td>\n",
       "      <td>0.0</td>\n",
       "      <td>1.0</td>\n",
       "      <td>0.0</td>\n",
       "      <td>0.0</td>\n",
       "      <td>0.1</td>\n",
       "      <td>0.1</td>\n",
       "      <td>1.0</td>\n",
       "      <td>0.0</td>\n",
       "      <td>1.0</td>\n",
       "      <td>0.0</td>\n",
       "      <td>1.0</td>\n",
       "      <td>1.0</td>\n",
       "      <td>0.0</td>\n",
       "      <td>7.0</td>\n",
       "      <td>7.0</td>\n",
       "      <td>7.0</td>\n",
       "      <td>1.0</td>\n",
       "      <td>0.0</td>\n",
       "      <td>0.1</td>\n",
       "    </tr>\n",
       "  </tbody>\n",
       "</table>\n",
       "</div>"
      ],
      "text/plain": [
       "   Intercept  own_home[T.OWNS OUTRIGHT]  own_home[T.OWNS WITH MORTGAGE]  own_home[T.RENT FREE]  own_home[T.SHARED OWNERSHIP]  own_home[T.UNFURNISHED COUNCIL]  own_home[T.UNFURNISHED,OTHER,RENTED]  income_group[T.A2]  income_group[T.B]  income_group[T.C]  income_group[T.D]  income_group[T.E1]  income_group[T.E2]  income_group[T.OAP]  workplace[T.WORKS FOR ESTABLISHMENT OF 25 OR MORE]  workplace[T.WORKS FOR ESTABLISHMENT OF LESS THAN 25]  job_status[T.FOREMEN/SUPERVISORS]  \\\n",
       "0        1.0                        0.0                             1.0                    0.0                           0.0                              0.0                                   0.0                 0.0                0.0                0.0                0.0                 0.0                 0.0                  0.0                                                0.0                                                 1.0                                   0.0   \n",
       "1        1.0                        1.0                             0.0                    0.0                           0.0                              0.0                                   0.0                 0.0                1.0                0.0                0.0                 0.0                 0.0                  0.0                                                0.0                                                 1.0                                   1.0   \n",
       "2        1.0                        1.0                             0.0                    0.0                           0.0                              0.0                                   0.0                 0.0                0.0                1.0                0.0                 0.0                 0.0                  0.0                                                0.0                                                 1.0                                   0.0   \n",
       "3        1.0                        1.0                             0.0                    0.0                           0.0                              0.0                                   0.0                 0.0                1.0                0.0                0.0                 0.0                 0.0                  0.0                                                1.0                                                 0.0                                   0.0   \n",
       "4        1.0                        0.0                             0.0                    0.0                           0.0                              1.0                                   0.0                 0.0                0.0                0.0                0.0                 0.0                 0.0                  1.0                                                0.0                                                 0.0                                   0.0   \n",
       "\n",
       "   job_status[T.MANAGERS]  job_status[T.NOT APPLICABLE HOH UNEMPLOYED/RETIRED]  job_status[T.SELF EMPLOYED WITH EMPLOYEES]  job_status[T.SELF EMPLOYED WITHOUT EMPLOYEES]  country[T.N Ireland]  country[T.Scotland]  country[T.Wales]  region[T.EAST MIDLANDS]  region[T.NORTH WEST]  region[T.NORTHERN]  region[T.NORTHERN IRELAND]  region[T.SCOTLAND]  region[T.SOUTH EAST]  region[T.SOUTH WEST]  region[T.WALES]  region[T.WEST MIDLANDS]  region[T.YORKS & HUMBERSIDE]  survyear[T.1996]  survyear[T.1997]  \\\n",
       "0                     0.0                                                0.0                                           1.0                                            0.0                   0.0                  0.0               1.0                      0.0                   0.0                 0.0                         0.0                 0.0                   0.0                   0.0              1.0                      0.0                           0.0               0.0               0.0   \n",
       "1                     0.0                                                0.0                                           0.0                                            0.0                   0.0                  0.0               1.0                      0.0                   0.0                 0.0                         0.0                 0.0                   0.0                   0.0              1.0                      0.0                           0.0               0.0               0.0   \n",
       "2                     0.0                                                0.0                                           0.0                                            0.0                   0.0                  0.0               1.0                      0.0                   0.0                 0.0                         0.0                 0.0                   0.0                   0.0              1.0                      0.0                           0.0               0.0               0.0   \n",
       "3                     1.0                                                0.0                                           0.0                                            0.0                   0.0                  0.0               1.0                      0.0                   0.0                 0.0                         0.0                 0.0                   0.0                   0.0              1.0                      0.0                           0.0               0.0               0.0   \n",
       "4                     0.0                                                1.0                                           0.0                                            0.0                   0.0                  0.0               1.0                      0.0                   0.0                 0.0                         0.0                 0.0                   0.0                   0.0              1.0                      0.0                           0.0               0.0               0.0   \n",
       "\n",
       "   survyear[T.1998]  survyear[T.1999]  survyear[T.2000]  veget  micro  freez  fridge  landlord  furnish  people  males  females  children  oaps  seniors  earners  age_head  age_hwife  age_reporter  income  benefits  withjob  \n",
       "0               0.0               0.0               0.0    0.0    1.0    1.0     0.0       0.1      0.1     3.0    1.0      1.0       1.0   0.0      0.0      1.0       4.0        4.0           4.0    10.0       0.0      0.1  \n",
       "1               0.0               0.0               0.0    2.0    1.0    1.0     0.0       0.1      0.1     1.0    1.0      0.0       0.0   0.0      0.0      1.0       3.0        3.0           3.0     0.0       0.0      0.1  \n",
       "2               0.0               0.0               0.0    0.0    0.0    0.0     0.0       0.1      0.1     2.0    1.0      1.0       0.0   0.0      0.0      2.0       4.0        4.0           4.0     0.0       0.0      0.1  \n",
       "3               0.0               0.0               0.0    0.0    1.0    1.0     0.0       0.1      0.1     2.0    1.0      1.0       0.0   0.0      0.0      2.0       5.0        5.0           5.0     0.0       0.0      0.1  \n",
       "4               0.0               0.0               0.0    0.0    1.0    0.0     0.0       0.1      0.1     1.0    0.0      1.0       0.0   1.0      1.0      0.0       7.0        7.0           7.0     1.0       0.0      0.1  "
      ]
     },
     "execution_count": 61,
     "metadata": {},
     "output_type": "execute_result"
    }
   ],
   "source": [
    "from patsy import dmatrices\n",
    "\n",
    "y, X = dmatrices('good_cart ~ veget + micro + freez + fridge + own_home + landlord + furnish + \\\n",
    "                  people + males + females + children + oaps + seniors + earners + \\\n",
    "                  age_head + age_hwife + age_reporter + \\\n",
    "                  income + income_group + benefits + workplace + job_status + withjob + \\\n",
    "                  country + region + survyear', df, return_type=\"dataframe\")\n",
    "\n",
    "#print X.columns\n",
    "X.head()"
   ]
  },
  {
   "cell_type": "code",
   "execution_count": 62,
   "metadata": {
    "collapsed": true
   },
   "outputs": [],
   "source": [
    "# fix column names of X\n",
    "#X = X.rename(columns = {'C(own_home)[T.OWNS OUTRIGHT]':'own_home_outright',\n",
    "#                        'C(own_home)[T.OWNS WITH MORTGAGE]':'own_home_mortgage'})\n",
    "#lots of work: would do it if i had more time"
   ]
  },
  {
   "cell_type": "code",
   "execution_count": 63,
   "metadata": {
    "collapsed": false
   },
   "outputs": [
    {
     "data": {
      "text/html": [
       "<div>\n",
       "<table border=\"1\" class=\"dataframe\">\n",
       "  <thead>\n",
       "    <tr style=\"text-align: right;\">\n",
       "      <th></th>\n",
       "      <th>good_cart</th>\n",
       "    </tr>\n",
       "  </thead>\n",
       "  <tbody>\n",
       "    <tr>\n",
       "      <th>0</th>\n",
       "      <td>1.0</td>\n",
       "    </tr>\n",
       "    <tr>\n",
       "      <th>1</th>\n",
       "      <td>0.0</td>\n",
       "    </tr>\n",
       "    <tr>\n",
       "      <th>2</th>\n",
       "      <td>1.0</td>\n",
       "    </tr>\n",
       "    <tr>\n",
       "      <th>3</th>\n",
       "      <td>1.0</td>\n",
       "    </tr>\n",
       "    <tr>\n",
       "      <th>4</th>\n",
       "      <td>0.0</td>\n",
       "    </tr>\n",
       "  </tbody>\n",
       "</table>\n",
       "</div>"
      ],
      "text/plain": [
       "   good_cart\n",
       "0        1.0\n",
       "1        0.0\n",
       "2        1.0\n",
       "3        1.0\n",
       "4        0.0"
      ]
     },
     "execution_count": 63,
     "metadata": {},
     "output_type": "execute_result"
    }
   ],
   "source": [
    "y.head()"
   ]
  },
  {
   "cell_type": "code",
   "execution_count": 64,
   "metadata": {
    "collapsed": false
   },
   "outputs": [
    {
     "name": "stdout",
     "output_type": "stream",
     "text": [
      "[ 1.  0.  1. ...,  1.  1.  1.]\n"
     ]
    }
   ],
   "source": [
    "# flatten y into a 1-D array\n",
    "y = np.ravel(y)\n",
    "print y"
   ]
  },
  {
   "cell_type": "code",
   "execution_count": 65,
   "metadata": {
    "collapsed": false
   },
   "outputs": [
    {
     "name": "stdout",
     "output_type": "stream",
     "text": [
      "(43624, 58)\n",
      "(43624,)\n"
     ]
    }
   ],
   "source": [
    "print X.shape\n",
    "print y.shape"
   ]
  },
  {
   "cell_type": "markdown",
   "metadata": {},
   "source": [
    "## Run LR model on whole dataset"
   ]
  },
  {
   "cell_type": "code",
   "execution_count": 66,
   "metadata": {
    "collapsed": false
   },
   "outputs": [
    {
     "data": {
      "text/plain": [
       "LogisticRegression(C=1.0, class_weight=None, dual=False, fit_intercept=True,\n",
       "          intercept_scaling=1, max_iter=100, multi_class='ovr', n_jobs=1,\n",
       "          penalty='l2', random_state=None, solver='liblinear', tol=0.0001,\n",
       "          verbose=0, warm_start=False)"
      ]
     },
     "execution_count": 66,
     "metadata": {},
     "output_type": "execute_result"
    }
   ],
   "source": [
    "# instanciate a logistic regression model, and fit with X and y\n",
    "model = LogisticRegression()\n",
    "model = model.fit(X, y)\n",
    "model"
   ]
  },
  {
   "cell_type": "markdown",
   "metadata": {},
   "source": [
    "## Check results"
   ]
  },
  {
   "cell_type": "code",
   "execution_count": 67,
   "metadata": {
    "collapsed": false
   },
   "outputs": [
    {
     "data": {
      "text/plain": [
       "0.58791032459196768"
      ]
     },
     "execution_count": 67,
     "metadata": {},
     "output_type": "execute_result"
    }
   ],
   "source": [
    "# check the accuracy (on the training set ?)\n",
    "model.score(X, y)"
   ]
  },
  {
   "cell_type": "code",
   "execution_count": 68,
   "metadata": {
    "collapsed": false
   },
   "outputs": [
    {
     "data": {
      "text/plain": [
       "0.50036677058499912"
      ]
     },
     "execution_count": 68,
     "metadata": {},
     "output_type": "execute_result"
    }
   ],
   "source": [
    "y.mean()"
   ]
  },
  {
   "cell_type": "markdown",
   "metadata": {},
   "source": [
    "**^ Question:**\n",
    "- Accuracy is 0.57633412800293415 with HOW_GOOD = median\n",
    "- and 0.75958188153310102  with HOW_GOOD = percentile 75.\n",
    "- So it looks as if the model is only slightly better than predicting at random (which is what we would do if we used the mean of 0.50036677058499912)?"
   ]
  },
  {
   "cell_type": "markdown",
   "metadata": {},
   "source": [
    "## Examine coefficients"
   ]
  },
  {
   "cell_type": "code",
   "execution_count": 69,
   "metadata": {
    "collapsed": false,
    "scrolled": true
   },
   "outputs": [
    {
     "data": {
      "text/html": [
       "<div>\n",
       "<table border=\"1\" class=\"dataframe\">\n",
       "  <thead>\n",
       "    <tr style=\"text-align: right;\">\n",
       "      <th></th>\n",
       "      <th>0</th>\n",
       "      <th>1</th>\n",
       "    </tr>\n",
       "  </thead>\n",
       "  <tbody>\n",
       "    <tr>\n",
       "      <th>0</th>\n",
       "      <td>Intercept</td>\n",
       "      <td>[0.182404944244]</td>\n",
       "    </tr>\n",
       "    <tr>\n",
       "      <th>1</th>\n",
       "      <td>own_home[T.OWNS OUTRIGHT]</td>\n",
       "      <td>[0.170203577427]</td>\n",
       "    </tr>\n",
       "    <tr>\n",
       "      <th>2</th>\n",
       "      <td>own_home[T.OWNS WITH MORTGAGE]</td>\n",
       "      <td>[0.0407856894566]</td>\n",
       "    </tr>\n",
       "    <tr>\n",
       "      <th>3</th>\n",
       "      <td>own_home[T.RENT FREE]</td>\n",
       "      <td>[0.266051314532]</td>\n",
       "    </tr>\n",
       "    <tr>\n",
       "      <th>4</th>\n",
       "      <td>own_home[T.SHARED OWNERSHIP]</td>\n",
       "      <td>[0.0154927547754]</td>\n",
       "    </tr>\n",
       "    <tr>\n",
       "      <th>5</th>\n",
       "      <td>own_home[T.UNFURNISHED COUNCIL]</td>\n",
       "      <td>[-0.133478407234]</td>\n",
       "    </tr>\n",
       "    <tr>\n",
       "      <th>6</th>\n",
       "      <td>own_home[T.UNFURNISHED,OTHER,RENTED]</td>\n",
       "      <td>[-0.0251331115864]</td>\n",
       "    </tr>\n",
       "    <tr>\n",
       "      <th>7</th>\n",
       "      <td>income_group[T.A2]</td>\n",
       "      <td>[-0.191082134529]</td>\n",
       "    </tr>\n",
       "    <tr>\n",
       "      <th>8</th>\n",
       "      <td>income_group[T.B]</td>\n",
       "      <td>[-0.406875024799]</td>\n",
       "    </tr>\n",
       "    <tr>\n",
       "      <th>9</th>\n",
       "      <td>income_group[T.C]</td>\n",
       "      <td>[-0.564098876506]</td>\n",
       "    </tr>\n",
       "    <tr>\n",
       "      <th>10</th>\n",
       "      <td>income_group[T.D]</td>\n",
       "      <td>[-0.51170767156]</td>\n",
       "    </tr>\n",
       "    <tr>\n",
       "      <th>11</th>\n",
       "      <td>income_group[T.E1]</td>\n",
       "      <td>[-0.522477516312]</td>\n",
       "    </tr>\n",
       "    <tr>\n",
       "      <th>12</th>\n",
       "      <td>income_group[T.E2]</td>\n",
       "      <td>[-0.620779158886]</td>\n",
       "    </tr>\n",
       "    <tr>\n",
       "      <th>13</th>\n",
       "      <td>income_group[T.OAP]</td>\n",
       "      <td>[-0.62511379448]</td>\n",
       "    </tr>\n",
       "    <tr>\n",
       "      <th>14</th>\n",
       "      <td>workplace[T.WORKS FOR ESTABLISHMENT OF 25 OR M...</td>\n",
       "      <td>[0.0501749442606]</td>\n",
       "    </tr>\n",
       "    <tr>\n",
       "      <th>15</th>\n",
       "      <td>workplace[T.WORKS FOR ESTABLISHMENT OF LESS TH...</td>\n",
       "      <td>[0.0461152126457]</td>\n",
       "    </tr>\n",
       "    <tr>\n",
       "      <th>16</th>\n",
       "      <td>job_status[T.FOREMEN/SUPERVISORS]</td>\n",
       "      <td>[-0.014374259646]</td>\n",
       "    </tr>\n",
       "    <tr>\n",
       "      <th>17</th>\n",
       "      <td>job_status[T.MANAGERS]</td>\n",
       "      <td>[0.0707333321735]</td>\n",
       "    </tr>\n",
       "    <tr>\n",
       "      <th>18</th>\n",
       "      <td>job_status[T.NOT APPLICABLE HOH UNEMPLOYED/RET...</td>\n",
       "      <td>[0.0861147873365]</td>\n",
       "    </tr>\n",
       "    <tr>\n",
       "      <th>19</th>\n",
       "      <td>job_status[T.SELF EMPLOYED WITH EMPLOYEES]</td>\n",
       "      <td>[0.144132858413]</td>\n",
       "    </tr>\n",
       "    <tr>\n",
       "      <th>20</th>\n",
       "      <td>job_status[T.SELF EMPLOYED WITHOUT EMPLOYEES]</td>\n",
       "      <td>[0.0262836099591]</td>\n",
       "    </tr>\n",
       "    <tr>\n",
       "      <th>21</th>\n",
       "      <td>country[T.N Ireland]</td>\n",
       "      <td>[-0.0956809947248]</td>\n",
       "    </tr>\n",
       "    <tr>\n",
       "      <th>22</th>\n",
       "      <td>country[T.Scotland]</td>\n",
       "      <td>[-0.215919035393]</td>\n",
       "    </tr>\n",
       "    <tr>\n",
       "      <th>23</th>\n",
       "      <td>country[T.Wales]</td>\n",
       "      <td>[-0.0954763509219]</td>\n",
       "    </tr>\n",
       "    <tr>\n",
       "      <th>24</th>\n",
       "      <td>region[T.EAST MIDLANDS]</td>\n",
       "      <td>[-0.0657647930388]</td>\n",
       "    </tr>\n",
       "    <tr>\n",
       "      <th>25</th>\n",
       "      <td>region[T.NORTH WEST]</td>\n",
       "      <td>[-0.218531690972]</td>\n",
       "    </tr>\n",
       "    <tr>\n",
       "      <th>26</th>\n",
       "      <td>region[T.NORTHERN]</td>\n",
       "      <td>[-0.206292400665]</td>\n",
       "    </tr>\n",
       "    <tr>\n",
       "      <th>27</th>\n",
       "      <td>region[T.NORTHERN IRELAND]</td>\n",
       "      <td>[-0.0956809947248]</td>\n",
       "    </tr>\n",
       "    <tr>\n",
       "      <th>28</th>\n",
       "      <td>region[T.SCOTLAND]</td>\n",
       "      <td>[-0.215919035393]</td>\n",
       "    </tr>\n",
       "    <tr>\n",
       "      <th>29</th>\n",
       "      <td>region[T.SOUTH EAST]</td>\n",
       "      <td>[-0.0135645491603]</td>\n",
       "    </tr>\n",
       "    <tr>\n",
       "      <th>30</th>\n",
       "      <td>region[T.SOUTH WEST]</td>\n",
       "      <td>[0.00553031232521]</td>\n",
       "    </tr>\n",
       "    <tr>\n",
       "      <th>31</th>\n",
       "      <td>region[T.WALES]</td>\n",
       "      <td>[-0.0954763509219]</td>\n",
       "    </tr>\n",
       "    <tr>\n",
       "      <th>32</th>\n",
       "      <td>region[T.WEST MIDLANDS]</td>\n",
       "      <td>[-0.169103097048]</td>\n",
       "    </tr>\n",
       "    <tr>\n",
       "      <th>33</th>\n",
       "      <td>region[T.YORKS &amp; HUMBERSIDE]</td>\n",
       "      <td>[-0.0468335792158]</td>\n",
       "    </tr>\n",
       "    <tr>\n",
       "      <th>34</th>\n",
       "      <td>survyear[T.1996]</td>\n",
       "      <td>[-0.0856697419728]</td>\n",
       "    </tr>\n",
       "    <tr>\n",
       "      <th>35</th>\n",
       "      <td>survyear[T.1997]</td>\n",
       "      <td>[-0.0347312401315]</td>\n",
       "    </tr>\n",
       "    <tr>\n",
       "      <th>36</th>\n",
       "      <td>survyear[T.1998]</td>\n",
       "      <td>[0.140813881024]</td>\n",
       "    </tr>\n",
       "    <tr>\n",
       "      <th>37</th>\n",
       "      <td>survyear[T.1999]</td>\n",
       "      <td>[0.107487118339]</td>\n",
       "    </tr>\n",
       "    <tr>\n",
       "      <th>38</th>\n",
       "      <td>survyear[T.2000]</td>\n",
       "      <td>[-0.0682643969978]</td>\n",
       "    </tr>\n",
       "    <tr>\n",
       "      <th>39</th>\n",
       "      <td>veget</td>\n",
       "      <td>[0.548906855653]</td>\n",
       "    </tr>\n",
       "    <tr>\n",
       "      <th>40</th>\n",
       "      <td>micro</td>\n",
       "      <td>[-0.149792135012]</td>\n",
       "    </tr>\n",
       "    <tr>\n",
       "      <th>41</th>\n",
       "      <td>freez</td>\n",
       "      <td>[0.0491820101235]</td>\n",
       "    </tr>\n",
       "    <tr>\n",
       "      <th>42</th>\n",
       "      <td>fridge</td>\n",
       "      <td>[0.00392227213412]</td>\n",
       "    </tr>\n",
       "    <tr>\n",
       "      <th>43</th>\n",
       "      <td>landlord</td>\n",
       "      <td>[0.0187605728728]</td>\n",
       "    </tr>\n",
       "    <tr>\n",
       "      <th>44</th>\n",
       "      <td>furnish</td>\n",
       "      <td>[-0.0556724788386]</td>\n",
       "    </tr>\n",
       "    <tr>\n",
       "      <th>45</th>\n",
       "      <td>people</td>\n",
       "      <td>[-0.0149914526172]</td>\n",
       "    </tr>\n",
       "    <tr>\n",
       "      <th>46</th>\n",
       "      <td>males</td>\n",
       "      <td>[-0.116494173226]</td>\n",
       "    </tr>\n",
       "    <tr>\n",
       "      <th>47</th>\n",
       "      <td>females</td>\n",
       "      <td>[0.188806342068]</td>\n",
       "    </tr>\n",
       "    <tr>\n",
       "      <th>48</th>\n",
       "      <td>children</td>\n",
       "      <td>[-0.0873036214536]</td>\n",
       "    </tr>\n",
       "    <tr>\n",
       "      <th>49</th>\n",
       "      <td>oaps</td>\n",
       "      <td>[-0.0923551295419]</td>\n",
       "    </tr>\n",
       "    <tr>\n",
       "      <th>50</th>\n",
       "      <td>seniors</td>\n",
       "      <td>[0.0342655520864]</td>\n",
       "    </tr>\n",
       "    <tr>\n",
       "      <th>51</th>\n",
       "      <td>earners</td>\n",
       "      <td>[-0.141505698779]</td>\n",
       "    </tr>\n",
       "    <tr>\n",
       "      <th>52</th>\n",
       "      <td>age_head</td>\n",
       "      <td>[0.0160699292946]</td>\n",
       "    </tr>\n",
       "    <tr>\n",
       "      <th>53</th>\n",
       "      <td>age_hwife</td>\n",
       "      <td>[0.0523950399421]</td>\n",
       "    </tr>\n",
       "    <tr>\n",
       "      <th>54</th>\n",
       "      <td>age_reporter</td>\n",
       "      <td>[0.012140470974]</td>\n",
       "    </tr>\n",
       "    <tr>\n",
       "      <th>55</th>\n",
       "      <td>income</td>\n",
       "      <td>[-0.00235705675614]</td>\n",
       "    </tr>\n",
       "    <tr>\n",
       "      <th>56</th>\n",
       "      <td>benefits</td>\n",
       "      <td>[-0.0100798746577]</td>\n",
       "    </tr>\n",
       "    <tr>\n",
       "      <th>57</th>\n",
       "      <td>withjob</td>\n",
       "      <td>[0.07687146854]</td>\n",
       "    </tr>\n",
       "  </tbody>\n",
       "</table>\n",
       "</div>"
      ],
      "text/plain": [
       "                                                    0                    1\n",
       "0                                           Intercept     [0.182404944244]\n",
       "1                           own_home[T.OWNS OUTRIGHT]     [0.170203577427]\n",
       "2                      own_home[T.OWNS WITH MORTGAGE]    [0.0407856894566]\n",
       "3                               own_home[T.RENT FREE]     [0.266051314532]\n",
       "4                        own_home[T.SHARED OWNERSHIP]    [0.0154927547754]\n",
       "5                     own_home[T.UNFURNISHED COUNCIL]    [-0.133478407234]\n",
       "6                own_home[T.UNFURNISHED,OTHER,RENTED]   [-0.0251331115864]\n",
       "7                                  income_group[T.A2]    [-0.191082134529]\n",
       "8                                   income_group[T.B]    [-0.406875024799]\n",
       "9                                   income_group[T.C]    [-0.564098876506]\n",
       "10                                  income_group[T.D]     [-0.51170767156]\n",
       "11                                 income_group[T.E1]    [-0.522477516312]\n",
       "12                                 income_group[T.E2]    [-0.620779158886]\n",
       "13                                income_group[T.OAP]     [-0.62511379448]\n",
       "14  workplace[T.WORKS FOR ESTABLISHMENT OF 25 OR M...    [0.0501749442606]\n",
       "15  workplace[T.WORKS FOR ESTABLISHMENT OF LESS TH...    [0.0461152126457]\n",
       "16                  job_status[T.FOREMEN/SUPERVISORS]    [-0.014374259646]\n",
       "17                             job_status[T.MANAGERS]    [0.0707333321735]\n",
       "18  job_status[T.NOT APPLICABLE HOH UNEMPLOYED/RET...    [0.0861147873365]\n",
       "19         job_status[T.SELF EMPLOYED WITH EMPLOYEES]     [0.144132858413]\n",
       "20      job_status[T.SELF EMPLOYED WITHOUT EMPLOYEES]    [0.0262836099591]\n",
       "21                               country[T.N Ireland]   [-0.0956809947248]\n",
       "22                                country[T.Scotland]    [-0.215919035393]\n",
       "23                                   country[T.Wales]   [-0.0954763509219]\n",
       "24                            region[T.EAST MIDLANDS]   [-0.0657647930388]\n",
       "25                               region[T.NORTH WEST]    [-0.218531690972]\n",
       "26                                 region[T.NORTHERN]    [-0.206292400665]\n",
       "27                         region[T.NORTHERN IRELAND]   [-0.0956809947248]\n",
       "28                                 region[T.SCOTLAND]    [-0.215919035393]\n",
       "29                               region[T.SOUTH EAST]   [-0.0135645491603]\n",
       "30                               region[T.SOUTH WEST]   [0.00553031232521]\n",
       "31                                    region[T.WALES]   [-0.0954763509219]\n",
       "32                            region[T.WEST MIDLANDS]    [-0.169103097048]\n",
       "33                       region[T.YORKS & HUMBERSIDE]   [-0.0468335792158]\n",
       "34                                   survyear[T.1996]   [-0.0856697419728]\n",
       "35                                   survyear[T.1997]   [-0.0347312401315]\n",
       "36                                   survyear[T.1998]     [0.140813881024]\n",
       "37                                   survyear[T.1999]     [0.107487118339]\n",
       "38                                   survyear[T.2000]   [-0.0682643969978]\n",
       "39                                              veget     [0.548906855653]\n",
       "40                                              micro    [-0.149792135012]\n",
       "41                                              freez    [0.0491820101235]\n",
       "42                                             fridge   [0.00392227213412]\n",
       "43                                           landlord    [0.0187605728728]\n",
       "44                                            furnish   [-0.0556724788386]\n",
       "45                                             people   [-0.0149914526172]\n",
       "46                                              males    [-0.116494173226]\n",
       "47                                            females     [0.188806342068]\n",
       "48                                           children   [-0.0873036214536]\n",
       "49                                               oaps   [-0.0923551295419]\n",
       "50                                            seniors    [0.0342655520864]\n",
       "51                                            earners    [-0.141505698779]\n",
       "52                                           age_head    [0.0160699292946]\n",
       "53                                          age_hwife    [0.0523950399421]\n",
       "54                                       age_reporter     [0.012140470974]\n",
       "55                                             income  [-0.00235705675614]\n",
       "56                                           benefits   [-0.0100798746577]\n",
       "57                                            withjob      [0.07687146854]"
      ]
     },
     "execution_count": 69,
     "metadata": {},
     "output_type": "execute_result"
    }
   ],
   "source": [
    "# examine the coefficients --- SORTED BY VARIABLE\n",
    "pd.DataFrame(zip(X.columns, np.transpose(model.coef_)))"
   ]
  },
  {
   "cell_type": "code",
   "execution_count": 70,
   "metadata": {
    "collapsed": false
   },
   "outputs": [
    {
     "data": {
      "text/html": [
       "<div>\n",
       "<table border=\"1\" class=\"dataframe\">\n",
       "  <thead>\n",
       "    <tr style=\"text-align: right;\">\n",
       "      <th></th>\n",
       "      <th>0</th>\n",
       "      <th>1</th>\n",
       "    </tr>\n",
       "  </thead>\n",
       "  <tbody>\n",
       "    <tr>\n",
       "      <th>13</th>\n",
       "      <td>income_group[T.OAP]</td>\n",
       "      <td>[-0.62511379448]</td>\n",
       "    </tr>\n",
       "    <tr>\n",
       "      <th>12</th>\n",
       "      <td>income_group[T.E2]</td>\n",
       "      <td>[-0.620779158886]</td>\n",
       "    </tr>\n",
       "    <tr>\n",
       "      <th>9</th>\n",
       "      <td>income_group[T.C]</td>\n",
       "      <td>[-0.564098876506]</td>\n",
       "    </tr>\n",
       "    <tr>\n",
       "      <th>11</th>\n",
       "      <td>income_group[T.E1]</td>\n",
       "      <td>[-0.522477516312]</td>\n",
       "    </tr>\n",
       "    <tr>\n",
       "      <th>10</th>\n",
       "      <td>income_group[T.D]</td>\n",
       "      <td>[-0.51170767156]</td>\n",
       "    </tr>\n",
       "    <tr>\n",
       "      <th>8</th>\n",
       "      <td>income_group[T.B]</td>\n",
       "      <td>[-0.406875024799]</td>\n",
       "    </tr>\n",
       "    <tr>\n",
       "      <th>25</th>\n",
       "      <td>region[T.NORTH WEST]</td>\n",
       "      <td>[-0.218531690972]</td>\n",
       "    </tr>\n",
       "    <tr>\n",
       "      <th>22</th>\n",
       "      <td>country[T.Scotland]</td>\n",
       "      <td>[-0.215919035393]</td>\n",
       "    </tr>\n",
       "    <tr>\n",
       "      <th>28</th>\n",
       "      <td>region[T.SCOTLAND]</td>\n",
       "      <td>[-0.215919035393]</td>\n",
       "    </tr>\n",
       "    <tr>\n",
       "      <th>26</th>\n",
       "      <td>region[T.NORTHERN]</td>\n",
       "      <td>[-0.206292400665]</td>\n",
       "    </tr>\n",
       "    <tr>\n",
       "      <th>7</th>\n",
       "      <td>income_group[T.A2]</td>\n",
       "      <td>[-0.191082134529]</td>\n",
       "    </tr>\n",
       "    <tr>\n",
       "      <th>32</th>\n",
       "      <td>region[T.WEST MIDLANDS]</td>\n",
       "      <td>[-0.169103097048]</td>\n",
       "    </tr>\n",
       "    <tr>\n",
       "      <th>40</th>\n",
       "      <td>micro</td>\n",
       "      <td>[-0.149792135012]</td>\n",
       "    </tr>\n",
       "    <tr>\n",
       "      <th>51</th>\n",
       "      <td>earners</td>\n",
       "      <td>[-0.141505698779]</td>\n",
       "    </tr>\n",
       "    <tr>\n",
       "      <th>5</th>\n",
       "      <td>own_home[T.UNFURNISHED COUNCIL]</td>\n",
       "      <td>[-0.133478407234]</td>\n",
       "    </tr>\n",
       "    <tr>\n",
       "      <th>46</th>\n",
       "      <td>males</td>\n",
       "      <td>[-0.116494173226]</td>\n",
       "    </tr>\n",
       "    <tr>\n",
       "      <th>27</th>\n",
       "      <td>region[T.NORTHERN IRELAND]</td>\n",
       "      <td>[-0.0956809947248]</td>\n",
       "    </tr>\n",
       "    <tr>\n",
       "      <th>21</th>\n",
       "      <td>country[T.N Ireland]</td>\n",
       "      <td>[-0.0956809947248]</td>\n",
       "    </tr>\n",
       "    <tr>\n",
       "      <th>31</th>\n",
       "      <td>region[T.WALES]</td>\n",
       "      <td>[-0.0954763509219]</td>\n",
       "    </tr>\n",
       "    <tr>\n",
       "      <th>23</th>\n",
       "      <td>country[T.Wales]</td>\n",
       "      <td>[-0.0954763509219]</td>\n",
       "    </tr>\n",
       "    <tr>\n",
       "      <th>49</th>\n",
       "      <td>oaps</td>\n",
       "      <td>[-0.0923551295419]</td>\n",
       "    </tr>\n",
       "    <tr>\n",
       "      <th>48</th>\n",
       "      <td>children</td>\n",
       "      <td>[-0.0873036214536]</td>\n",
       "    </tr>\n",
       "    <tr>\n",
       "      <th>34</th>\n",
       "      <td>survyear[T.1996]</td>\n",
       "      <td>[-0.0856697419728]</td>\n",
       "    </tr>\n",
       "    <tr>\n",
       "      <th>38</th>\n",
       "      <td>survyear[T.2000]</td>\n",
       "      <td>[-0.0682643969978]</td>\n",
       "    </tr>\n",
       "    <tr>\n",
       "      <th>24</th>\n",
       "      <td>region[T.EAST MIDLANDS]</td>\n",
       "      <td>[-0.0657647930388]</td>\n",
       "    </tr>\n",
       "    <tr>\n",
       "      <th>44</th>\n",
       "      <td>furnish</td>\n",
       "      <td>[-0.0556724788386]</td>\n",
       "    </tr>\n",
       "    <tr>\n",
       "      <th>33</th>\n",
       "      <td>region[T.YORKS &amp; HUMBERSIDE]</td>\n",
       "      <td>[-0.0468335792158]</td>\n",
       "    </tr>\n",
       "    <tr>\n",
       "      <th>35</th>\n",
       "      <td>survyear[T.1997]</td>\n",
       "      <td>[-0.0347312401315]</td>\n",
       "    </tr>\n",
       "    <tr>\n",
       "      <th>6</th>\n",
       "      <td>own_home[T.UNFURNISHED,OTHER,RENTED]</td>\n",
       "      <td>[-0.0251331115864]</td>\n",
       "    </tr>\n",
       "    <tr>\n",
       "      <th>45</th>\n",
       "      <td>people</td>\n",
       "      <td>[-0.0149914526172]</td>\n",
       "    </tr>\n",
       "    <tr>\n",
       "      <th>16</th>\n",
       "      <td>job_status[T.FOREMEN/SUPERVISORS]</td>\n",
       "      <td>[-0.014374259646]</td>\n",
       "    </tr>\n",
       "    <tr>\n",
       "      <th>29</th>\n",
       "      <td>region[T.SOUTH EAST]</td>\n",
       "      <td>[-0.0135645491603]</td>\n",
       "    </tr>\n",
       "    <tr>\n",
       "      <th>56</th>\n",
       "      <td>benefits</td>\n",
       "      <td>[-0.0100798746577]</td>\n",
       "    </tr>\n",
       "    <tr>\n",
       "      <th>55</th>\n",
       "      <td>income</td>\n",
       "      <td>[-0.00235705675614]</td>\n",
       "    </tr>\n",
       "    <tr>\n",
       "      <th>42</th>\n",
       "      <td>fridge</td>\n",
       "      <td>[0.00392227213412]</td>\n",
       "    </tr>\n",
       "    <tr>\n",
       "      <th>30</th>\n",
       "      <td>region[T.SOUTH WEST]</td>\n",
       "      <td>[0.00553031232521]</td>\n",
       "    </tr>\n",
       "    <tr>\n",
       "      <th>54</th>\n",
       "      <td>age_reporter</td>\n",
       "      <td>[0.012140470974]</td>\n",
       "    </tr>\n",
       "    <tr>\n",
       "      <th>4</th>\n",
       "      <td>own_home[T.SHARED OWNERSHIP]</td>\n",
       "      <td>[0.0154927547754]</td>\n",
       "    </tr>\n",
       "    <tr>\n",
       "      <th>52</th>\n",
       "      <td>age_head</td>\n",
       "      <td>[0.0160699292946]</td>\n",
       "    </tr>\n",
       "    <tr>\n",
       "      <th>43</th>\n",
       "      <td>landlord</td>\n",
       "      <td>[0.0187605728728]</td>\n",
       "    </tr>\n",
       "    <tr>\n",
       "      <th>20</th>\n",
       "      <td>job_status[T.SELF EMPLOYED WITHOUT EMPLOYEES]</td>\n",
       "      <td>[0.0262836099591]</td>\n",
       "    </tr>\n",
       "    <tr>\n",
       "      <th>50</th>\n",
       "      <td>seniors</td>\n",
       "      <td>[0.0342655520864]</td>\n",
       "    </tr>\n",
       "    <tr>\n",
       "      <th>2</th>\n",
       "      <td>own_home[T.OWNS WITH MORTGAGE]</td>\n",
       "      <td>[0.0407856894566]</td>\n",
       "    </tr>\n",
       "    <tr>\n",
       "      <th>15</th>\n",
       "      <td>workplace[T.WORKS FOR ESTABLISHMENT OF LESS TH...</td>\n",
       "      <td>[0.0461152126457]</td>\n",
       "    </tr>\n",
       "    <tr>\n",
       "      <th>41</th>\n",
       "      <td>freez</td>\n",
       "      <td>[0.0491820101235]</td>\n",
       "    </tr>\n",
       "    <tr>\n",
       "      <th>14</th>\n",
       "      <td>workplace[T.WORKS FOR ESTABLISHMENT OF 25 OR M...</td>\n",
       "      <td>[0.0501749442606]</td>\n",
       "    </tr>\n",
       "    <tr>\n",
       "      <th>53</th>\n",
       "      <td>age_hwife</td>\n",
       "      <td>[0.0523950399421]</td>\n",
       "    </tr>\n",
       "    <tr>\n",
       "      <th>17</th>\n",
       "      <td>job_status[T.MANAGERS]</td>\n",
       "      <td>[0.0707333321735]</td>\n",
       "    </tr>\n",
       "    <tr>\n",
       "      <th>57</th>\n",
       "      <td>withjob</td>\n",
       "      <td>[0.07687146854]</td>\n",
       "    </tr>\n",
       "    <tr>\n",
       "      <th>18</th>\n",
       "      <td>job_status[T.NOT APPLICABLE HOH UNEMPLOYED/RET...</td>\n",
       "      <td>[0.0861147873365]</td>\n",
       "    </tr>\n",
       "    <tr>\n",
       "      <th>37</th>\n",
       "      <td>survyear[T.1999]</td>\n",
       "      <td>[0.107487118339]</td>\n",
       "    </tr>\n",
       "    <tr>\n",
       "      <th>36</th>\n",
       "      <td>survyear[T.1998]</td>\n",
       "      <td>[0.140813881024]</td>\n",
       "    </tr>\n",
       "    <tr>\n",
       "      <th>19</th>\n",
       "      <td>job_status[T.SELF EMPLOYED WITH EMPLOYEES]</td>\n",
       "      <td>[0.144132858413]</td>\n",
       "    </tr>\n",
       "    <tr>\n",
       "      <th>1</th>\n",
       "      <td>own_home[T.OWNS OUTRIGHT]</td>\n",
       "      <td>[0.170203577427]</td>\n",
       "    </tr>\n",
       "    <tr>\n",
       "      <th>0</th>\n",
       "      <td>Intercept</td>\n",
       "      <td>[0.182404944244]</td>\n",
       "    </tr>\n",
       "    <tr>\n",
       "      <th>47</th>\n",
       "      <td>females</td>\n",
       "      <td>[0.188806342068]</td>\n",
       "    </tr>\n",
       "    <tr>\n",
       "      <th>3</th>\n",
       "      <td>own_home[T.RENT FREE]</td>\n",
       "      <td>[0.266051314532]</td>\n",
       "    </tr>\n",
       "    <tr>\n",
       "      <th>39</th>\n",
       "      <td>veget</td>\n",
       "      <td>[0.548906855653]</td>\n",
       "    </tr>\n",
       "  </tbody>\n",
       "</table>\n",
       "</div>"
      ],
      "text/plain": [
       "                                                    0                    1\n",
       "13                                income_group[T.OAP]     [-0.62511379448]\n",
       "12                                 income_group[T.E2]    [-0.620779158886]\n",
       "9                                   income_group[T.C]    [-0.564098876506]\n",
       "11                                 income_group[T.E1]    [-0.522477516312]\n",
       "10                                  income_group[T.D]     [-0.51170767156]\n",
       "8                                   income_group[T.B]    [-0.406875024799]\n",
       "25                               region[T.NORTH WEST]    [-0.218531690972]\n",
       "22                                country[T.Scotland]    [-0.215919035393]\n",
       "28                                 region[T.SCOTLAND]    [-0.215919035393]\n",
       "26                                 region[T.NORTHERN]    [-0.206292400665]\n",
       "7                                  income_group[T.A2]    [-0.191082134529]\n",
       "32                            region[T.WEST MIDLANDS]    [-0.169103097048]\n",
       "40                                              micro    [-0.149792135012]\n",
       "51                                            earners    [-0.141505698779]\n",
       "5                     own_home[T.UNFURNISHED COUNCIL]    [-0.133478407234]\n",
       "46                                              males    [-0.116494173226]\n",
       "27                         region[T.NORTHERN IRELAND]   [-0.0956809947248]\n",
       "21                               country[T.N Ireland]   [-0.0956809947248]\n",
       "31                                    region[T.WALES]   [-0.0954763509219]\n",
       "23                                   country[T.Wales]   [-0.0954763509219]\n",
       "49                                               oaps   [-0.0923551295419]\n",
       "48                                           children   [-0.0873036214536]\n",
       "34                                   survyear[T.1996]   [-0.0856697419728]\n",
       "38                                   survyear[T.2000]   [-0.0682643969978]\n",
       "24                            region[T.EAST MIDLANDS]   [-0.0657647930388]\n",
       "44                                            furnish   [-0.0556724788386]\n",
       "33                       region[T.YORKS & HUMBERSIDE]   [-0.0468335792158]\n",
       "35                                   survyear[T.1997]   [-0.0347312401315]\n",
       "6                own_home[T.UNFURNISHED,OTHER,RENTED]   [-0.0251331115864]\n",
       "45                                             people   [-0.0149914526172]\n",
       "16                  job_status[T.FOREMEN/SUPERVISORS]    [-0.014374259646]\n",
       "29                               region[T.SOUTH EAST]   [-0.0135645491603]\n",
       "56                                           benefits   [-0.0100798746577]\n",
       "55                                             income  [-0.00235705675614]\n",
       "42                                             fridge   [0.00392227213412]\n",
       "30                               region[T.SOUTH WEST]   [0.00553031232521]\n",
       "54                                       age_reporter     [0.012140470974]\n",
       "4                        own_home[T.SHARED OWNERSHIP]    [0.0154927547754]\n",
       "52                                           age_head    [0.0160699292946]\n",
       "43                                           landlord    [0.0187605728728]\n",
       "20      job_status[T.SELF EMPLOYED WITHOUT EMPLOYEES]    [0.0262836099591]\n",
       "50                                            seniors    [0.0342655520864]\n",
       "2                      own_home[T.OWNS WITH MORTGAGE]    [0.0407856894566]\n",
       "15  workplace[T.WORKS FOR ESTABLISHMENT OF LESS TH...    [0.0461152126457]\n",
       "41                                              freez    [0.0491820101235]\n",
       "14  workplace[T.WORKS FOR ESTABLISHMENT OF 25 OR M...    [0.0501749442606]\n",
       "53                                          age_hwife    [0.0523950399421]\n",
       "17                             job_status[T.MANAGERS]    [0.0707333321735]\n",
       "57                                            withjob      [0.07687146854]\n",
       "18  job_status[T.NOT APPLICABLE HOH UNEMPLOYED/RET...    [0.0861147873365]\n",
       "37                                   survyear[T.1999]     [0.107487118339]\n",
       "36                                   survyear[T.1998]     [0.140813881024]\n",
       "19         job_status[T.SELF EMPLOYED WITH EMPLOYEES]     [0.144132858413]\n",
       "1                           own_home[T.OWNS OUTRIGHT]     [0.170203577427]\n",
       "0                                           Intercept     [0.182404944244]\n",
       "47                                            females     [0.188806342068]\n",
       "3                               own_home[T.RENT FREE]     [0.266051314532]\n",
       "39                                              veget     [0.548906855653]"
      ]
     },
     "execution_count": 70,
     "metadata": {},
     "output_type": "execute_result"
    }
   ],
   "source": [
    "# examine the coefficients --- SORTED BY VALUE OF THE COEFFICIENTS\n",
    "df_coef = pd.DataFrame(zip(X.columns, np.transpose(model.coef_)))\n",
    "df_coef.sort_values(1)"
   ]
  },
  {
   "cell_type": "markdown",
   "metadata": {},
   "source": [
    "**^ QUESTION: Does the (absolute) size of the coefficient matter for variable selection?**\n",
    "\n",
    "If \"YES\", then I'd select income_group, region, veget, own_home"
   ]
  },
  {
   "cell_type": "code",
   "execution_count": 71,
   "metadata": {
    "collapsed": false
   },
   "outputs": [
    {
     "name": "stdout",
     "output_type": "stream",
     "text": [
      "MEANS of all variables (first 52, then 28), by GOOD_CART:\n"
     ]
    },
    {
     "data": {
      "text/html": [
       "<div>\n",
       "<table border=\"1\" class=\"dataframe\">\n",
       "  <thead>\n",
       "    <tr style=\"text-align: right;\">\n",
       "      <th>good_cart</th>\n",
       "      <th>0</th>\n",
       "      <th>1</th>\n",
       "    </tr>\n",
       "  </thead>\n",
       "  <tbody>\n",
       "    <tr>\n",
       "      <th>hhno</th>\n",
       "      <td>245957.098091</td>\n",
       "      <td>245953.868426</td>\n",
       "    </tr>\n",
       "    <tr>\n",
       "      <th>veget</th>\n",
       "      <td>0.094531</td>\n",
       "      <td>0.187901</td>\n",
       "    </tr>\n",
       "    <tr>\n",
       "      <th>micro</th>\n",
       "      <td>0.803863</td>\n",
       "      <td>0.760262</td>\n",
       "    </tr>\n",
       "    <tr>\n",
       "      <th>freez</th>\n",
       "      <td>0.919756</td>\n",
       "      <td>0.914513</td>\n",
       "    </tr>\n",
       "    <tr>\n",
       "      <th>fridge</th>\n",
       "      <td>0.031033</td>\n",
       "      <td>0.031130</td>\n",
       "    </tr>\n",
       "    <tr>\n",
       "      <th>landlord</th>\n",
       "      <td>0.404822</td>\n",
       "      <td>0.406061</td>\n",
       "    </tr>\n",
       "    <tr>\n",
       "      <th>furnish</th>\n",
       "      <td>0.429138</td>\n",
       "      <td>0.390851</td>\n",
       "    </tr>\n",
       "    <tr>\n",
       "      <th>people</th>\n",
       "      <td>2.644109</td>\n",
       "      <td>2.372641</td>\n",
       "    </tr>\n",
       "    <tr>\n",
       "      <th>males</th>\n",
       "      <td>0.927234</td>\n",
       "      <td>0.845428</td>\n",
       "    </tr>\n",
       "    <tr>\n",
       "      <th>females</th>\n",
       "      <td>0.982979</td>\n",
       "      <td>0.990975</td>\n",
       "    </tr>\n",
       "    <tr>\n",
       "      <th>children</th>\n",
       "      <td>0.733896</td>\n",
       "      <td>0.536238</td>\n",
       "    </tr>\n",
       "    <tr>\n",
       "      <th>oaps</th>\n",
       "      <td>0.238897</td>\n",
       "      <td>0.305159</td>\n",
       "    </tr>\n",
       "    <tr>\n",
       "      <th>seniors</th>\n",
       "      <td>0.296476</td>\n",
       "      <td>0.408558</td>\n",
       "    </tr>\n",
       "    <tr>\n",
       "      <th>earners</th>\n",
       "      <td>1.195908</td>\n",
       "      <td>1.018692</td>\n",
       "    </tr>\n",
       "    <tr>\n",
       "      <th>age_head</th>\n",
       "      <td>3.898229</td>\n",
       "      <td>4.258846</td>\n",
       "    </tr>\n",
       "    <tr>\n",
       "      <th>age_hwife</th>\n",
       "      <td>3.732098</td>\n",
       "      <td>4.108448</td>\n",
       "    </tr>\n",
       "    <tr>\n",
       "      <th>age_reporter</th>\n",
       "      <td>3.739805</td>\n",
       "      <td>4.116465</td>\n",
       "    </tr>\n",
       "    <tr>\n",
       "      <th>income</th>\n",
       "      <td>5.112360</td>\n",
       "      <td>4.898846</td>\n",
       "    </tr>\n",
       "    <tr>\n",
       "      <th>benefits</th>\n",
       "      <td>0.127730</td>\n",
       "      <td>0.113661</td>\n",
       "    </tr>\n",
       "    <tr>\n",
       "      <th>withjob</th>\n",
       "      <td>0.319210</td>\n",
       "      <td>0.295744</td>\n",
       "    </tr>\n",
       "  </tbody>\n",
       "</table>\n",
       "</div>"
      ],
      "text/plain": [
       "good_cart                 0              1\n",
       "hhno          245957.098091  245953.868426\n",
       "veget              0.094531       0.187901\n",
       "micro              0.803863       0.760262\n",
       "freez              0.919756       0.914513\n",
       "fridge             0.031033       0.031130\n",
       "landlord           0.404822       0.406061\n",
       "furnish            0.429138       0.390851\n",
       "people             2.644109       2.372641\n",
       "males              0.927234       0.845428\n",
       "females            0.982979       0.990975\n",
       "children           0.733896       0.536238\n",
       "oaps               0.238897       0.305159\n",
       "seniors            0.296476       0.408558\n",
       "earners            1.195908       1.018692\n",
       "age_head           3.898229       4.258846\n",
       "age_hwife          3.732098       4.108448\n",
       "age_reporter       3.739805       4.116465\n",
       "income             5.112360       4.898846\n",
       "benefits           0.127730       0.113661\n",
       "withjob            0.319210       0.295744"
      ]
     },
     "execution_count": 71,
     "metadata": {},
     "output_type": "execute_result"
    }
   ],
   "source": [
    "print \"MEANS of all variables (first 52, then 28), by GOOD_CART:\"\n",
    "df.groupby('good_cart').mean().transpose().head(52)"
   ]
  },
  {
   "cell_type": "markdown",
   "metadata": {
    "collapsed": false
   },
   "source": [
    "**^ QUESTION: How to select variables that add most to the model?**"
   ]
  },
  {
   "cell_type": "markdown",
   "metadata": {},
   "source": [
    "## Cross-validation"
   ]
  },
  {
   "cell_type": "code",
   "execution_count": 72,
   "metadata": {
    "collapsed": false
   },
   "outputs": [
    {
     "data": {
      "text/html": [
       "<div>\n",
       "<table border=\"1\" class=\"dataframe\">\n",
       "  <thead>\n",
       "    <tr style=\"text-align: right;\">\n",
       "      <th></th>\n",
       "      <th>hhno</th>\n",
       "      <th>good_cart</th>\n",
       "      <th>veget</th>\n",
       "      <th>micro</th>\n",
       "      <th>freez</th>\n",
       "      <th>fridge</th>\n",
       "      <th>own_home</th>\n",
       "      <th>landlord</th>\n",
       "      <th>furnish</th>\n",
       "      <th>people</th>\n",
       "      <th>males</th>\n",
       "      <th>females</th>\n",
       "      <th>children</th>\n",
       "      <th>oaps</th>\n",
       "      <th>seniors</th>\n",
       "      <th>earners</th>\n",
       "      <th>age_head</th>\n",
       "      <th>age_hwife</th>\n",
       "      <th>age_reporter</th>\n",
       "      <th>income</th>\n",
       "      <th>income_group</th>\n",
       "      <th>benefits</th>\n",
       "      <th>workplace</th>\n",
       "      <th>job_status</th>\n",
       "      <th>withjob</th>\n",
       "      <th>country</th>\n",
       "      <th>region</th>\n",
       "      <th>survyear</th>\n",
       "    </tr>\n",
       "  </thead>\n",
       "  <tbody>\n",
       "    <tr>\n",
       "      <th>0</th>\n",
       "      <td>224203</td>\n",
       "      <td>1</td>\n",
       "      <td>0.0</td>\n",
       "      <td>1</td>\n",
       "      <td>1</td>\n",
       "      <td>0.0</td>\n",
       "      <td>OWNS WITH MORTGAGE</td>\n",
       "      <td>0.1</td>\n",
       "      <td>0.1</td>\n",
       "      <td>3</td>\n",
       "      <td>1</td>\n",
       "      <td>1</td>\n",
       "      <td>1</td>\n",
       "      <td>0</td>\n",
       "      <td>0</td>\n",
       "      <td>1</td>\n",
       "      <td>4.0</td>\n",
       "      <td>4.0</td>\n",
       "      <td>4.0</td>\n",
       "      <td>10</td>\n",
       "      <td>A1</td>\n",
       "      <td>0</td>\n",
       "      <td>WORKS FOR ESTABLISHMENT OF LESS THAN 25</td>\n",
       "      <td>SELF EMPLOYED WITH EMPLOYEES</td>\n",
       "      <td>0.1</td>\n",
       "      <td>Wales</td>\n",
       "      <td>WALES</td>\n",
       "      <td>1995</td>\n",
       "    </tr>\n",
       "    <tr>\n",
       "      <th>1</th>\n",
       "      <td>224204</td>\n",
       "      <td>0</td>\n",
       "      <td>2.0</td>\n",
       "      <td>1</td>\n",
       "      <td>1</td>\n",
       "      <td>0.0</td>\n",
       "      <td>OWNS OUTRIGHT</td>\n",
       "      <td>0.1</td>\n",
       "      <td>0.1</td>\n",
       "      <td>1</td>\n",
       "      <td>1</td>\n",
       "      <td>0</td>\n",
       "      <td>0</td>\n",
       "      <td>0</td>\n",
       "      <td>0</td>\n",
       "      <td>1</td>\n",
       "      <td>3.0</td>\n",
       "      <td>3.0</td>\n",
       "      <td>3.0</td>\n",
       "      <td>0</td>\n",
       "      <td>B</td>\n",
       "      <td>0</td>\n",
       "      <td>WORKS FOR ESTABLISHMENT OF LESS THAN 25</td>\n",
       "      <td>FOREMEN/SUPERVISORS</td>\n",
       "      <td>0.1</td>\n",
       "      <td>Wales</td>\n",
       "      <td>WALES</td>\n",
       "      <td>1995</td>\n",
       "    </tr>\n",
       "    <tr>\n",
       "      <th>2</th>\n",
       "      <td>224205</td>\n",
       "      <td>1</td>\n",
       "      <td>0.0</td>\n",
       "      <td>0</td>\n",
       "      <td>0</td>\n",
       "      <td>0.0</td>\n",
       "      <td>OWNS OUTRIGHT</td>\n",
       "      <td>0.1</td>\n",
       "      <td>0.1</td>\n",
       "      <td>2</td>\n",
       "      <td>1</td>\n",
       "      <td>1</td>\n",
       "      <td>0</td>\n",
       "      <td>0</td>\n",
       "      <td>0</td>\n",
       "      <td>2</td>\n",
       "      <td>4.0</td>\n",
       "      <td>4.0</td>\n",
       "      <td>4.0</td>\n",
       "      <td>0</td>\n",
       "      <td>C</td>\n",
       "      <td>0</td>\n",
       "      <td>WORKS FOR ESTABLISHMENT OF LESS THAN 25</td>\n",
       "      <td>APPRENTICES/EMPLOYEES NEC</td>\n",
       "      <td>0.1</td>\n",
       "      <td>Wales</td>\n",
       "      <td>WALES</td>\n",
       "      <td>1995</td>\n",
       "    </tr>\n",
       "    <tr>\n",
       "      <th>3</th>\n",
       "      <td>224206</td>\n",
       "      <td>1</td>\n",
       "      <td>0.0</td>\n",
       "      <td>1</td>\n",
       "      <td>1</td>\n",
       "      <td>0.0</td>\n",
       "      <td>OWNS OUTRIGHT</td>\n",
       "      <td>0.1</td>\n",
       "      <td>0.1</td>\n",
       "      <td>2</td>\n",
       "      <td>1</td>\n",
       "      <td>1</td>\n",
       "      <td>0</td>\n",
       "      <td>0</td>\n",
       "      <td>0</td>\n",
       "      <td>2</td>\n",
       "      <td>5.0</td>\n",
       "      <td>5.0</td>\n",
       "      <td>5.0</td>\n",
       "      <td>0</td>\n",
       "      <td>B</td>\n",
       "      <td>0</td>\n",
       "      <td>WORKS FOR ESTABLISHMENT OF 25 OR MORE</td>\n",
       "      <td>MANAGERS</td>\n",
       "      <td>0.1</td>\n",
       "      <td>Wales</td>\n",
       "      <td>WALES</td>\n",
       "      <td>1995</td>\n",
       "    </tr>\n",
       "    <tr>\n",
       "      <th>4</th>\n",
       "      <td>224207</td>\n",
       "      <td>0</td>\n",
       "      <td>0.0</td>\n",
       "      <td>1</td>\n",
       "      <td>0</td>\n",
       "      <td>0.0</td>\n",
       "      <td>UNFURNISHED COUNCIL</td>\n",
       "      <td>0.1</td>\n",
       "      <td>0.1</td>\n",
       "      <td>1</td>\n",
       "      <td>0</td>\n",
       "      <td>1</td>\n",
       "      <td>0</td>\n",
       "      <td>1</td>\n",
       "      <td>1</td>\n",
       "      <td>0</td>\n",
       "      <td>7.0</td>\n",
       "      <td>7.0</td>\n",
       "      <td>7.0</td>\n",
       "      <td>1</td>\n",
       "      <td>OAP</td>\n",
       "      <td>0</td>\n",
       "      <td>NOT APPLICABLE HOH UNEMPLOYED/RETIRED</td>\n",
       "      <td>NOT APPLICABLE HOH UNEMPLOYED/RETIRED</td>\n",
       "      <td>0.1</td>\n",
       "      <td>Wales</td>\n",
       "      <td>WALES</td>\n",
       "      <td>1995</td>\n",
       "    </tr>\n",
       "  </tbody>\n",
       "</table>\n",
       "</div>"
      ],
      "text/plain": [
       "     hhno  good_cart  veget  micro  freez  fridge             own_home  landlord  furnish  people  males  females  children  oaps  seniors  earners  age_head  age_hwife  age_reporter  income income_group  benefits                                workplace                             job_status  withjob country region survyear\n",
       "0  224203          1    0.0      1      1     0.0   OWNS WITH MORTGAGE       0.1      0.1       3      1        1         1     0        0        1       4.0        4.0           4.0      10           A1         0  WORKS FOR ESTABLISHMENT OF LESS THAN 25           SELF EMPLOYED WITH EMPLOYEES      0.1   Wales  WALES     1995\n",
       "1  224204          0    2.0      1      1     0.0        OWNS OUTRIGHT       0.1      0.1       1      1        0         0     0        0        1       3.0        3.0           3.0       0            B         0  WORKS FOR ESTABLISHMENT OF LESS THAN 25                    FOREMEN/SUPERVISORS      0.1   Wales  WALES     1995\n",
       "2  224205          1    0.0      0      0     0.0        OWNS OUTRIGHT       0.1      0.1       2      1        1         0     0        0        2       4.0        4.0           4.0       0            C         0  WORKS FOR ESTABLISHMENT OF LESS THAN 25              APPRENTICES/EMPLOYEES NEC      0.1   Wales  WALES     1995\n",
       "3  224206          1    0.0      1      1     0.0        OWNS OUTRIGHT       0.1      0.1       2      1        1         0     0        0        2       5.0        5.0           5.0       0            B         0    WORKS FOR ESTABLISHMENT OF 25 OR MORE                               MANAGERS      0.1   Wales  WALES     1995\n",
       "4  224207          0    0.0      1      0     0.0  UNFURNISHED COUNCIL       0.1      0.1       1      0        1         0     1        1        0       7.0        7.0           7.0       1          OAP         0    NOT APPLICABLE HOH UNEMPLOYED/RETIRED  NOT APPLICABLE HOH UNEMPLOYED/RETIRED      0.1   Wales  WALES     1995"
      ]
     },
     "execution_count": 72,
     "metadata": {},
     "output_type": "execute_result"
    }
   ],
   "source": [
    "df = df_clean\n",
    "df.head()"
   ]
  },
  {
   "cell_type": "markdown",
   "metadata": {},
   "source": [
    "## Evaluate model splitting data into training set and testing set"
   ]
  },
  {
   "cell_type": "code",
   "execution_count": 73,
   "metadata": {
    "collapsed": false
   },
   "outputs": [
    {
     "data": {
      "text/plain": [
       "LogisticRegression(C=1.0, class_weight=None, dual=False, fit_intercept=True,\n",
       "          intercept_scaling=1, max_iter=100, multi_class='ovr', n_jobs=1,\n",
       "          penalty='l2', random_state=None, solver='liblinear', tol=0.0001,\n",
       "          verbose=0, warm_start=False)"
      ]
     },
     "execution_count": 73,
     "metadata": {},
     "output_type": "execute_result"
    }
   ],
   "source": [
    "# split\n",
    "from sklearn.cross_validation import train_test_split\n",
    "X_train, X_test, y_train, y_test = train_test_split(X, y, test_size=0.3, random_state=0)\n",
    "model2 = LogisticRegression()\n",
    "model2.fit(X_train, y_train)"
   ]
  },
  {
   "cell_type": "code",
   "execution_count": 74,
   "metadata": {
    "collapsed": false
   },
   "outputs": [
    {
     "name": "stdout",
     "output_type": "stream",
     "text": [
      "- The 'train' set has  30536 observations.\n",
      "- The 'test' set has   13088 observations.\n"
     ]
    }
   ],
   "source": [
    "print \"- The 'train' set has \", len(X_train), \"observations.\"\n",
    "print \"- The 'test' set has  \", len(X_test), \"observations.\""
   ]
  },
  {
   "cell_type": "code",
   "execution_count": 75,
   "metadata": {
    "collapsed": false
   },
   "outputs": [
    {
     "name": "stdout",
     "output_type": "stream",
     "text": [
      "[ 0.  0.  1. ...,  0.  0.  1.]\n",
      "(13088,)\n"
     ]
    }
   ],
   "source": [
    "# predict\n",
    "predicted = model2.predict(X_test)\n",
    "print predicted\n",
    "print predicted.shape"
   ]
  },
  {
   "cell_type": "code",
   "execution_count": 76,
   "metadata": {
    "collapsed": false
   },
   "outputs": [
    {
     "name": "stdout",
     "output_type": "stream",
     "text": [
      "[[ 0.63931134  0.36068866]\n",
      " [ 0.53610321  0.46389679]\n",
      " [ 0.39111709  0.60888291]\n",
      " ..., \n",
      " [ 0.58182323  0.41817677]\n",
      " [ 0.58247322  0.41752678]\n",
      " [ 0.43987786  0.56012214]]\n"
     ]
    }
   ],
   "source": [
    "# generate class probabilities   ----- I DON'T UNDERSTAND THE OUTCOME OF THIS\n",
    "probs = model2.predict_proba(X_test)\n",
    "print probs"
   ]
  },
  {
   "cell_type": "code",
   "execution_count": 77,
   "metadata": {
    "collapsed": false
   },
   "outputs": [
    {
     "name": "stdout",
     "output_type": "stream",
     "text": [
      "0.580302567237\n",
      "0.611235262522\n"
     ]
    }
   ],
   "source": [
    "# generate evaluation metrics\n",
    "print metrics.accuracy_score(y_test, predicted)\n",
    "print metrics.roc_auc_score(y_test, probs[:, 1])"
   ]
  },
  {
   "cell_type": "code",
   "execution_count": 78,
   "metadata": {
    "collapsed": false
   },
   "outputs": [
    {
     "name": "stdout",
     "output_type": "stream",
     "text": [
      "[[3968 2611]\n",
      " [2882 3627]]\n",
      "             precision    recall  f1-score   support\n",
      "\n",
      "        0.0       0.58      0.60      0.59      6579\n",
      "        1.0       0.58      0.56      0.57      6509\n",
      "\n",
      "avg / total       0.58      0.58      0.58     13088\n",
      "\n"
     ]
    }
   ],
   "source": [
    "# see the confusion matrix and a classification report with other metrics\n",
    "print metrics.confusion_matrix(y_test, predicted)\n",
    "print metrics.classification_report(y_test, predicted)"
   ]
  },
  {
   "cell_type": "markdown",
   "metadata": {},
   "source": [
    "## Evaluate model with cross-validation"
   ]
  },
  {
   "cell_type": "code",
   "execution_count": 79,
   "metadata": {
    "collapsed": false
   },
   "outputs": [
    {
     "name": "stdout",
     "output_type": "stream",
     "text": [
      "[ 0.57689663  0.61425625  0.57987623  0.59294064  0.59660784  0.56566583\n",
      "  0.57771664  0.56189821  0.57647329  0.57119927]\n",
      "0.581353081824\n"
     ]
    }
   ],
   "source": [
    "# 10-fold cross-validation\n",
    "scores = cross_val_score(LogisticRegression(), X, y, scoring='accuracy', cv=10)\n",
    "print scores\n",
    "print scores.mean()"
   ]
  },
  {
   "cell_type": "markdown",
   "metadata": {},
   "source": [
    "## Predicting probability for a combination of variables"
   ]
  },
  {
   "cell_type": "code",
   "execution_count": 80,
   "metadata": {
    "collapsed": true
   },
   "outputs": [],
   "source": [
    "#model.predict_proba(np.array([1, 0, 0, 1, 0, 0, 1, 0, 0, 0, 0, 3, 25, 3, 1, 4,\n",
    "#                              16]))"
   ]
  },
  {
   "cell_type": "markdown",
   "metadata": {
    "collapsed": true
   },
   "source": [
    "# 5. Discussion\n",
    "\n",
    "## Work done\n",
    "\n",
    "- I've downloaded open data from a survey of UK families over a number of years.\n",
    "- I've put the files together, and created two variables:\n",
    "    - how_good: sum_good / (sum_good + sum_bad)\n",
    "    - good_cart: 1 if how_good > median\n",
    "- I've created a LR model:\n",
    "    - first with the full dataset\n",
    "    - second splitting into subsets: training and testing\n",
    "    - third splitting into 10 subsets (crossvalidation)\n",
    "\n",
    "## Main findings\n",
    "\n",
    "- The model predicts only a bit better than throwing a dice\n",
    "- I don't know how to select better variables for the model\n",
    "\n",
    "## Limitations\n",
    "\n",
    "- The data is what it is\n",
    "- I selected food groups for practical reasons, knowing that they don't define a good diet\n",
    "\n",
    "## Lessons learned\n",
    "\n",
    "- EDA really has to be done at the beginning, not half-way through the project\n",
    "\n",
    "## What next\n",
    "\n",
    "- Let's see if I can refine the questions for my mentor"
   ]
  },
  {
   "cell_type": "markdown",
   "metadata": {},
   "source": [
    "# 6. Further code"
   ]
  },
  {
   "cell_type": "code",
   "execution_count": 81,
   "metadata": {
    "collapsed": false
   },
   "outputs": [
    {
     "data": {
      "text/plain": [
       "'\\nFurther code from other examples and exercises --- I don\\'t know if I should use any of this:\\n\\n#TRAIN THE MODEL\\n\\nfrom sklearn.cross_validation import KFold\\nfrom sklearn.metrics import accuracy_score\\n\\ndef cv_score(clf, x, y, score_func=accuracy_score):\\n    result = 0\\n    nfold = 5\\n    for train, test in KFold(y.size, nfold): # split data into train/test groups, 5 times\\n        clf.fit(x[train], y[train]) # fit\\n        result += score_func(clf.predict(x[test]), y[test]) # evaluate score function on held-out data\\n    return result / nfold # average\\n\\nfrom sklearn.linear_model import LogisticRegression\\nclf = LogisticRegression()\\nclf.fit(Xlr,ylr)\\nprint \"accuracy with test data:\", accuracy_score(clf.predict(Xtestlr),ytestlr)\\n\\nclf = LogisticRegression()\\nscore = cv_score(clf, Xlr, ylr)\\nprint \"score with train data:\", score\\n\\nCs = [0.001, 0.1, 1, 10, 100]\\nfor c in Cs:\\n    clf = LogisticRegression(C=c)\\n    clf.fit(Xlr,ylr)\\n    score = accuracy_score(clf.predict(Xlr),ylr)\\n    print \"C and score: \", c, score\\nprint \"(select C with maximum score, i.e. C=...)\"\\n\\nclf = LogisticRegression(C=0.001)\\nclf.fit(Xlr, ylr)\\naccuracy = accuracy_score(clf.predict(Xtestlr), ytestlr)\\nprint \"Accuracy with test-data:\", accuracy\\n\\nfrom sklearn import grid_search\\nclf = grid_search.GridSearchCV(LogisticRegression(C=1), param_grid = {\\'C\\':[0.001, 0.1, 1, 10, 100]})\\nclf.fit(Xlr, ylr)\\nprint \"best parameter:\", clf.best_params_\\nprint \"with a score of:\", clf.best_score_\\nprint \"From this grid of scores:\"\\nclf.grid_scores_\\n\\naccuracy = accuracy_score(clf.predict(Xtestlr), ytestlr)\\nprint(\"Accuracy: %f\" % accuracy)\\n'"
      ]
     },
     "execution_count": 81,
     "metadata": {},
     "output_type": "execute_result"
    }
   ],
   "source": [
    "'''\n",
    "Further code from other examples and exercises --- I don't know if I should use any of this:\n",
    "\n",
    "#TRAIN THE MODEL\n",
    "\n",
    "from sklearn.cross_validation import KFold\n",
    "from sklearn.metrics import accuracy_score\n",
    "\n",
    "def cv_score(clf, x, y, score_func=accuracy_score):\n",
    "    result = 0\n",
    "    nfold = 5\n",
    "    for train, test in KFold(y.size, nfold): # split data into train/test groups, 5 times\n",
    "        clf.fit(x[train], y[train]) # fit\n",
    "        result += score_func(clf.predict(x[test]), y[test]) # evaluate score function on held-out data\n",
    "    return result / nfold # average\n",
    "\n",
    "from sklearn.linear_model import LogisticRegression\n",
    "clf = LogisticRegression()\n",
    "clf.fit(Xlr,ylr)\n",
    "print \"accuracy with test data:\", accuracy_score(clf.predict(Xtestlr),ytestlr)\n",
    "\n",
    "clf = LogisticRegression()\n",
    "score = cv_score(clf, Xlr, ylr)\n",
    "print \"score with train data:\", score\n",
    "\n",
    "Cs = [0.001, 0.1, 1, 10, 100]\n",
    "for c in Cs:\n",
    "    clf = LogisticRegression(C=c)\n",
    "    clf.fit(Xlr,ylr)\n",
    "    score = accuracy_score(clf.predict(Xlr),ylr)\n",
    "    print \"C and score: \", c, score\n",
    "print \"(select C with maximum score, i.e. C=...)\"\n",
    "\n",
    "clf = LogisticRegression(C=0.001)\n",
    "clf.fit(Xlr, ylr)\n",
    "accuracy = accuracy_score(clf.predict(Xtestlr), ytestlr)\n",
    "print \"Accuracy with test-data:\", accuracy\n",
    "\n",
    "from sklearn import grid_search\n",
    "clf = grid_search.GridSearchCV(LogisticRegression(C=1), param_grid = {'C':[0.001, 0.1, 1, 10, 100]})\n",
    "clf.fit(Xlr, ylr)\n",
    "print \"best parameter:\", clf.best_params_\n",
    "print \"with a score of:\", clf.best_score_\n",
    "print \"From this grid of scores:\"\n",
    "clf.grid_scores_\n",
    "\n",
    "accuracy = accuracy_score(clf.predict(Xtestlr), ytestlr)\n",
    "print(\"Accuracy: %f\" % accuracy)\n",
    "'''"
   ]
  }
 ],
 "metadata": {
  "kernelspec": {
   "display_name": "Python 2",
   "language": "python",
   "name": "python2"
  },
  "language_info": {
   "codemirror_mode": {
    "name": "ipython",
    "version": 2
   },
   "file_extension": ".py",
   "mimetype": "text/x-python",
   "name": "python",
   "nbconvert_exporter": "python",
   "pygments_lexer": "ipython2",
   "version": "2.7.12"
  }
 },
 "nbformat": 4,
 "nbformat_minor": 0
}
