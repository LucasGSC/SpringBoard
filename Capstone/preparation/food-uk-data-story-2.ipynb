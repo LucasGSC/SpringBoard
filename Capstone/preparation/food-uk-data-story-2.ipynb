{
 "cells": [
  {
   "cell_type": "markdown",
   "metadata": {},
   "source": [
    "# Data Story\n",
    "\n",
    "- _Author_: Lucas Gonzalez Santa Cruz\n",
    "- _Workshop_: Data Science Intensive, Springboard.com\n",
    "- _Date_: sept 2016\n",
    "\n",
    "## 1. Introduction\n",
    "\n",
    "- UK families have been asked about what food they buy for a week since 1974.\n",
    "- Data between 1974-2000 is open data: http://britains-diet.labs.theodi.org/\n",
    "\n",
    "### 1.1. Dataset\n",
    "\n",
    "- I'm using 1995-2000: 6k+ different families each year.\n",
    "- For each family there's demographic information like place, income, etc.\n",
    "- Each family wrote what food they bought over one week that year.\n",
    "- Food was coded as 300+ \"minor\" codes (each with units and quantities). Say \"2 loaves of white bread\".\n",
    "- Each \"minor\" code was group into a total of 24 \"group\" codes. Say \"bread-like foods\".\n",
    "\n",
    "### 1.2. Goals for this exercise\n",
    "\n",
    "- Count something interesting.\n",
    "- Find some trends: high, low, increase, decrease, anomalies.\n",
    "- Make a bar plot or a histogram.\n",
    "- Compare two related quantities.\n",
    "- Make a scatterplot.\n",
    "- Make a time-series plot.\n",
    "- Are there some insights? Correlations? A hypothesis I would like to investigate further? Other questions?\n",
    "- An interesting narrative, a way of presenting the insights using text and plots from the above, that tells us a compelling story?\n",
    "- What are some other trends/relationships that will make it more complete?"
   ]
  },
  {
   "cell_type": "markdown",
   "metadata": {},
   "source": [
    "## 2. Data wrangling\n",
    "\n",
    "### 2.1. Basic environment stuff"
   ]
  },
  {
   "cell_type": "code",
   "execution_count": 1,
   "metadata": {
    "collapsed": true
   },
   "outputs": [],
   "source": [
    "%matplotlib inline\n",
    "import matplotlib.pyplot as plt\n",
    "import pandas as pd\n",
    "pd.options.display.width = 180\n",
    "import numpy as np\n",
    "import seaborn as sns\n",
    "\n",
    "data = 'data/'\n",
    "data2000 = 'data/NFSopen_2000/' #http://data.defra.gov.uk/Food/NationalFoodSurvey/NFSopen_2000.zip (etc for all years)\n",
    "dataRefe = 'data/NFSopen_Reference/' #http://data.defra.gov.uk/Food/NationalFoodSurvey/NFSopen_Reference.zip"
   ]
  },
  {
   "cell_type": "markdown",
   "metadata": {},
   "source": [
    "### 2.2. Six years of Weekly shopping-carts\n",
    "\n",
    "Just as an example, in 2000 there were 237424 diary entries.\n",
    "\n",
    "Each diary entry looked like this: \"family number one bought so many pints of milk and so many loaves of bread\"."
   ]
  },
  {
   "cell_type": "code",
   "execution_count": 2,
   "metadata": {
    "collapsed": false
   },
   "outputs": [
    {
     "name": "stdout",
     "output_type": "stream",
     "text": [
      "For years 1995-2000, we have a total of 1581381 diary entries.\n",
      "from a total of 42960 households.\n"
     ]
    }
   ],
   "source": [
    "df_purc1995 = pd.DataFrame.from_csv(data+'1995 diary data.txt', sep='\\t', index_col=None)\n",
    "df_purc1995.columns=['hhno', 'fooditem', 'logday', 'purchasevalue', 'minor', 'quantity', 'purchasefree']\n",
    "df_purc1995['survyear'] = '1995'\n",
    "df_purc1996 = pd.DataFrame.from_csv(data+'1996 diary data.txt', sep='\\t', index_col=None)\n",
    "df_purc1996.columns=['hhno', 'fooditem', 'logday', 'purchasevalue', 'minor', 'quantity', 'purchasefree']\n",
    "df_purc1996['survyear'] = '1996'\n",
    "df_purc1997 = pd.DataFrame.from_csv(data+'1997 diary data.txt', sep='\\t', index_col=None)\n",
    "df_purc1997.columns=['hhno', 'fooditem', 'logday', 'purchasevalue', 'minor', 'quantity', 'purchasefree']\n",
    "df_purc1997['survyear'] = '1997'\n",
    "df_purc1998 = pd.DataFrame.from_csv(data+'1998 diary data.txt', sep='\\t', index_col=None)\n",
    "df_purc1998.columns=['hhno', 'fooditem', 'logday', 'purchasevalue', 'minor', 'quantity', 'purchasefree']\n",
    "df_purc1998['survyear'] = '1998'\n",
    "df_purc1999 = pd.DataFrame.from_csv(data+'1999 diary data.txt', sep='\\t', index_col=None)\n",
    "df_purc1999.columns=['hhno', 'fooditem', 'logday', 'purchasevalue', 'minor', 'quantity', 'purchasefree']\n",
    "df_purc1999['survyear'] = '1999'\n",
    "df_purc2000 = pd.DataFrame.from_csv(data+'2000 diary data.txt', sep='\\t', index_col=None)\n",
    "df_purc2000.columns=['hhno', 'fooditem', 'logday', 'purchasevalue', 'minor', 'quantity', 'purchasefree']\n",
    "df_purc2000['survyear'] = '2000'\n",
    "\n",
    "list_of_years = [df_purc1995, df_purc1996, df_purc1997, df_purc1998, df_purc1999, df_purc2000]\n",
    "df = pd.concat(list_of_years)\n",
    "df_purchases = df\n",
    "\n",
    "print \"For years 1995-2000, we have a total of {0:6} diary entries.\".format(len(df))\n",
    "print \"from a total of {0:5} households.\".format(len(df_purchases.hhno.unique()))"
   ]
  },
  {
   "cell_type": "code",
   "execution_count": 3,
   "metadata": {
    "collapsed": false
   },
   "outputs": [
    {
     "data": {
      "text/plain": [
       "'\\n#below is code to make sure that HHNO was not repeated across years\\nid95 = len(df_purc1995.hhno.unique())\\nid96 = len(df_purc1996.hhno.unique())\\nid97 = len(df_purc1997.hhno.unique())\\nid98 = len(df_purc1998.hhno.unique())\\nid99 = len(df_purc1999.hhno.unique())\\nid00 = len(df_purc2000.hhno.unique())\\nprint \"id95 + id96 + id97 + id98 + id99 + id00: \", id95 + id96 + id97 + id98 + id99 + id00\\nprint \"Just to make sure that there are no duplicate id\\'s across years:\"\\ndf_dummy = pd.crosstab(df.hhno, df.survyear)\\ndf_dummy.head()\\n'"
      ]
     },
     "execution_count": 3,
     "metadata": {},
     "output_type": "execute_result"
    }
   ],
   "source": [
    "\"\"\"\n",
    "#below is code to make sure that HHNO was not repeated across years\n",
    "id95 = len(df_purc1995.hhno.unique())\n",
    "id96 = len(df_purc1996.hhno.unique())\n",
    "id97 = len(df_purc1997.hhno.unique())\n",
    "id98 = len(df_purc1998.hhno.unique())\n",
    "id99 = len(df_purc1999.hhno.unique())\n",
    "id00 = len(df_purc2000.hhno.unique())\n",
    "print \"id95 + id96 + id97 + id98 + id99 + id00: \", id95 + id96 + id97 + id98 + id99 + id00\n",
    "print \"Just to make sure that there are no duplicate id's across years:\"\n",
    "df_dummy = pd.crosstab(df.hhno, df.survyear)\n",
    "df_dummy.head()\n",
    "\"\"\""
   ]
  },
  {
   "cell_type": "markdown",
   "metadata": {},
   "source": [
    "### 2.3. Auxiliary files to make sense of the data"
   ]
  },
  {
   "cell_type": "code",
   "execution_count": 4,
   "metadata": {
    "collapsed": true
   },
   "outputs": [],
   "source": [
    "#315 detailed \"minor\" foodcodes --- then aggregated into 183 \"major\" groups.\n",
    "df_min_maj = pd.DataFrame.from_csv(dataRefe+'Ref_ Minor and major foods.txt', sep='\\t', index_col=None)\n",
    "df_min_maj.columns=['minor', 'minor_text', 'major']\n",
    "df_maj_text = pd.DataFrame.from_csv(dataRefe+'Ref_ Major food codes.txt', sep='\\t', index_col=None)\n",
    "df_maj_text.columns=['major', 'major_text']\n",
    "#Each \"foodcode\" was described with one of 7 \"units\": pints, ounces, etc.\n",
    "df_min_units = pd.DataFrame.from_csv(dataRefe+'Ref_MINFD_Minor_food_codes.txt', sep='\\t', index_col=None)\n",
    "df_min_units.columns=['minor','minor_text','units']\n",
    "df_min_units.drop(['minor_text'], inplace=True, axis=1) #to avoid duplicate later\n",
    "#24 more aggregated \"groups\" were defined, and the 183 previous \"detailed groups\" were mapped to these 24.\n",
    "df_grp_text = pd.DataFrame.from_csv(dataRefe+'Ref_ food groups (standard).txt', sep='\\t', index_col=None)\n",
    "df_grp_text.columns=['group','group_text']\n",
    "df_mapping = pd.DataFrame.from_csv(dataRefe+'Ref_ Major-food group mapping.txt', sep='\\t', index_col=None)\n",
    "df_mapping.columns=['major','group']\n",
    "#The mapping included 92 groups, and those 24 had to be selected.\n",
    "group24 = [4006, 9017, 22023, 31041, 46094, 100127, 129129, 135148, 150154, 155161, 162171, 172183, \\\n",
    "           184208, 210231, 233248, 251263, 264264, 267277, 281301, 304313, 314339, 340344, 350354, 380389]\n",
    "df_maj_group = df_mapping[df_mapping['group'].isin(group24) == True]"
   ]
  },
  {
   "cell_type": "markdown",
   "metadata": {},
   "source": [
    "### 2.4. So now we know what the whole dataset looks like\n",
    "\n",
    "We can put it all together:"
   ]
  },
  {
   "cell_type": "code",
   "execution_count": 5,
   "metadata": {
    "collapsed": false
   },
   "outputs": [
    {
     "name": "stdout",
     "output_type": "stream",
     "text": [
      "shape:  (1581381, 6)\n",
      "Let's look at the very first diary entries from 1995:\n"
     ]
    },
    {
     "data": {
      "text/html": [
       "<div>\n",
       "<table border=\"1\" class=\"dataframe\">\n",
       "  <thead>\n",
       "    <tr style=\"text-align: right;\">\n",
       "      <th></th>\n",
       "      <th>survyear</th>\n",
       "      <th>hhno</th>\n",
       "      <th>minor_text</th>\n",
       "      <th>quantity</th>\n",
       "      <th>units</th>\n",
       "      <th>group_text</th>\n",
       "    </tr>\n",
       "  </thead>\n",
       "  <tbody>\n",
       "    <tr>\n",
       "      <th>0</th>\n",
       "      <td>1995</td>\n",
       "      <td>224208</td>\n",
       "      <td>SWEET BISCUITS OTHER THAN CHOCOLATE</td>\n",
       "      <td>7.05</td>\n",
       "      <td>oz</td>\n",
       "      <td>BISCUITS, CAKES, BUNS, CRISPBREADS</td>\n",
       "    </tr>\n",
       "    <tr>\n",
       "      <th>1</th>\n",
       "      <td>1995</td>\n",
       "      <td>224208</td>\n",
       "      <td>MARMALADE</td>\n",
       "      <td>16.01</td>\n",
       "      <td>oz</td>\n",
       "      <td>SUGAR AND PRESERVES</td>\n",
       "    </tr>\n",
       "    <tr>\n",
       "      <th>2</th>\n",
       "      <td>1995</td>\n",
       "      <td>224208</td>\n",
       "      <td>PICKLES  &amp;  SAUCES</td>\n",
       "      <td>11.99</td>\n",
       "      <td>oz</td>\n",
       "      <td>ALL OTHER FOODS</td>\n",
       "    </tr>\n",
       "    <tr>\n",
       "      <th>3</th>\n",
       "      <td>1995</td>\n",
       "      <td>224208</td>\n",
       "      <td>DRIED RICE</td>\n",
       "      <td>17.63</td>\n",
       "      <td>oz</td>\n",
       "      <td>CEREALS, EXCL. BREAD,BUNS,CAKES,BISCUITS</td>\n",
       "    </tr>\n",
       "    <tr>\n",
       "      <th>4</th>\n",
       "      <td>1995</td>\n",
       "      <td>224208</td>\n",
       "      <td>CANNED PEACHES PEARS &amp; PINEAPPLES</td>\n",
       "      <td>8.00</td>\n",
       "      <td>oz</td>\n",
       "      <td>FRUIT &amp; FRUIT PRODS. NOT FRESH</td>\n",
       "    </tr>\n",
       "  </tbody>\n",
       "</table>\n",
       "</div>"
      ],
      "text/plain": [
       "  survyear    hhno                           minor_text  quantity units                                group_text\n",
       "0     1995  224208  SWEET BISCUITS OTHER THAN CHOCOLATE      7.05    oz        BISCUITS, CAKES, BUNS, CRISPBREADS\n",
       "1     1995  224208                            MARMALADE     16.01    oz                       SUGAR AND PRESERVES\n",
       "2     1995  224208                   PICKLES  &  SAUCES     11.99    oz                           ALL OTHER FOODS\n",
       "3     1995  224208                           DRIED RICE     17.63    oz  CEREALS, EXCL. BREAD,BUNS,CAKES,BISCUITS\n",
       "4     1995  224208    CANNED PEACHES PEARS & PINEAPPLES      8.00    oz            FRUIT & FRUIT PRODS. NOT FRESH"
      ]
     },
     "execution_count": 5,
     "metadata": {},
     "output_type": "execute_result"
    }
   ],
   "source": [
    "df = pd.merge(df_purchases, df_min_maj, how='left', on='minor')\n",
    "df = pd.merge(df, df_min_units, how='left', on='minor')\n",
    "df = pd.merge(df, df_maj_text, how='left', on='major')\n",
    "df = pd.merge(df, df_maj_group, how='left', on='major')\n",
    "df = pd.merge(df, df_grp_text, how='left', on='group')\n",
    "df = df[['survyear', 'hhno', 'quantity', 'units', 'minor_text', 'group_text', 'minor', 'major', 'major_text', 'group']]\n",
    "df = df[['survyear', 'hhno', 'minor_text', 'quantity', 'units', 'group_text']]\n",
    "df_purchases = df\n",
    "print \"shape: \", df_purchases.shape\n",
    "print \"Let's look at the very first diary entries from 1995:\"\n",
    "df.head(5)"
   ]
  },
  {
   "cell_type": "code",
   "execution_count": 6,
   "metadata": {
    "collapsed": false
   },
   "outputs": [
    {
     "name": "stdout",
     "output_type": "stream",
     "text": [
      "Purchases: in 1995-2000, 42960 families bought 1581381 items, 243 foods in 24 groups.\n"
     ]
    }
   ],
   "source": [
    "df = df_purchases\n",
    "print \"Purchases: in 1995-2000, {0:4} families bought {1:6} items, {2:3} foods in {3:2} groups.\".\\\n",
    "    format(len(df.hhno.unique()), len(df), len(df.minor_text.unique()), len(df.group_text.unique()))"
   ]
  },
  {
   "cell_type": "markdown",
   "metadata": {},
   "source": [
    "### 2.6. And we know how food-groups are organised\n",
    "\n",
    "Because we'll want to know that for a more detailed analysis later."
   ]
  },
  {
   "cell_type": "code",
   "execution_count": 7,
   "metadata": {
    "collapsed": false
   },
   "outputs": [
    {
     "data": {
      "text/html": [
       "<div>\n",
       "<table border=\"1\" class=\"dataframe\">\n",
       "  <thead>\n",
       "    <tr style=\"text-align: right;\">\n",
       "      <th></th>\n",
       "      <th>minor</th>\n",
       "      <th>minor_text</th>\n",
       "      <th>major</th>\n",
       "      <th>major_text</th>\n",
       "      <th>group</th>\n",
       "      <th>group_text</th>\n",
       "    </tr>\n",
       "  </thead>\n",
       "  <tbody>\n",
       "    <tr>\n",
       "      <th>0</th>\n",
       "      <td>401</td>\n",
       "      <td>MILK  LIQUID  FULL PRICE</td>\n",
       "      <td>4</td>\n",
       "      <td>LIQUID WHOLEMILK, FULL PRICE</td>\n",
       "      <td>4006.0</td>\n",
       "      <td>LIQUID WHOLEMILK, INC SCHOOL &amp; WELFARE</td>\n",
       "    </tr>\n",
       "    <tr>\n",
       "      <th>1</th>\n",
       "      <td>402</td>\n",
       "      <td>UHT LIQUID MILK, FULL PRICE</td>\n",
       "      <td>4</td>\n",
       "      <td>LIQUID WHOLEMILK, FULL PRICE</td>\n",
       "      <td>4006.0</td>\n",
       "      <td>LIQUID WHOLEMILK, INC SCHOOL &amp; WELFARE</td>\n",
       "    </tr>\n",
       "    <tr>\n",
       "      <th>2</th>\n",
       "      <td>403</td>\n",
       "      <td>STERILISED MILK, FULL PRICE</td>\n",
       "      <td>4</td>\n",
       "      <td>LIQUID WHOLEMILK, FULL PRICE</td>\n",
       "      <td>4006.0</td>\n",
       "      <td>LIQUID WHOLEMILK, INC SCHOOL &amp; WELFARE</td>\n",
       "    </tr>\n",
       "    <tr>\n",
       "      <th>3</th>\n",
       "      <td>404</td>\n",
       "      <td>OTHER LIQUID MILK, FULL PRICE</td>\n",
       "      <td>4</td>\n",
       "      <td>LIQUID WHOLEMILK, FULL PRICE</td>\n",
       "      <td>4006.0</td>\n",
       "      <td>LIQUID WHOLEMILK, INC SCHOOL &amp; WELFARE</td>\n",
       "    </tr>\n",
       "    <tr>\n",
       "      <th>4</th>\n",
       "      <td>501</td>\n",
       "      <td>MILK  LIQUID  WELFARE</td>\n",
       "      <td>5</td>\n",
       "      <td>MILK LIQUID WELFARE</td>\n",
       "      <td>4006.0</td>\n",
       "      <td>LIQUID WHOLEMILK, INC SCHOOL &amp; WELFARE</td>\n",
       "    </tr>\n",
       "  </tbody>\n",
       "</table>\n",
       "</div>"
      ],
      "text/plain": [
       "   minor                     minor_text  major                    major_text   group                              group_text\n",
       "0    401       MILK  LIQUID  FULL PRICE      4  LIQUID WHOLEMILK, FULL PRICE  4006.0  LIQUID WHOLEMILK, INC SCHOOL & WELFARE\n",
       "1    402    UHT LIQUID MILK, FULL PRICE      4  LIQUID WHOLEMILK, FULL PRICE  4006.0  LIQUID WHOLEMILK, INC SCHOOL & WELFARE\n",
       "2    403    STERILISED MILK, FULL PRICE      4  LIQUID WHOLEMILK, FULL PRICE  4006.0  LIQUID WHOLEMILK, INC SCHOOL & WELFARE\n",
       "3    404  OTHER LIQUID MILK, FULL PRICE      4  LIQUID WHOLEMILK, FULL PRICE  4006.0  LIQUID WHOLEMILK, INC SCHOOL & WELFARE\n",
       "4    501          MILK  LIQUID  WELFARE      5           MILK LIQUID WELFARE  4006.0  LIQUID WHOLEMILK, INC SCHOOL & WELFARE"
      ]
     },
     "execution_count": 7,
     "metadata": {},
     "output_type": "execute_result"
    }
   ],
   "source": [
    "df = pd.merge(df_min_maj, df_maj_text, how='left', on='major')\n",
    "df = pd.merge(df, df_maj_group, how='left', on='major')\n",
    "df = pd.merge(df, df_grp_text, how='left', on='group')\n",
    "df.head()"
   ]
  },
  {
   "cell_type": "code",
   "execution_count": 8,
   "metadata": {
    "collapsed": false
   },
   "outputs": [
    {
     "name": "stdout",
     "output_type": "stream",
     "text": [
      "Here's the number of food codes per group:\n"
     ]
    },
    {
     "data": {
      "text/plain": [
       "group_text\n",
       "ALCOHOLIC DRINKS                            10\n",
       "ALL BREAD                                   22\n",
       "ALL CARCASE MEAT                            17\n",
       "ALL FATS                                    17\n",
       "ALL FISH                                    19\n",
       "ALL NON-CARCASE MEAT AND MEAT PRODUCTS      50\n",
       "ALL OTHER FOODS                             23\n",
       "ALL PROCESSED VEGETABLES                    22\n",
       "BEVERAGES                                    6\n",
       "BISCUITS, CAKES, BUNS, CRISPBREADS           7\n",
       "CEREALS, EXCL. BREAD,BUNS,CAKES,BISCUITS    33\n",
       "CONFECTIONERY                                6\n",
       "EGGS                                         1\n",
       "FLOUR                                        1\n",
       "FRESH FRUIT                                 10\n",
       "FRESH GREEN VEGETABLES                       7\n",
       "FRUIT & FRUIT PRODS. NOT FRESH               6\n",
       "LIQUID WHOLEMILK, INC SCHOOL & WELFARE       6\n",
       "OTHER FRESH VEGETABLES                       8\n",
       "OTHER MILK & CREAM                          14\n",
       "POTATOES                                    12\n",
       "SOFT DRINKS                                  5\n",
       "SUGAR AND PRESERVES                          5\n",
       "TOTAL CHEESE                                 7\n",
       "Name: minor, dtype: int64"
      ]
     },
     "execution_count": 8,
     "metadata": {},
     "output_type": "execute_result"
    }
   ],
   "source": [
    "print \"Here's the number of food codes per group:\"\n",
    "df.groupby('group_text').minor.nunique()"
   ]
  },
  {
   "cell_type": "code",
   "execution_count": 9,
   "metadata": {
    "collapsed": false
   },
   "outputs": [
    {
     "data": {
      "text/plain": [
       "array(['SOLID CHOCOLATE', 'CHOCOLATE COATED FILLED BAR/SWEETS',\n",
       "       'CHEWING GUM', 'HARD PRESSED MINTS', 'BOILED SWEETS',\n",
       "       'FUDGE, TOFFEES, CARAMELS'], dtype=object)"
      ]
     },
     "execution_count": 9,
     "metadata": {},
     "output_type": "execute_result"
    }
   ],
   "source": [
    "df = df[df.group_text == 'CONFECTIONERY']\n",
    "df.minor_text.unique()"
   ]
  },
  {
   "cell_type": "markdown",
   "metadata": {},
   "source": [
    "## 3. So let's get what was requested\n",
    "\n",
    "\n",
    "### 3.1 Count something interesting\n",
    "\n",
    "Say, quantities of the different food items in the \"CONFECTIONERY\" food group:\n",
    "- number of times each was bought\n",
    "- sum of quantities each was bought"
   ]
  },
  {
   "cell_type": "code",
   "execution_count": 10,
   "metadata": {
    "collapsed": false
   },
   "outputs": [
    {
     "data": {
      "text/html": [
       "<div>\n",
       "<table border=\"1\" class=\"dataframe\">\n",
       "  <thead>\n",
       "    <tr style=\"text-align: right;\">\n",
       "      <th></th>\n",
       "      <th>survyear</th>\n",
       "      <th>hhno</th>\n",
       "      <th>minor_text</th>\n",
       "      <th>quantity</th>\n",
       "      <th>units</th>\n",
       "      <th>group_text</th>\n",
       "    </tr>\n",
       "  </thead>\n",
       "  <tbody>\n",
       "    <tr>\n",
       "      <th>351</th>\n",
       "      <td>1995</td>\n",
       "      <td>224216</td>\n",
       "      <td>CHOCOLATE COATED FILLED BAR/SWEETS</td>\n",
       "      <td>255.0</td>\n",
       "      <td>g</td>\n",
       "      <td>CONFECTIONERY</td>\n",
       "    </tr>\n",
       "    <tr>\n",
       "      <th>352</th>\n",
       "      <td>1995</td>\n",
       "      <td>224216</td>\n",
       "      <td>CHOCOLATE COATED FILLED BAR/SWEETS</td>\n",
       "      <td>426.0</td>\n",
       "      <td>g</td>\n",
       "      <td>CONFECTIONERY</td>\n",
       "    </tr>\n",
       "    <tr>\n",
       "      <th>682</th>\n",
       "      <td>1995</td>\n",
       "      <td>224220</td>\n",
       "      <td>CHOCOLATE COATED FILLED BAR/SWEETS</td>\n",
       "      <td>57.0</td>\n",
       "      <td>g</td>\n",
       "      <td>CONFECTIONERY</td>\n",
       "    </tr>\n",
       "    <tr>\n",
       "      <th>683</th>\n",
       "      <td>1995</td>\n",
       "      <td>224220</td>\n",
       "      <td>SOLID CHOCOLATE</td>\n",
       "      <td>34.0</td>\n",
       "      <td>g</td>\n",
       "      <td>CONFECTIONERY</td>\n",
       "    </tr>\n",
       "    <tr>\n",
       "      <th>684</th>\n",
       "      <td>1995</td>\n",
       "      <td>224220</td>\n",
       "      <td>SOLID CHOCOLATE</td>\n",
       "      <td>59.0</td>\n",
       "      <td>g</td>\n",
       "      <td>CONFECTIONERY</td>\n",
       "    </tr>\n",
       "  </tbody>\n",
       "</table>\n",
       "</div>"
      ],
      "text/plain": [
       "    survyear    hhno                          minor_text  quantity units     group_text\n",
       "351     1995  224216  CHOCOLATE COATED FILLED BAR/SWEETS     255.0     g  CONFECTIONERY\n",
       "352     1995  224216  CHOCOLATE COATED FILLED BAR/SWEETS     426.0     g  CONFECTIONERY\n",
       "682     1995  224220  CHOCOLATE COATED FILLED BAR/SWEETS      57.0     g  CONFECTIONERY\n",
       "683     1995  224220                     SOLID CHOCOLATE      34.0     g  CONFECTIONERY\n",
       "684     1995  224220                     SOLID CHOCOLATE      59.0     g  CONFECTIONERY"
      ]
     },
     "execution_count": 10,
     "metadata": {},
     "output_type": "execute_result"
    }
   ],
   "source": [
    "dfa = df_purchases[df_purchases.group_text == 'CONFECTIONERY']\n",
    "dfa.head()"
   ]
  },
  {
   "cell_type": "code",
   "execution_count": 11,
   "metadata": {
    "collapsed": false
   },
   "outputs": [
    {
     "data": {
      "text/plain": [
       "CHOCOLATE COATED FILLED BAR/SWEETS    15511\n",
       "SOLID CHOCOLATE                        7903\n",
       "BOILED SWEETS                          7068\n",
       "HARD PRESSED MINTS                     1260\n",
       "FUDGE, TOFFEES, CARAMELS               1104\n",
       "CHEWING GUM                             997\n",
       "dtype: int64"
      ]
     },
     "execution_count": 11,
     "metadata": {},
     "output_type": "execute_result"
    }
   ],
   "source": [
    "#dfa.groupby('minor_text').count()\n",
    "pd.value_counts(dfa['minor_text'].values, sort=True)"
   ]
  },
  {
   "cell_type": "code",
   "execution_count": 12,
   "metadata": {
    "collapsed": false
   },
   "outputs": [
    {
     "data": {
      "text/plain": [
       "minor_text\n",
       "CHOCOLATE COATED FILLED BAR/SWEETS    3070426.79\n",
       "SOLID CHOCOLATE                       1314400.60\n",
       "BOILED SWEETS                         1251085.31\n",
       "FUDGE, TOFFEES, CARAMELS               234753.99\n",
       "HARD PRESSED MINTS                     168920.04\n",
       "CHEWING GUM                             57386.31\n",
       "Name: quantity, dtype: float64"
      ]
     },
     "execution_count": 12,
     "metadata": {},
     "output_type": "execute_result"
    }
   ],
   "source": [
    "dfa.groupby('minor_text').quantity.sum().sort_values(ascending = False)"
   ]
  },
  {
   "cell_type": "markdown",
   "metadata": {},
   "source": [
    "So, \"chocolate coated filled bar/sweets\" is bought often and adds up to a sizeable quantity."
   ]
  },
  {
   "cell_type": "markdown",
   "metadata": {},
   "source": [
    "### 3.2. Find some trends: high, low, increase, decrease, anomalies\n",
    "\n",
    "It looks like sliced bread is on the rise, probably because it's more convenient (and easier to make massively?)."
   ]
  },
  {
   "cell_type": "code",
   "execution_count": 13,
   "metadata": {
    "collapsed": false
   },
   "outputs": [
    {
     "data": {
      "text/plain": [
       "BREAD WHITE SLICED STANDARD       29964\n",
       "ROLLS  (EXCL STARCH-REDUCED)      18740\n",
       "BREAD WHITE SLICED PREMIUM        11394\n",
       "BREAD WHOLEMEAL SLICED             8934\n",
       "BREAD WHITE UNSLICED STANDARD      8870\n",
       "BREAD BROWN SLICED                 7813\n",
       "OTHER BREAD                        7711\n",
       "VIENNA BREAD AND FRENCH BREAD      7270\n",
       "BREAD WHOLEMEAL UNSLICED           3382\n",
       "SANDWICHES                         2882\n",
       "BREAD BROWN UNSLICED               2607\n",
       "MALT BREAD AND FRUIT BREAD         2224\n",
       "BREAD WHITE SLICED SOFT GRAIN      1492\n",
       "STARCH REDUCED BREAD AND ROLLS     1350\n",
       "dtype: int64"
      ]
     },
     "execution_count": 13,
     "metadata": {},
     "output_type": "execute_result"
    }
   ],
   "source": [
    "dfb = df_purchases[df_purchases.group_text == 'ALL BREAD']\n",
    "pd.value_counts(dfb['minor_text'].values, sort=True)"
   ]
  },
  {
   "cell_type": "code",
   "execution_count": 14,
   "metadata": {
    "collapsed": false
   },
   "outputs": [
    {
     "data": {
      "text/html": [
       "<div>\n",
       "<table border=\"1\" class=\"dataframe\">\n",
       "  <thead>\n",
       "    <tr style=\"text-align: right;\">\n",
       "      <th>survyear</th>\n",
       "      <th>1995</th>\n",
       "      <th>1996</th>\n",
       "      <th>1997</th>\n",
       "      <th>1998</th>\n",
       "      <th>1999</th>\n",
       "      <th>2000</th>\n",
       "    </tr>\n",
       "    <tr>\n",
       "      <th>minor_text</th>\n",
       "      <th></th>\n",
       "      <th></th>\n",
       "      <th></th>\n",
       "      <th></th>\n",
       "      <th></th>\n",
       "      <th></th>\n",
       "    </tr>\n",
       "  </thead>\n",
       "  <tbody>\n",
       "    <tr>\n",
       "      <th>BREAD BROWN SLICED</th>\n",
       "      <td>38508.86</td>\n",
       "      <td>42884.57</td>\n",
       "      <td>39686.56</td>\n",
       "      <td>33391.53</td>\n",
       "      <td>34574.61</td>\n",
       "      <td>28315.44</td>\n",
       "    </tr>\n",
       "    <tr>\n",
       "      <th>BREAD BROWN UNSLICED</th>\n",
       "      <td>18349.73</td>\n",
       "      <td>12417.08</td>\n",
       "      <td>7915.72</td>\n",
       "      <td>8125.44</td>\n",
       "      <td>7744.91</td>\n",
       "      <td>6493.78</td>\n",
       "    </tr>\n",
       "    <tr>\n",
       "      <th>BREAD WHITE SLICED PREMIUM</th>\n",
       "      <td>20627.99</td>\n",
       "      <td>67740.11</td>\n",
       "      <td>74735.04</td>\n",
       "      <td>78677.81</td>\n",
       "      <td>65658.14</td>\n",
       "      <td>76842.91</td>\n",
       "    </tr>\n",
       "    <tr>\n",
       "      <th>BREAD WHITE SLICED SOFT GRAIN</th>\n",
       "      <td>9591.62</td>\n",
       "      <td>12393.84</td>\n",
       "      <td>8530.91</td>\n",
       "      <td>9748.70</td>\n",
       "      <td>3894.97</td>\n",
       "      <td>4988.53</td>\n",
       "    </tr>\n",
       "    <tr>\n",
       "      <th>BREAD WHITE SLICED STANDARD</th>\n",
       "      <td>239490.54</td>\n",
       "      <td>217394.85</td>\n",
       "      <td>149903.51</td>\n",
       "      <td>149803.48</td>\n",
       "      <td>156009.91</td>\n",
       "      <td>145208.81</td>\n",
       "    </tr>\n",
       "    <tr>\n",
       "      <th>BREAD WHITE UNSLICED STANDARD</th>\n",
       "      <td>48981.42</td>\n",
       "      <td>51537.35</td>\n",
       "      <td>34220.90</td>\n",
       "      <td>32443.81</td>\n",
       "      <td>32419.97</td>\n",
       "      <td>32615.09</td>\n",
       "    </tr>\n",
       "    <tr>\n",
       "      <th>BREAD WHOLEMEAL SLICED</th>\n",
       "      <td>52762.63</td>\n",
       "      <td>61232.04</td>\n",
       "      <td>42417.19</td>\n",
       "      <td>36963.54</td>\n",
       "      <td>39310.32</td>\n",
       "      <td>40399.98</td>\n",
       "    </tr>\n",
       "    <tr>\n",
       "      <th>BREAD WHOLEMEAL UNSLICED</th>\n",
       "      <td>14702.68</td>\n",
       "      <td>15770.06</td>\n",
       "      <td>11609.62</td>\n",
       "      <td>11612.40</td>\n",
       "      <td>12710.28</td>\n",
       "      <td>12537.09</td>\n",
       "    </tr>\n",
       "    <tr>\n",
       "      <th>MALT BREAD AND FRUIT BREAD</th>\n",
       "      <td>4089.96</td>\n",
       "      <td>6319.44</td>\n",
       "      <td>5310.88</td>\n",
       "      <td>4987.48</td>\n",
       "      <td>5297.47</td>\n",
       "      <td>5504.55</td>\n",
       "    </tr>\n",
       "    <tr>\n",
       "      <th>OTHER BREAD</th>\n",
       "      <td>14863.70</td>\n",
       "      <td>20510.50</td>\n",
       "      <td>14965.50</td>\n",
       "      <td>16062.05</td>\n",
       "      <td>16762.12</td>\n",
       "      <td>17533.59</td>\n",
       "    </tr>\n",
       "    <tr>\n",
       "      <th>ROLLS  (EXCL STARCH-REDUCED)</th>\n",
       "      <td>53603.81</td>\n",
       "      <td>53852.84</td>\n",
       "      <td>40324.15</td>\n",
       "      <td>39270.57</td>\n",
       "      <td>38594.64</td>\n",
       "      <td>38348.76</td>\n",
       "    </tr>\n",
       "    <tr>\n",
       "      <th>SANDWICHES</th>\n",
       "      <td>3685.13</td>\n",
       "      <td>3647.07</td>\n",
       "      <td>3056.44</td>\n",
       "      <td>3921.84</td>\n",
       "      <td>3712.79</td>\n",
       "      <td>3200.40</td>\n",
       "    </tr>\n",
       "    <tr>\n",
       "      <th>STARCH REDUCED BREAD AND ROLLS</th>\n",
       "      <td>6974.48</td>\n",
       "      <td>4317.03</td>\n",
       "      <td>3337.92</td>\n",
       "      <td>3517.18</td>\n",
       "      <td>2587.96</td>\n",
       "      <td>3162.51</td>\n",
       "    </tr>\n",
       "    <tr>\n",
       "      <th>VIENNA BREAD AND FRENCH BREAD</th>\n",
       "      <td>16835.48</td>\n",
       "      <td>19153.55</td>\n",
       "      <td>17504.39</td>\n",
       "      <td>16911.26</td>\n",
       "      <td>16755.32</td>\n",
       "      <td>15272.65</td>\n",
       "    </tr>\n",
       "  </tbody>\n",
       "</table>\n",
       "</div>"
      ],
      "text/plain": [
       "survyear                             1995       1996       1997       1998       1999       2000\n",
       "minor_text                                                                                      \n",
       "BREAD BROWN SLICED               38508.86   42884.57   39686.56   33391.53   34574.61   28315.44\n",
       "BREAD BROWN UNSLICED             18349.73   12417.08    7915.72    8125.44    7744.91    6493.78\n",
       "BREAD WHITE SLICED PREMIUM       20627.99   67740.11   74735.04   78677.81   65658.14   76842.91\n",
       "BREAD WHITE SLICED SOFT GRAIN     9591.62   12393.84    8530.91    9748.70    3894.97    4988.53\n",
       "BREAD WHITE SLICED STANDARD     239490.54  217394.85  149903.51  149803.48  156009.91  145208.81\n",
       "BREAD WHITE UNSLICED STANDARD    48981.42   51537.35   34220.90   32443.81   32419.97   32615.09\n",
       "BREAD WHOLEMEAL SLICED           52762.63   61232.04   42417.19   36963.54   39310.32   40399.98\n",
       "BREAD WHOLEMEAL UNSLICED         14702.68   15770.06   11609.62   11612.40   12710.28   12537.09\n",
       "MALT BREAD AND FRUIT BREAD        4089.96    6319.44    5310.88    4987.48    5297.47    5504.55\n",
       "OTHER BREAD                      14863.70   20510.50   14965.50   16062.05   16762.12   17533.59\n",
       "ROLLS  (EXCL STARCH-REDUCED)     53603.81   53852.84   40324.15   39270.57   38594.64   38348.76\n",
       "SANDWICHES                        3685.13    3647.07    3056.44    3921.84    3712.79    3200.40\n",
       "STARCH REDUCED BREAD AND ROLLS    6974.48    4317.03    3337.92    3517.18    2587.96    3162.51\n",
       "VIENNA BREAD AND FRENCH BREAD    16835.48   19153.55   17504.39   16911.26   16755.32   15272.65"
      ]
     },
     "execution_count": 14,
     "metadata": {},
     "output_type": "execute_result"
    }
   ],
   "source": [
    "pd.crosstab(dfb.minor_text, dfb.survyear, values = dfb.quantity, aggfunc=np.sum)"
   ]
  },
  {
   "cell_type": "markdown",
   "metadata": {},
   "source": [
    "### 3.3. Make a bar plot or a histogram"
   ]
  },
  {
   "cell_type": "code",
   "execution_count": 15,
   "metadata": {
    "collapsed": false
   },
   "outputs": [
    {
     "data": {
      "text/plain": [
       "<matplotlib.axes._subplots.AxesSubplot at 0xaa2f634c>"
      ]
     },
     "execution_count": 15,
     "metadata": {},
     "output_type": "execute_result"
    },
    {
     "data": {
      "image/png": "[encoded data removed]",
      "text/plain": [
       "<matplotlib.figure.Figure at 0xaa2f6eec>"
      ]
     },
     "metadata": {},
     "output_type": "display_data"
    }
   ],
   "source": [
    "dfb.minor_text.value_counts().sort_values().plot(kind='barh')\n",
    "#pd.value_counts(dfb['minor_text'].values).plot(kind='barh') #also works"
   ]
  },
  {
   "cell_type": "markdown",
   "metadata": {},
   "source": [
    "### 3.4. Compare two related quantities"
   ]
  },
  {
   "cell_type": "code",
   "execution_count": 16,
   "metadata": {
    "collapsed": true
   },
   "outputs": [],
   "source": [
    "#I don't know what this question means"
   ]
  },
  {
   "cell_type": "markdown",
   "metadata": {},
   "source": [
    "### 3.5. Make a scatterplot"
   ]
  },
  {
   "cell_type": "code",
   "execution_count": 17,
   "metadata": {
    "collapsed": false
   },
   "outputs": [
    {
     "data": {
      "text/plain": [
       "<matplotlib.axes._subplots.AxesSubplot at 0xaa2f64cc>"
      ]
     },
     "execution_count": 17,
     "metadata": {},
     "output_type": "execute_result"
    },
    {
     "data": {
      "image/png": "[encoded data removed]",
      "text/plain": [
       "<matplotlib.figure.Figure at 0xa224cbec>"
      ]
     },
     "metadata": {},
     "output_type": "display_data"
    }
   ],
   "source": [
    "#this dataset only has one numeric variable\n",
    "dfs = dfb.apply(pd.to_numeric, errors='ignore')\n",
    "dfs.plot(x='quantity', y='survyear', kind='scatter')"
   ]
  },
  {
   "cell_type": "markdown",
   "metadata": {},
   "source": [
    "### 3.6. Make a time-series plot"
   ]
  },
  {
   "cell_type": "code",
   "execution_count": 18,
   "metadata": {
    "collapsed": false
   },
   "outputs": [
    {
     "data": {
      "text/plain": [
       "<matplotlib.text.Text at 0x9e870ccc>"
      ]
     },
     "execution_count": 18,
     "metadata": {},
     "output_type": "execute_result"
    },
    {
     "data": {
      "image/png": "[encoded data removed]",
      "text/plain": [
       "<matplotlib.figure.Figure at 0x9f2eaa6c>"
      ]
     },
     "metadata": {},
     "output_type": "display_data"
    }
   ],
   "source": [
    "dfc = dfb[(dfb.minor_text == \"BREAD WHITE SLICED STANDARD\") | (dfb.minor_text == \"BREAD WHITE SLICED PREMIUM\")]\n",
    "pd.crosstab(dfc.survyear, dfc.minor_text, values = dfc.quantity, aggfunc=np.sum).plot(kind='line')\n",
    "plt.title('Comparing the tendencies of 2 types of bread')\n",
    "plt.ylabel('Survey year')"
   ]
  },
  {
   "cell_type": "markdown",
   "metadata": {},
   "source": [
    "### 3.7. Questions, questions, questions ...\n",
    "\n",
    "- Are there some insights? Correlations? A hypothesis I would like to investigate further? Other questions?\n",
    "- An interesting narrative: a way of presenting the insights using text and plots from the above, that tells us a compelling story?\n",
    "- Other trends/relationships that will make it more complete?\n",
    "\n",
    "I'll tell you a story to make my point:\n",
    "\n",
    "I once helped a PhD student who looked at a survey very much like the UK above: ask a number of families what they have bought, and look at food items and food groups and nutrients. I have this very vivid image of a blackboard full of the names of _all food items and all nutrients, and their combinations_, because we had to analyse _everything_.\n",
    "\n",
    "And my role was to help that PhD student to analyse _everything_.\n",
    "\n",
    "Last night I listened to https://www.youtube.com/watch?v=ek05c2HBF7g and came across this notion of \"data journalism\", which gave me a totally different point of view. There's this job of helping people analyse their data, there's the masse of data, and there's the underlying reality. And our stories, if they are to be stories and if they are to be _our_ stories, are not really about data! They are about the underlying reality. That's what we want to understand. And, being human, we can only look at reality one window at a time, one landscape at a time, one car-crash at a time. We want to understand, bit by bit.\n",
    "\n",
    "So, back to this \"food\" business, what was I doing wrong, and how could I proceed differently?\n",
    "\n",
    "I was actively trying not to look at the data itself. I was not interested in the underlying reality. I was passively waiting for some PhD student to tell me what kind of analysis was needed, because I really didn't care about food. I was obviously going nowhere...\n",
    "\n",
    "So now I've looked at http://britains-diet.labs.theodi.org/ and found what has risen over the years: fruits, ready-meals, mushrooms ... In terms of fresh fruits, bananas have taken the place of oranges and apples. I've also thought about the time-frame: what was I doing in 1974, when these surveys started, and in 2000, the last year for which there's raw open data? Has the number of people per family been reduced, and if so, by how much? I had complained about the lack of numerical variables, but I have \"money\": how much families have spent."
   ]
  },
  {
   "cell_type": "code",
   "execution_count": null,
   "metadata": {
    "collapsed": false
   },
   "outputs": [],
   "source": []
  }
 ],
 "metadata": {
  "kernelspec": {
   "display_name": "Python 2",
   "language": "python",
   "name": "python2"
  },
  "language_info": {
   "codemirror_mode": {
    "name": "ipython",
    "version": 2
   },
   "file_extension": ".py",
   "mimetype": "text/x-python",
   "name": "python",
   "nbconvert_exporter": "python",
   "pygments_lexer": "ipython2",
   "version": "2.7.12"
  }
 },
 "nbformat": 4,
 "nbformat_minor": 0
}
