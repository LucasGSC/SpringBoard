{
 "cells": [
  {
   "cell_type": "markdown",
   "metadata": {},
   "source": [
    "# Capstone report 1\n",
    "\n",
    "- _Author: Lucas Gonzalez_\n",
    "- _Date: 14 sept 2016_\n",
    "\n",
    "## 1. Introduction\n",
    "\n",
    "We want to study UK families' shopping-cart, explore whether they buy healthy or unhealthy foods, and look at the factors (demographic, income) that predict each kind of buying style.\n",
    "\n",
    "The client is a governmental entity in charge of promoting healthier styles in relation to food.\n",
    "\n",
    "## 2. Dataset\n",
    "\n",
    "http://britains-diet.labs.theodi.org/ has open data about consumption at the UK level.\n",
    "\n",
    "- 26 years of open data: 1974-2000. (Another website gives data from 2001 onwards, but only summarised information, not open data.)\n",
    "- About 7k households per year, different households every year.\n",
    "- For each household, there are 53 variables. These include the number of female adults, number of male adults, and number of children. Ownership of home/microwave/fridge/etc, and income data are collected at the household level. Work, type of work, income and other descriptors are collected only at the household-owner level.\n",
    "- For each household, the data from a shopping-cart with a week's worth of food was collected: \"3 pints of skimmed milk\", \"4 loaves of brown bread\", etc. Money spent on each item was recorded. Food was described as 300+ different foods, in 24 food-groups. The data for 47 nutrients for each food (for each quarter of each year!) is available.\n",
    "\n",
    "Limitations:\n",
    "- There are ~7000 households surveyed every year, with some methodological changes each year. We don't know if one year's data will be enough for the analysis needed.\n",
    "- The information is at the household level, not at the individual level, so that detailed consumption or recommendations for each age group cannot be derived.\n",
    "- The information is about food bought in a certain week, so school meals and unused food are not counted. (There is some information about \"school milk\".)\n",
    "- The information about nutrients is very detailed (nutrients for each food and for each quarter of each year), which makes its use very cumbersome at least for this project.\n",
    "- The information is about consumption, so the very initial question (see capstone proposal) about production of food, and matching consumption with production, cannot be undertaken at this stage.\n",
    "\n",
    "Cleaning and wrangling needed:\n",
    "- There are files for each year, which have to be joined into one big file. The \"year\" variable had to be added.\n",
    "- The description for coded variables are in external files, one for each variable.\n",
    "- From foods, groups were derived. Quantities (weight, volume) were aggregated for food-groups.\n",
    "\n",
    "## 3. Preliminary exploration\n",
    "\n",
    "See Data Story [https://github.com/LucasGSC/dsi-food-uk/blob/master/food-uk-data-story-2.ipynb].\n",
    "\n",
    "At that stage, I didn't do any hypothesis testing, which I have learned how to do (in Python) in the \"inferential statistics\" exercises [https://github.com/LucasGSC/dsi-food-uk/blob/master/sliderule_dsi_inferential_statistics_exercise_1.ipynb, https://github.com/LucasGSC/dsi-food-uk/blob/master/sliderule_dsi_inferential_statistics_exercise_2.ipynb, https://github.com/LucasGSC/dsi-food-uk/blob/master/sliderule_dsi_inferential_statistics_exercise_3.ipynb].\n",
    "\n",
    "## 4. Further work\n",
    "\n",
    "The approach has changed substantially since the initial proposal [https://github.com/LucasGSC/dsi-food-uk/blob/master/capstone-project-proposal.txt], which was about resilience and matching food consumption and production at the level of Scotland. Now the approach is about making use of the \"shopping-cart\" information at the household level, and see what can we learn about health styles and the related factors.\n",
    "\n",
    "With the food-group information for each family, I will compute a score (\"grams of some good foods / grams of some bad foods\"), categorize it (\"healthier families\", \"less healthy families\"), and then look at which factors (demographical, etc) predict the score and the categories.\n",
    "\n",
    "In the first case, it will be a regression problem or a classification problem."
   ]
  }
 ],
 "metadata": {
  "kernelspec": {
   "display_name": "Python 2",
   "language": "python",
   "name": "python2"
  },
  "language_info": {
   "codemirror_mode": {
    "name": "ipython",
    "version": 2
   },
   "file_extension": ".py",
   "mimetype": "text/x-python",
   "name": "python",
   "nbconvert_exporter": "python",
   "pygments_lexer": "ipython2",
   "version": "2.7.12"
  }
 },
 "nbformat": 4,
 "nbformat_minor": 0
}
